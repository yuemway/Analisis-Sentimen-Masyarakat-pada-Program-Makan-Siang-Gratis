{
 "cells": [
  {
   "cell_type": "code",
   "execution_count": 54,
   "id": "e6687c9f",
   "metadata": {},
   "outputs": [],
   "source": [
    "import pandas as pd"
   ]
  },
  {
   "cell_type": "code",
   "execution_count": 55,
   "id": "b3e60465",
   "metadata": {},
   "outputs": [],
   "source": [
    "datambg = pd.read_csv(\"data/datambg.csv\")"
   ]
  },
  {
   "cell_type": "code",
   "execution_count": 56,
   "id": "5a53dcd4",
   "metadata": {},
   "outputs": [],
   "source": [
    "datasarc = pd.read_csv(\"data/datasarc.csv\")"
   ]
  },
  {
   "cell_type": "code",
   "execution_count": 57,
   "id": "091cd81e",
   "metadata": {},
   "outputs": [],
   "source": [
    "import requests\n",
    "\n",
    "# Unduh kamus leksikon positif dan negatif dari GitHub\n",
    "positive_url = \"https://raw.githubusercontent.com/fajri91/InSet/master/positive.tsv\"\n",
    "negative_url = \"https://raw.githubusercontent.com/fajri91/InSet/master/negative.tsv\"\n",
    "\n",
    "positive_lexicon = set(pd.read_csv(positive_url, sep=\"\\t\", header=None)[0])\n",
    "negative_lexicon = set(pd.read_csv(negative_url, sep=\"\\t\", header=None)[0])\n",
    "\n",
    "# Fungsi untuk menentukan sentimen dan menghitung skornya\n",
    "def determine_sentiment(text):\n",
    "    if isinstance(text, str):\n",
    "        positive_count = sum(1 for word in text.split() if word in positive_lexicon)\n",
    "        negative_count = sum(1 for word in text.split() if word in negative_lexicon)\n",
    "        sentiment_score = positive_count - negative_count\n",
    "        if sentiment_score > 0:\n",
    "            sentiment = \"Positif\"\n",
    "        elif sentiment_score < 0:\n",
    "            sentiment = \"Negatif\"\n",
    "        else:\n",
    "            sentiment = \"Netral\"\n",
    "        return sentiment_score, sentiment\n",
    "    return 0, \"Netral\""
   ]
  },
  {
   "cell_type": "code",
   "execution_count": 58,
   "id": "c0bf71ef",
   "metadata": {},
   "outputs": [],
   "source": [
    "datambg = pd.DataFrame(datambg['steming_data'])"
   ]
  },
  {
   "cell_type": "code",
   "execution_count": 59,
   "id": "e726d267",
   "metadata": {},
   "outputs": [
    {
     "data": {
      "text/html": [
       "<div>\n",
       "<style scoped>\n",
       "    .dataframe tbody tr th:only-of-type {\n",
       "        vertical-align: middle;\n",
       "    }\n",
       "\n",
       "    .dataframe tbody tr th {\n",
       "        vertical-align: top;\n",
       "    }\n",
       "\n",
       "    .dataframe thead th {\n",
       "        text-align: right;\n",
       "    }\n",
       "</style>\n",
       "<table border=\"1\" class=\"dataframe\">\n",
       "  <thead>\n",
       "    <tr style=\"text-align: right;\">\n",
       "      <th></th>\n",
       "      <th>steming_data</th>\n",
       "    </tr>\n",
       "  </thead>\n",
       "  <tbody>\n",
       "    <tr>\n",
       "      <th>0</th>\n",
       "      <td>makan siang gratis mending</td>\n",
       "    </tr>\n",
       "    <tr>\n",
       "      <th>1</th>\n",
       "      <td>bela mbak bias sekolah makan siang gratis pas ...</td>\n",
       "    </tr>\n",
       "    <tr>\n",
       "      <th>2</th>\n",
       "      <td>anggar dituruninnya ngopernya blog ya dicicipi...</td>\n",
       "    </tr>\n",
       "    <tr>\n",
       "      <th>3</th>\n",
       "      <td>karyawan industri cikarang makan siang jemput ...</td>\n",
       "    </tr>\n",
       "    <tr>\n",
       "      <th>4</th>\n",
       "      <td>ambil abang ya makan siang gratis ya abang rol...</td>\n",
       "    </tr>\n",
       "  </tbody>\n",
       "</table>\n",
       "</div>"
      ],
      "text/plain": [
       "                                        steming_data\n",
       "0                         makan siang gratis mending\n",
       "1  bela mbak bias sekolah makan siang gratis pas ...\n",
       "2  anggar dituruninnya ngopernya blog ya dicicipi...\n",
       "3  karyawan industri cikarang makan siang jemput ...\n",
       "4  ambil abang ya makan siang gratis ya abang rol..."
      ]
     },
     "execution_count": 59,
     "metadata": {},
     "output_type": "execute_result"
    }
   ],
   "source": [
    "datambg.head()"
   ]
  },
  {
   "cell_type": "code",
   "execution_count": 60,
   "id": "290ab6e3",
   "metadata": {},
   "outputs": [],
   "source": [
    "datambg[['Score', 'Sentiment']] = datambg['steming_data'].apply(lambda x: pd.Series(determine_sentiment(x)))"
   ]
  },
  {
   "cell_type": "code",
   "execution_count": 61,
   "id": "4f211e50",
   "metadata": {},
   "outputs": [
    {
     "data": {
      "text/html": [
       "<div>\n",
       "<style scoped>\n",
       "    .dataframe tbody tr th:only-of-type {\n",
       "        vertical-align: middle;\n",
       "    }\n",
       "\n",
       "    .dataframe tbody tr th {\n",
       "        vertical-align: top;\n",
       "    }\n",
       "\n",
       "    .dataframe thead th {\n",
       "        text-align: right;\n",
       "    }\n",
       "</style>\n",
       "<table border=\"1\" class=\"dataframe\">\n",
       "  <thead>\n",
       "    <tr style=\"text-align: right;\">\n",
       "      <th></th>\n",
       "      <th>steming_data</th>\n",
       "      <th>Score</th>\n",
       "      <th>Sentiment</th>\n",
       "    </tr>\n",
       "  </thead>\n",
       "  <tbody>\n",
       "    <tr>\n",
       "      <th>0</th>\n",
       "      <td>makan siang gratis mending</td>\n",
       "      <td>1</td>\n",
       "      <td>Positif</td>\n",
       "    </tr>\n",
       "    <tr>\n",
       "      <th>1</th>\n",
       "      <td>bela mbak bias sekolah makan siang gratis pas ...</td>\n",
       "      <td>1</td>\n",
       "      <td>Positif</td>\n",
       "    </tr>\n",
       "    <tr>\n",
       "      <th>2</th>\n",
       "      <td>anggar dituruninnya ngopernya blog ya dicicipi...</td>\n",
       "      <td>3</td>\n",
       "      <td>Positif</td>\n",
       "    </tr>\n",
       "    <tr>\n",
       "      <th>3</th>\n",
       "      <td>karyawan industri cikarang makan siang jemput ...</td>\n",
       "      <td>3</td>\n",
       "      <td>Positif</td>\n",
       "    </tr>\n",
       "    <tr>\n",
       "      <th>4</th>\n",
       "      <td>ambil abang ya makan siang gratis ya abang rol...</td>\n",
       "      <td>2</td>\n",
       "      <td>Positif</td>\n",
       "    </tr>\n",
       "  </tbody>\n",
       "</table>\n",
       "</div>"
      ],
      "text/plain": [
       "                                        steming_data  Score Sentiment\n",
       "0                         makan siang gratis mending      1   Positif\n",
       "1  bela mbak bias sekolah makan siang gratis pas ...      1   Positif\n",
       "2  anggar dituruninnya ngopernya blog ya dicicipi...      3   Positif\n",
       "3  karyawan industri cikarang makan siang jemput ...      3   Positif\n",
       "4  ambil abang ya makan siang gratis ya abang rol...      2   Positif"
      ]
     },
     "execution_count": 61,
     "metadata": {},
     "output_type": "execute_result"
    }
   ],
   "source": [
    "datambg.head()"
   ]
  },
  {
   "cell_type": "code",
   "execution_count": 62,
   "id": "eecfdc5b",
   "metadata": {},
   "outputs": [],
   "source": [
    "del datambg['Score']"
   ]
  },
  {
   "cell_type": "code",
   "execution_count": 63,
   "id": "961e87a8",
   "metadata": {},
   "outputs": [
    {
     "data": {
      "text/html": [
       "<div>\n",
       "<style scoped>\n",
       "    .dataframe tbody tr th:only-of-type {\n",
       "        vertical-align: middle;\n",
       "    }\n",
       "\n",
       "    .dataframe tbody tr th {\n",
       "        vertical-align: top;\n",
       "    }\n",
       "\n",
       "    .dataframe thead th {\n",
       "        text-align: right;\n",
       "    }\n",
       "</style>\n",
       "<table border=\"1\" class=\"dataframe\">\n",
       "  <thead>\n",
       "    <tr style=\"text-align: right;\">\n",
       "      <th></th>\n",
       "      <th>steming_data</th>\n",
       "      <th>Sentiment</th>\n",
       "    </tr>\n",
       "  </thead>\n",
       "  <tbody>\n",
       "    <tr>\n",
       "      <th>0</th>\n",
       "      <td>makan siang gratis mending</td>\n",
       "      <td>Positif</td>\n",
       "    </tr>\n",
       "    <tr>\n",
       "      <th>1</th>\n",
       "      <td>bela mbak bias sekolah makan siang gratis pas ...</td>\n",
       "      <td>Positif</td>\n",
       "    </tr>\n",
       "    <tr>\n",
       "      <th>2</th>\n",
       "      <td>anggar dituruninnya ngopernya blog ya dicicipi...</td>\n",
       "      <td>Positif</td>\n",
       "    </tr>\n",
       "    <tr>\n",
       "      <th>3</th>\n",
       "      <td>karyawan industri cikarang makan siang jemput ...</td>\n",
       "      <td>Positif</td>\n",
       "    </tr>\n",
       "    <tr>\n",
       "      <th>4</th>\n",
       "      <td>ambil abang ya makan siang gratis ya abang rol...</td>\n",
       "      <td>Positif</td>\n",
       "    </tr>\n",
       "  </tbody>\n",
       "</table>\n",
       "</div>"
      ],
      "text/plain": [
       "                                        steming_data Sentiment\n",
       "0                         makan siang gratis mending   Positif\n",
       "1  bela mbak bias sekolah makan siang gratis pas ...   Positif\n",
       "2  anggar dituruninnya ngopernya blog ya dicicipi...   Positif\n",
       "3  karyawan industri cikarang makan siang jemput ...   Positif\n",
       "4  ambil abang ya makan siang gratis ya abang rol...   Positif"
      ]
     },
     "execution_count": 63,
     "metadata": {},
     "output_type": "execute_result"
    }
   ],
   "source": [
    "datambg.head()"
   ]
  },
  {
   "cell_type": "code",
   "execution_count": 64,
   "id": "abc7a405",
   "metadata": {},
   "outputs": [
    {
     "data": {
      "text/html": [
       "<div>\n",
       "<style scoped>\n",
       "    .dataframe tbody tr th:only-of-type {\n",
       "        vertical-align: middle;\n",
       "    }\n",
       "\n",
       "    .dataframe tbody tr th {\n",
       "        vertical-align: top;\n",
       "    }\n",
       "\n",
       "    .dataframe thead th {\n",
       "        text-align: right;\n",
       "    }\n",
       "</style>\n",
       "<table border=\"1\" class=\"dataframe\">\n",
       "  <thead>\n",
       "    <tr style=\"text-align: right;\">\n",
       "      <th></th>\n",
       "      <th>steming_data</th>\n",
       "      <th>Sentiment</th>\n",
       "    </tr>\n",
       "  </thead>\n",
       "  <tbody>\n",
       "    <tr>\n",
       "      <th>9164</th>\n",
       "      <td>usaha pulih sebentar program makan siang grati...</td>\n",
       "      <td>Netral</td>\n",
       "    </tr>\n",
       "    <tr>\n",
       "      <th>9165</th>\n",
       "      <td>status program makan siang gratis sumber dana ...</td>\n",
       "      <td>Negatif</td>\n",
       "    </tr>\n",
       "    <tr>\n",
       "      <th>9166</th>\n",
       "      <td>pemkab bima tunggu teknik program makan siang ...</td>\n",
       "      <td>Netral</td>\n",
       "    </tr>\n",
       "    <tr>\n",
       "      <th>9167</th>\n",
       "      <td>program makan siang gizi gratis sumbar januari</td>\n",
       "      <td>Positif</td>\n",
       "    </tr>\n",
       "    <tr>\n",
       "      <th>9168</th>\n",
       "      <td>tahan menteri alas super tolol menteri kabinet...</td>\n",
       "      <td>Netral</td>\n",
       "    </tr>\n",
       "  </tbody>\n",
       "</table>\n",
       "</div>"
      ],
      "text/plain": [
       "                                           steming_data Sentiment\n",
       "9164  usaha pulih sebentar program makan siang grati...    Netral\n",
       "9165  status program makan siang gratis sumber dana ...   Negatif\n",
       "9166  pemkab bima tunggu teknik program makan siang ...    Netral\n",
       "9167     program makan siang gizi gratis sumbar januari   Positif\n",
       "9168  tahan menteri alas super tolol menteri kabinet...    Netral"
      ]
     },
     "execution_count": 64,
     "metadata": {},
     "output_type": "execute_result"
    }
   ],
   "source": [
    "datambg.tail()"
   ]
  },
  {
   "cell_type": "code",
   "execution_count": 65,
   "id": "ac3be47b",
   "metadata": {},
   "outputs": [
    {
     "data": {
      "text/html": [
       "<div>\n",
       "<style scoped>\n",
       "    .dataframe tbody tr th:only-of-type {\n",
       "        vertical-align: middle;\n",
       "    }\n",
       "\n",
       "    .dataframe tbody tr th {\n",
       "        vertical-align: top;\n",
       "    }\n",
       "\n",
       "    .dataframe thead th {\n",
       "        text-align: right;\n",
       "    }\n",
       "</style>\n",
       "<table border=\"1\" class=\"dataframe\">\n",
       "  <thead>\n",
       "    <tr style=\"text-align: right;\">\n",
       "      <th></th>\n",
       "      <th>tweet</th>\n",
       "      <th>tweet_cleaning</th>\n",
       "      <th>tweet_casefolding</th>\n",
       "      <th>normalisasi</th>\n",
       "      <th>label</th>\n",
       "      <th>tokenize</th>\n",
       "      <th>stopword removal</th>\n",
       "      <th>steming_data</th>\n",
       "    </tr>\n",
       "  </thead>\n",
       "  <tbody>\n",
       "    <tr>\n",
       "      <th>0</th>\n",
       "      <td>Terimakasih atas pengkhianatan ini Terimakasih...</td>\n",
       "      <td>Terimakasih atas pengkhianatan ini Terimakasih...</td>\n",
       "      <td>terimakasih khianat terimakasih antipati juang...</td>\n",
       "      <td>terimakasih khianat terimakasih antipati juang...</td>\n",
       "      <td>1</td>\n",
       "      <td>['terimakasih', 'khianat', 'terimakasih', 'ant...</td>\n",
       "      <td>['terimakasih', 'khianat', 'terimakasih', 'ant...</td>\n",
       "      <td>terimakasih khianat terimakasih antipati juang...</td>\n",
       "    </tr>\n",
       "    <tr>\n",
       "      <th>1</th>\n",
       "      <td>Stlh Kerajaan Kerathon Sejagad kini ada lg SUN...</td>\n",
       "      <td>Stlh Kerajaan Kerathon Sejagad kini ada lg SUN...</td>\n",
       "      <td>stlh raja kerathon sejagad lg sunda empire tol...</td>\n",
       "      <td>setelah raja kerathon sejagad lagi sunda empir...</td>\n",
       "      <td>1</td>\n",
       "      <td>['setelah', 'raja', 'kerathon', 'sejagad', 'la...</td>\n",
       "      <td>['raja', 'kerathon', 'sejagad', 'sunda', 'empi...</td>\n",
       "      <td>raja kerathon sejagad sunda empire tolol hqq</td>\n",
       "    </tr>\n",
       "    <tr>\n",
       "      <th>2</th>\n",
       "      <td>Horeeee......?????? Mantaaab ?? Kelakuan bejat...</td>\n",
       "      <td>Horeeee Mantaaab Kelakuan bejat Andre Dengan m...</td>\n",
       "      <td>horeeee mantaaab laku bejat andre jebak nn ser...</td>\n",
       "      <td>horeeee mantaaab laku bejat andre jebak nn ser...</td>\n",
       "      <td>1</td>\n",
       "      <td>['horeeee', 'mantaaab', 'laku', 'bejat', 'andr...</td>\n",
       "      <td>['horeeee', 'mantaaab', 'laku', 'bejat', 'andr...</td>\n",
       "      <td>horeeee mantaaab laku bejat andre jebak nn ser...</td>\n",
       "    </tr>\n",
       "    <tr>\n",
       "      <th>3</th>\n",
       "      <td>Partai Allah mah Bebas Sajadahpun boleh diinja...</td>\n",
       "      <td>Partai Allah mah Bebas Sajadahpun boleh diinja...</td>\n",
       "      <td>partai allah mah bebas sajadah diinjak2 hashtag</td>\n",
       "      <td>partai allah mah bebas sajadah diinjak2 hashtag</td>\n",
       "      <td>1</td>\n",
       "      <td>['partai', 'allah', 'mah', 'bebas', 'sajadah',...</td>\n",
       "      <td>['partai', 'allah', 'mah', 'bebas', 'sajadah',...</td>\n",
       "      <td>partai allah mah bebas sajadah diinjak2 hashtag</td>\n",
       "    </tr>\n",
       "    <tr>\n",
       "      <th>4</th>\n",
       "      <td>Buat para pembenci Selamat anda dipimpin oleh ...</td>\n",
       "      <td>Buat para pembenci Selamat anda dipimpin oleh ...</td>\n",
       "      <td>benci selamat pimpin orang benci selamat nikma...</td>\n",
       "      <td>benci selamat pimpin orang benci selamat nikma...</td>\n",
       "      <td>1</td>\n",
       "      <td>['benci', 'selamat', 'pimpin', 'orang', 'benci...</td>\n",
       "      <td>['benci', 'selamat', 'pimpin', 'orang', 'benci...</td>\n",
       "      <td>benci selamat pimpin orang benci selamat nikma...</td>\n",
       "    </tr>\n",
       "  </tbody>\n",
       "</table>\n",
       "</div>"
      ],
      "text/plain": [
       "                                               tweet  \\\n",
       "0  Terimakasih atas pengkhianatan ini Terimakasih...   \n",
       "1  Stlh Kerajaan Kerathon Sejagad kini ada lg SUN...   \n",
       "2  Horeeee......?????? Mantaaab ?? Kelakuan bejat...   \n",
       "3  Partai Allah mah Bebas Sajadahpun boleh diinja...   \n",
       "4  Buat para pembenci Selamat anda dipimpin oleh ...   \n",
       "\n",
       "                                      tweet_cleaning  \\\n",
       "0  Terimakasih atas pengkhianatan ini Terimakasih...   \n",
       "1  Stlh Kerajaan Kerathon Sejagad kini ada lg SUN...   \n",
       "2  Horeeee Mantaaab Kelakuan bejat Andre Dengan m...   \n",
       "3  Partai Allah mah Bebas Sajadahpun boleh diinja...   \n",
       "4  Buat para pembenci Selamat anda dipimpin oleh ...   \n",
       "\n",
       "                                   tweet_casefolding  \\\n",
       "0  terimakasih khianat terimakasih antipati juang...   \n",
       "1  stlh raja kerathon sejagad lg sunda empire tol...   \n",
       "2  horeeee mantaaab laku bejat andre jebak nn ser...   \n",
       "3    partai allah mah bebas sajadah diinjak2 hashtag   \n",
       "4  benci selamat pimpin orang benci selamat nikma...   \n",
       "\n",
       "                                         normalisasi  label  \\\n",
       "0  terimakasih khianat terimakasih antipati juang...      1   \n",
       "1  setelah raja kerathon sejagad lagi sunda empir...      1   \n",
       "2  horeeee mantaaab laku bejat andre jebak nn ser...      1   \n",
       "3    partai allah mah bebas sajadah diinjak2 hashtag      1   \n",
       "4  benci selamat pimpin orang benci selamat nikma...      1   \n",
       "\n",
       "                                            tokenize  \\\n",
       "0  ['terimakasih', 'khianat', 'terimakasih', 'ant...   \n",
       "1  ['setelah', 'raja', 'kerathon', 'sejagad', 'la...   \n",
       "2  ['horeeee', 'mantaaab', 'laku', 'bejat', 'andr...   \n",
       "3  ['partai', 'allah', 'mah', 'bebas', 'sajadah',...   \n",
       "4  ['benci', 'selamat', 'pimpin', 'orang', 'benci...   \n",
       "\n",
       "                                    stopword removal  \\\n",
       "0  ['terimakasih', 'khianat', 'terimakasih', 'ant...   \n",
       "1  ['raja', 'kerathon', 'sejagad', 'sunda', 'empi...   \n",
       "2  ['horeeee', 'mantaaab', 'laku', 'bejat', 'andr...   \n",
       "3  ['partai', 'allah', 'mah', 'bebas', 'sajadah',...   \n",
       "4  ['benci', 'selamat', 'pimpin', 'orang', 'benci...   \n",
       "\n",
       "                                        steming_data  \n",
       "0  terimakasih khianat terimakasih antipati juang...  \n",
       "1       raja kerathon sejagad sunda empire tolol hqq  \n",
       "2  horeeee mantaaab laku bejat andre jebak nn ser...  \n",
       "3    partai allah mah bebas sajadah diinjak2 hashtag  \n",
       "4  benci selamat pimpin orang benci selamat nikma...  "
      ]
     },
     "execution_count": 65,
     "metadata": {},
     "output_type": "execute_result"
    }
   ],
   "source": [
    "datasarc.head()"
   ]
  },
  {
   "cell_type": "code",
   "execution_count": 66,
   "id": "4e5567bf",
   "metadata": {},
   "outputs": [],
   "source": [
    "datasarcastic = datasarc[['steming_data', 'label']]"
   ]
  },
  {
   "cell_type": "code",
   "execution_count": 67,
   "id": "6e13da08",
   "metadata": {},
   "outputs": [
    {
     "name": "stderr",
     "output_type": "stream",
     "text": [
      "C:\\Users\\UMMY\\AppData\\Local\\Temp\\ipykernel_20076\\3256700592.py:1: SettingWithCopyWarning: \n",
      "A value is trying to be set on a copy of a slice from a DataFrame.\n",
      "Try using .loc[row_indexer,col_indexer] = value instead\n",
      "\n",
      "See the caveats in the documentation: https://pandas.pydata.org/pandas-docs/stable/user_guide/indexing.html#returning-a-view-versus-a-copy\n",
      "  datasarcastic['label'] = datasarcastic['label'].replace({1: 'Negatif'})\n"
     ]
    }
   ],
   "source": [
    "datasarcastic['label'] = datasarcastic['label'].replace({1: 'Negatif'})"
   ]
  },
  {
   "cell_type": "code",
   "execution_count": 68,
   "id": "3a69a91e",
   "metadata": {},
   "outputs": [],
   "source": [
    "datasarcastic2 = datasarcastic.rename(columns={'label': 'Sentiment'})"
   ]
  },
  {
   "cell_type": "code",
   "execution_count": 69,
   "id": "0b89d879",
   "metadata": {},
   "outputs": [
    {
     "data": {
      "text/html": [
       "<div>\n",
       "<style scoped>\n",
       "    .dataframe tbody tr th:only-of-type {\n",
       "        vertical-align: middle;\n",
       "    }\n",
       "\n",
       "    .dataframe tbody tr th {\n",
       "        vertical-align: top;\n",
       "    }\n",
       "\n",
       "    .dataframe thead th {\n",
       "        text-align: right;\n",
       "    }\n",
       "</style>\n",
       "<table border=\"1\" class=\"dataframe\">\n",
       "  <thead>\n",
       "    <tr style=\"text-align: right;\">\n",
       "      <th></th>\n",
       "      <th>steming_data</th>\n",
       "      <th>Sentiment</th>\n",
       "    </tr>\n",
       "  </thead>\n",
       "  <tbody>\n",
       "    <tr>\n",
       "      <th>0</th>\n",
       "      <td>terimakasih khianat terimakasih antipati juang...</td>\n",
       "      <td>Negatif</td>\n",
       "    </tr>\n",
       "    <tr>\n",
       "      <th>1</th>\n",
       "      <td>raja kerathon sejagad sunda empire tolol hqq</td>\n",
       "      <td>Negatif</td>\n",
       "    </tr>\n",
       "    <tr>\n",
       "      <th>2</th>\n",
       "      <td>horeeee mantaaab laku bejat andre jebak nn ser...</td>\n",
       "      <td>Negatif</td>\n",
       "    </tr>\n",
       "    <tr>\n",
       "      <th>3</th>\n",
       "      <td>partai allah mah bebas sajadah diinjak2 hashtag</td>\n",
       "      <td>Negatif</td>\n",
       "    </tr>\n",
       "    <tr>\n",
       "      <th>4</th>\n",
       "      <td>benci selamat pimpin orang benci selamat nikma...</td>\n",
       "      <td>Negatif</td>\n",
       "    </tr>\n",
       "  </tbody>\n",
       "</table>\n",
       "</div>"
      ],
      "text/plain": [
       "                                        steming_data Sentiment\n",
       "0  terimakasih khianat terimakasih antipati juang...   Negatif\n",
       "1       raja kerathon sejagad sunda empire tolol hqq   Negatif\n",
       "2  horeeee mantaaab laku bejat andre jebak nn ser...   Negatif\n",
       "3    partai allah mah bebas sajadah diinjak2 hashtag   Negatif\n",
       "4  benci selamat pimpin orang benci selamat nikma...   Negatif"
      ]
     },
     "execution_count": 69,
     "metadata": {},
     "output_type": "execute_result"
    }
   ],
   "source": [
    "datasarcastic2.head()"
   ]
  },
  {
   "cell_type": "code",
   "execution_count": 70,
   "id": "f0285c96",
   "metadata": {},
   "outputs": [],
   "source": [
    "datambg.to_csv(\"datalabel/mbglabel.csv\", index=False)"
   ]
  },
  {
   "cell_type": "code",
   "execution_count": 71,
   "id": "ea3f2321",
   "metadata": {},
   "outputs": [],
   "source": [
    "datasarcastic2.to_csv(\"datalabel/sarcasticlabel.csv\", index=False)"
   ]
  }
 ],
 "metadata": {
  "kernelspec": {
   "display_name": "base",
   "language": "python",
   "name": "python3"
  },
  "language_info": {
   "codemirror_mode": {
    "name": "ipython",
    "version": 3
   },
   "file_extension": ".py",
   "mimetype": "text/x-python",
   "name": "python",
   "nbconvert_exporter": "python",
   "pygments_lexer": "ipython3",
   "version": "3.12.7"
  }
 },
 "nbformat": 4,
 "nbformat_minor": 5
}
