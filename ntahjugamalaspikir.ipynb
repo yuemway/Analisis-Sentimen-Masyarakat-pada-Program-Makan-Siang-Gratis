{
 "cells": [
  {
   "cell_type": "code",
   "execution_count": 48,
   "id": "e6687c9f",
   "metadata": {},
   "outputs": [],
   "source": [
    "import pandas as pd"
   ]
  },
  {
   "cell_type": "code",
   "execution_count": 49,
   "id": "b3e60465",
   "metadata": {},
   "outputs": [],
   "source": [
    "datambg = pd.read_csv(\"data/datambg.csv\")"
   ]
  },
  {
   "cell_type": "code",
   "execution_count": 50,
   "id": "5a53dcd4",
   "metadata": {},
   "outputs": [],
   "source": [
    "datasarc = pd.read_csv(\"data/datasarc.csv\")"
   ]
  },
  {
   "cell_type": "code",
   "execution_count": 51,
   "id": "f75c55c6",
   "metadata": {},
   "outputs": [],
   "source": [
    "datastest = pd.read_csv(\"data/datatest.csv\")"
   ]
  },
  {
   "cell_type": "code",
   "execution_count": 52,
   "id": "091cd81e",
   "metadata": {},
   "outputs": [],
   "source": [
    "import requests\n",
    "\n",
    "# Unduh kamus leksikon positif dan negatif dari GitHub\n",
    "positive_url = \"https://raw.githubusercontent.com/fajri91/InSet/master/positive.tsv\"\n",
    "negative_url = \"https://raw.githubusercontent.com/fajri91/InSet/master/negative.tsv\"\n",
    "\n",
    "positive_lexicon = set(pd.read_csv(positive_url, sep=\"\\t\", header=None)[0])\n",
    "negative_lexicon = set(pd.read_csv(negative_url, sep=\"\\t\", header=None)[0])\n",
    "\n",
    "# Fungsi untuk menentukan sentimen dan menghitung skornya\n",
    "def determine_sentiment(text):\n",
    "    if isinstance(text, str):\n",
    "        positive_count = sum(1 for word in text.split() if word in positive_lexicon)\n",
    "        negative_count = sum(1 for word in text.split() if word in negative_lexicon)\n",
    "        sentiment_score = positive_count - negative_count\n",
    "        if sentiment_score > 0:\n",
    "            sentiment = \"Positif\"\n",
    "        elif sentiment_score < 0:\n",
    "            sentiment = \"Negatif\"\n",
    "        else:\n",
    "            sentiment = \"Netral\"\n",
    "        return sentiment_score, sentiment\n",
    "    return 0, \"Netral\""
   ]
  },
  {
   "cell_type": "code",
   "execution_count": 53,
   "id": "c0bf71ef",
   "metadata": {},
   "outputs": [],
   "source": [
    "datambg = pd.DataFrame(datambg['steming_data'])"
   ]
  },
  {
   "cell_type": "code",
   "execution_count": 54,
   "id": "e726d267",
   "metadata": {},
   "outputs": [
    {
     "data": {
      "text/html": [
       "<div>\n",
       "<style scoped>\n",
       "    .dataframe tbody tr th:only-of-type {\n",
       "        vertical-align: middle;\n",
       "    }\n",
       "\n",
       "    .dataframe tbody tr th {\n",
       "        vertical-align: top;\n",
       "    }\n",
       "\n",
       "    .dataframe thead th {\n",
       "        text-align: right;\n",
       "    }\n",
       "</style>\n",
       "<table border=\"1\" class=\"dataframe\">\n",
       "  <thead>\n",
       "    <tr style=\"text-align: right;\">\n",
       "      <th></th>\n",
       "      <th>steming_data</th>\n",
       "    </tr>\n",
       "  </thead>\n",
       "  <tbody>\n",
       "    <tr>\n",
       "      <th>0</th>\n",
       "      <td>makan siang gratis mending</td>\n",
       "    </tr>\n",
       "    <tr>\n",
       "      <th>1</th>\n",
       "      <td>bela mbak bias sekolah makan siang gratis pas ...</td>\n",
       "    </tr>\n",
       "    <tr>\n",
       "      <th>2</th>\n",
       "      <td>anggar dituruninnya ngopernya blog ya dicicipi...</td>\n",
       "    </tr>\n",
       "    <tr>\n",
       "      <th>3</th>\n",
       "      <td>karyawan industri cikarang makan siang jemput ...</td>\n",
       "    </tr>\n",
       "    <tr>\n",
       "      <th>4</th>\n",
       "      <td>ambil abang ya makan siang gratis ya abang rol...</td>\n",
       "    </tr>\n",
       "  </tbody>\n",
       "</table>\n",
       "</div>"
      ],
      "text/plain": [
       "                                        steming_data\n",
       "0                         makan siang gratis mending\n",
       "1  bela mbak bias sekolah makan siang gratis pas ...\n",
       "2  anggar dituruninnya ngopernya blog ya dicicipi...\n",
       "3  karyawan industri cikarang makan siang jemput ...\n",
       "4  ambil abang ya makan siang gratis ya abang rol..."
      ]
     },
     "execution_count": 54,
     "metadata": {},
     "output_type": "execute_result"
    }
   ],
   "source": [
    "datambg.head()"
   ]
  },
  {
   "cell_type": "code",
   "execution_count": 55,
   "id": "290ab6e3",
   "metadata": {},
   "outputs": [],
   "source": [
    "datambg[['Score', 'Sentiment']] = datambg['steming_data'].apply(lambda x: pd.Series(determine_sentiment(x)))"
   ]
  },
  {
   "cell_type": "code",
   "execution_count": 56,
   "id": "4f211e50",
   "metadata": {},
   "outputs": [
    {
     "data": {
      "text/html": [
       "<div>\n",
       "<style scoped>\n",
       "    .dataframe tbody tr th:only-of-type {\n",
       "        vertical-align: middle;\n",
       "    }\n",
       "\n",
       "    .dataframe tbody tr th {\n",
       "        vertical-align: top;\n",
       "    }\n",
       "\n",
       "    .dataframe thead th {\n",
       "        text-align: right;\n",
       "    }\n",
       "</style>\n",
       "<table border=\"1\" class=\"dataframe\">\n",
       "  <thead>\n",
       "    <tr style=\"text-align: right;\">\n",
       "      <th></th>\n",
       "      <th>steming_data</th>\n",
       "      <th>Score</th>\n",
       "      <th>Sentiment</th>\n",
       "    </tr>\n",
       "  </thead>\n",
       "  <tbody>\n",
       "    <tr>\n",
       "      <th>0</th>\n",
       "      <td>makan siang gratis mending</td>\n",
       "      <td>1</td>\n",
       "      <td>Positif</td>\n",
       "    </tr>\n",
       "    <tr>\n",
       "      <th>1</th>\n",
       "      <td>bela mbak bias sekolah makan siang gratis pas ...</td>\n",
       "      <td>1</td>\n",
       "      <td>Positif</td>\n",
       "    </tr>\n",
       "    <tr>\n",
       "      <th>2</th>\n",
       "      <td>anggar dituruninnya ngopernya blog ya dicicipi...</td>\n",
       "      <td>3</td>\n",
       "      <td>Positif</td>\n",
       "    </tr>\n",
       "    <tr>\n",
       "      <th>3</th>\n",
       "      <td>karyawan industri cikarang makan siang jemput ...</td>\n",
       "      <td>3</td>\n",
       "      <td>Positif</td>\n",
       "    </tr>\n",
       "    <tr>\n",
       "      <th>4</th>\n",
       "      <td>ambil abang ya makan siang gratis ya abang rol...</td>\n",
       "      <td>2</td>\n",
       "      <td>Positif</td>\n",
       "    </tr>\n",
       "  </tbody>\n",
       "</table>\n",
       "</div>"
      ],
      "text/plain": [
       "                                        steming_data  Score Sentiment\n",
       "0                         makan siang gratis mending      1   Positif\n",
       "1  bela mbak bias sekolah makan siang gratis pas ...      1   Positif\n",
       "2  anggar dituruninnya ngopernya blog ya dicicipi...      3   Positif\n",
       "3  karyawan industri cikarang makan siang jemput ...      3   Positif\n",
       "4  ambil abang ya makan siang gratis ya abang rol...      2   Positif"
      ]
     },
     "execution_count": 56,
     "metadata": {},
     "output_type": "execute_result"
    }
   ],
   "source": [
    "datambg.head()"
   ]
  },
  {
   "cell_type": "code",
   "execution_count": 57,
   "id": "eecfdc5b",
   "metadata": {},
   "outputs": [],
   "source": [
    "del datambg['Score']"
   ]
  },
  {
   "cell_type": "code",
   "execution_count": 58,
   "id": "961e87a8",
   "metadata": {},
   "outputs": [
    {
     "data": {
      "text/html": [
       "<div>\n",
       "<style scoped>\n",
       "    .dataframe tbody tr th:only-of-type {\n",
       "        vertical-align: middle;\n",
       "    }\n",
       "\n",
       "    .dataframe tbody tr th {\n",
       "        vertical-align: top;\n",
       "    }\n",
       "\n",
       "    .dataframe thead th {\n",
       "        text-align: right;\n",
       "    }\n",
       "</style>\n",
       "<table border=\"1\" class=\"dataframe\">\n",
       "  <thead>\n",
       "    <tr style=\"text-align: right;\">\n",
       "      <th></th>\n",
       "      <th>steming_data</th>\n",
       "      <th>Sentiment</th>\n",
       "    </tr>\n",
       "  </thead>\n",
       "  <tbody>\n",
       "    <tr>\n",
       "      <th>0</th>\n",
       "      <td>makan siang gratis mending</td>\n",
       "      <td>Positif</td>\n",
       "    </tr>\n",
       "    <tr>\n",
       "      <th>1</th>\n",
       "      <td>bela mbak bias sekolah makan siang gratis pas ...</td>\n",
       "      <td>Positif</td>\n",
       "    </tr>\n",
       "    <tr>\n",
       "      <th>2</th>\n",
       "      <td>anggar dituruninnya ngopernya blog ya dicicipi...</td>\n",
       "      <td>Positif</td>\n",
       "    </tr>\n",
       "    <tr>\n",
       "      <th>3</th>\n",
       "      <td>karyawan industri cikarang makan siang jemput ...</td>\n",
       "      <td>Positif</td>\n",
       "    </tr>\n",
       "    <tr>\n",
       "      <th>4</th>\n",
       "      <td>ambil abang ya makan siang gratis ya abang rol...</td>\n",
       "      <td>Positif</td>\n",
       "    </tr>\n",
       "  </tbody>\n",
       "</table>\n",
       "</div>"
      ],
      "text/plain": [
       "                                        steming_data Sentiment\n",
       "0                         makan siang gratis mending   Positif\n",
       "1  bela mbak bias sekolah makan siang gratis pas ...   Positif\n",
       "2  anggar dituruninnya ngopernya blog ya dicicipi...   Positif\n",
       "3  karyawan industri cikarang makan siang jemput ...   Positif\n",
       "4  ambil abang ya makan siang gratis ya abang rol...   Positif"
      ]
     },
     "execution_count": 58,
     "metadata": {},
     "output_type": "execute_result"
    }
   ],
   "source": [
    "datambg.head()"
   ]
  },
  {
   "cell_type": "code",
   "execution_count": 61,
   "id": "abc7a405",
   "metadata": {},
   "outputs": [
    {
     "data": {
      "text/html": [
       "<div>\n",
       "<style scoped>\n",
       "    .dataframe tbody tr th:only-of-type {\n",
       "        vertical-align: middle;\n",
       "    }\n",
       "\n",
       "    .dataframe tbody tr th {\n",
       "        vertical-align: top;\n",
       "    }\n",
       "\n",
       "    .dataframe thead th {\n",
       "        text-align: right;\n",
       "    }\n",
       "</style>\n",
       "<table border=\"1\" class=\"dataframe\">\n",
       "  <thead>\n",
       "    <tr style=\"text-align: right;\">\n",
       "      <th></th>\n",
       "      <th>steming_data</th>\n",
       "      <th>Sentiment</th>\n",
       "    </tr>\n",
       "  </thead>\n",
       "  <tbody>\n",
       "    <tr>\n",
       "      <th>9164</th>\n",
       "      <td>usaha pulih sebentar program makan siang grati...</td>\n",
       "      <td>Netral</td>\n",
       "    </tr>\n",
       "    <tr>\n",
       "      <th>9165</th>\n",
       "      <td>status program makan siang gratis sumber dana ...</td>\n",
       "      <td>Negatif</td>\n",
       "    </tr>\n",
       "    <tr>\n",
       "      <th>9166</th>\n",
       "      <td>pemkab bima tunggu teknik program makan siang ...</td>\n",
       "      <td>Netral</td>\n",
       "    </tr>\n",
       "    <tr>\n",
       "      <th>9167</th>\n",
       "      <td>program makan siang gizi gratis sumbar januari</td>\n",
       "      <td>Positif</td>\n",
       "    </tr>\n",
       "    <tr>\n",
       "      <th>9168</th>\n",
       "      <td>tahan menteri alas super tolol menteri kabinet...</td>\n",
       "      <td>Netral</td>\n",
       "    </tr>\n",
       "  </tbody>\n",
       "</table>\n",
       "</div>"
      ],
      "text/plain": [
       "                                           steming_data Sentiment\n",
       "9164  usaha pulih sebentar program makan siang grati...    Netral\n",
       "9165  status program makan siang gratis sumber dana ...   Negatif\n",
       "9166  pemkab bima tunggu teknik program makan siang ...    Netral\n",
       "9167     program makan siang gizi gratis sumbar januari   Positif\n",
       "9168  tahan menteri alas super tolol menteri kabinet...    Netral"
      ]
     },
     "execution_count": 61,
     "metadata": {},
     "output_type": "execute_result"
    }
   ],
   "source": [
    "datambg.tail()"
   ]
  },
  {
   "cell_type": "code",
   "execution_count": 60,
   "id": "ac3be47b",
   "metadata": {},
   "outputs": [
    {
     "data": {
      "text/html": [
       "<div>\n",
       "<style scoped>\n",
       "    .dataframe tbody tr th:only-of-type {\n",
       "        vertical-align: middle;\n",
       "    }\n",
       "\n",
       "    .dataframe tbody tr th {\n",
       "        vertical-align: top;\n",
       "    }\n",
       "\n",
       "    .dataframe thead th {\n",
       "        text-align: right;\n",
       "    }\n",
       "</style>\n",
       "<table border=\"1\" class=\"dataframe\">\n",
       "  <thead>\n",
       "    <tr style=\"text-align: right;\">\n",
       "      <th></th>\n",
       "      <th>tweet</th>\n",
       "      <th>tweet_cleaning</th>\n",
       "      <th>tweet_casefolding</th>\n",
       "      <th>normalisasi</th>\n",
       "      <th>label</th>\n",
       "      <th>tokenize</th>\n",
       "      <th>stopword removal</th>\n",
       "      <th>steming_data</th>\n",
       "    </tr>\n",
       "  </thead>\n",
       "  <tbody>\n",
       "    <tr>\n",
       "      <th>0</th>\n",
       "      <td>Terimakasih atas pengkhianatan ini Terimakasih...</td>\n",
       "      <td>Terimakasih atas pengkhianatan ini Terimakasih...</td>\n",
       "      <td>terimakasih khianat terimakasih antipati juang...</td>\n",
       "      <td>terimakasih khianat terimakasih antipati juang...</td>\n",
       "      <td>1</td>\n",
       "      <td>['terimakasih', 'khianat', 'terimakasih', 'ant...</td>\n",
       "      <td>['terimakasih', 'khianat', 'terimakasih', 'ant...</td>\n",
       "      <td>terimakasih khianat terimakasih antipati juang...</td>\n",
       "    </tr>\n",
       "    <tr>\n",
       "      <th>1</th>\n",
       "      <td>Stlh Kerajaan Kerathon Sejagad kini ada lg SUN...</td>\n",
       "      <td>Stlh Kerajaan Kerathon Sejagad kini ada lg SUN...</td>\n",
       "      <td>stlh raja kerathon sejagad lg sunda empire tol...</td>\n",
       "      <td>setelah raja kerathon sejagad lagi sunda empir...</td>\n",
       "      <td>1</td>\n",
       "      <td>['setelah', 'raja', 'kerathon', 'sejagad', 'la...</td>\n",
       "      <td>['raja', 'kerathon', 'sejagad', 'sunda', 'empi...</td>\n",
       "      <td>raja kerathon sejagad sunda empire tolol hqq</td>\n",
       "    </tr>\n",
       "    <tr>\n",
       "      <th>2</th>\n",
       "      <td>Horeeee......?????? Mantaaab ?? Kelakuan bejat...</td>\n",
       "      <td>Horeeee Mantaaab Kelakuan bejat Andre Dengan m...</td>\n",
       "      <td>horeeee mantaaab laku bejat andre jebak nn ser...</td>\n",
       "      <td>horeeee mantaaab laku bejat andre jebak nn ser...</td>\n",
       "      <td>1</td>\n",
       "      <td>['horeeee', 'mantaaab', 'laku', 'bejat', 'andr...</td>\n",
       "      <td>['horeeee', 'mantaaab', 'laku', 'bejat', 'andr...</td>\n",
       "      <td>horeeee mantaaab laku bejat andre jebak nn ser...</td>\n",
       "    </tr>\n",
       "    <tr>\n",
       "      <th>3</th>\n",
       "      <td>Partai Allah mah Bebas Sajadahpun boleh diinja...</td>\n",
       "      <td>Partai Allah mah Bebas Sajadahpun boleh diinja...</td>\n",
       "      <td>partai allah mah bebas sajadah diinjak2 hashtag</td>\n",
       "      <td>partai allah mah bebas sajadah diinjak2 hashtag</td>\n",
       "      <td>1</td>\n",
       "      <td>['partai', 'allah', 'mah', 'bebas', 'sajadah',...</td>\n",
       "      <td>['partai', 'allah', 'mah', 'bebas', 'sajadah',...</td>\n",
       "      <td>partai allah mah bebas sajadah diinjak2 hashtag</td>\n",
       "    </tr>\n",
       "    <tr>\n",
       "      <th>4</th>\n",
       "      <td>Buat para pembenci Selamat anda dipimpin oleh ...</td>\n",
       "      <td>Buat para pembenci Selamat anda dipimpin oleh ...</td>\n",
       "      <td>benci selamat pimpin orang benci selamat nikma...</td>\n",
       "      <td>benci selamat pimpin orang benci selamat nikma...</td>\n",
       "      <td>1</td>\n",
       "      <td>['benci', 'selamat', 'pimpin', 'orang', 'benci...</td>\n",
       "      <td>['benci', 'selamat', 'pimpin', 'orang', 'benci...</td>\n",
       "      <td>benci selamat pimpin orang benci selamat nikma...</td>\n",
       "    </tr>\n",
       "  </tbody>\n",
       "</table>\n",
       "</div>"
      ],
      "text/plain": [
       "                                               tweet  \\\n",
       "0  Terimakasih atas pengkhianatan ini Terimakasih...   \n",
       "1  Stlh Kerajaan Kerathon Sejagad kini ada lg SUN...   \n",
       "2  Horeeee......?????? Mantaaab ?? Kelakuan bejat...   \n",
       "3  Partai Allah mah Bebas Sajadahpun boleh diinja...   \n",
       "4  Buat para pembenci Selamat anda dipimpin oleh ...   \n",
       "\n",
       "                                      tweet_cleaning  \\\n",
       "0  Terimakasih atas pengkhianatan ini Terimakasih...   \n",
       "1  Stlh Kerajaan Kerathon Sejagad kini ada lg SUN...   \n",
       "2  Horeeee Mantaaab Kelakuan bejat Andre Dengan m...   \n",
       "3  Partai Allah mah Bebas Sajadahpun boleh diinja...   \n",
       "4  Buat para pembenci Selamat anda dipimpin oleh ...   \n",
       "\n",
       "                                   tweet_casefolding  \\\n",
       "0  terimakasih khianat terimakasih antipati juang...   \n",
       "1  stlh raja kerathon sejagad lg sunda empire tol...   \n",
       "2  horeeee mantaaab laku bejat andre jebak nn ser...   \n",
       "3    partai allah mah bebas sajadah diinjak2 hashtag   \n",
       "4  benci selamat pimpin orang benci selamat nikma...   \n",
       "\n",
       "                                         normalisasi  label  \\\n",
       "0  terimakasih khianat terimakasih antipati juang...      1   \n",
       "1  setelah raja kerathon sejagad lagi sunda empir...      1   \n",
       "2  horeeee mantaaab laku bejat andre jebak nn ser...      1   \n",
       "3    partai allah mah bebas sajadah diinjak2 hashtag      1   \n",
       "4  benci selamat pimpin orang benci selamat nikma...      1   \n",
       "\n",
       "                                            tokenize  \\\n",
       "0  ['terimakasih', 'khianat', 'terimakasih', 'ant...   \n",
       "1  ['setelah', 'raja', 'kerathon', 'sejagad', 'la...   \n",
       "2  ['horeeee', 'mantaaab', 'laku', 'bejat', 'andr...   \n",
       "3  ['partai', 'allah', 'mah', 'bebas', 'sajadah',...   \n",
       "4  ['benci', 'selamat', 'pimpin', 'orang', 'benci...   \n",
       "\n",
       "                                    stopword removal  \\\n",
       "0  ['terimakasih', 'khianat', 'terimakasih', 'ant...   \n",
       "1  ['raja', 'kerathon', 'sejagad', 'sunda', 'empi...   \n",
       "2  ['horeeee', 'mantaaab', 'laku', 'bejat', 'andr...   \n",
       "3  ['partai', 'allah', 'mah', 'bebas', 'sajadah',...   \n",
       "4  ['benci', 'selamat', 'pimpin', 'orang', 'benci...   \n",
       "\n",
       "                                        steming_data  \n",
       "0  terimakasih khianat terimakasih antipati juang...  \n",
       "1       raja kerathon sejagad sunda empire tolol hqq  \n",
       "2  horeeee mantaaab laku bejat andre jebak nn ser...  \n",
       "3    partai allah mah bebas sajadah diinjak2 hashtag  \n",
       "4  benci selamat pimpin orang benci selamat nikma...  "
      ]
     },
     "execution_count": 60,
     "metadata": {},
     "output_type": "execute_result"
    }
   ],
   "source": [
    "datasarc.head()"
   ]
  },
  {
   "cell_type": "code",
   "execution_count": 75,
   "id": "4e5567bf",
   "metadata": {},
   "outputs": [],
   "source": [
    "datasarcastic = datasarc[['steming_data', 'label']]"
   ]
  },
  {
   "cell_type": "code",
   "execution_count": 76,
   "id": "6e13da08",
   "metadata": {},
   "outputs": [
    {
     "name": "stderr",
     "output_type": "stream",
     "text": [
      "C:\\Users\\UMMY\\AppData\\Local\\Temp\\ipykernel_19912\\3256700592.py:1: SettingWithCopyWarning: \n",
      "A value is trying to be set on a copy of a slice from a DataFrame.\n",
      "Try using .loc[row_indexer,col_indexer] = value instead\n",
      "\n",
      "See the caveats in the documentation: https://pandas.pydata.org/pandas-docs/stable/user_guide/indexing.html#returning-a-view-versus-a-copy\n",
      "  datasarcastic['label'] = datasarcastic['label'].replace({1: 'Negatif'})\n"
     ]
    }
   ],
   "source": [
    "datasarcastic['label'] = datasarcastic['label'].replace({1: 'Negatif'})"
   ]
  },
  {
   "cell_type": "code",
   "execution_count": 77,
   "id": "0b89d879",
   "metadata": {},
   "outputs": [
    {
     "data": {
      "text/html": [
       "<div>\n",
       "<style scoped>\n",
       "    .dataframe tbody tr th:only-of-type {\n",
       "        vertical-align: middle;\n",
       "    }\n",
       "\n",
       "    .dataframe tbody tr th {\n",
       "        vertical-align: top;\n",
       "    }\n",
       "\n",
       "    .dataframe thead th {\n",
       "        text-align: right;\n",
       "    }\n",
       "</style>\n",
       "<table border=\"1\" class=\"dataframe\">\n",
       "  <thead>\n",
       "    <tr style=\"text-align: right;\">\n",
       "      <th></th>\n",
       "      <th>steming_data</th>\n",
       "      <th>label</th>\n",
       "    </tr>\n",
       "  </thead>\n",
       "  <tbody>\n",
       "    <tr>\n",
       "      <th>0</th>\n",
       "      <td>terimakasih khianat terimakasih antipati juang...</td>\n",
       "      <td>Negatif</td>\n",
       "    </tr>\n",
       "    <tr>\n",
       "      <th>1</th>\n",
       "      <td>raja kerathon sejagad sunda empire tolol hqq</td>\n",
       "      <td>Negatif</td>\n",
       "    </tr>\n",
       "    <tr>\n",
       "      <th>2</th>\n",
       "      <td>horeeee mantaaab laku bejat andre jebak nn ser...</td>\n",
       "      <td>Negatif</td>\n",
       "    </tr>\n",
       "    <tr>\n",
       "      <th>3</th>\n",
       "      <td>partai allah mah bebas sajadah diinjak2 hashtag</td>\n",
       "      <td>Negatif</td>\n",
       "    </tr>\n",
       "    <tr>\n",
       "      <th>4</th>\n",
       "      <td>benci selamat pimpin orang benci selamat nikma...</td>\n",
       "      <td>Negatif</td>\n",
       "    </tr>\n",
       "  </tbody>\n",
       "</table>\n",
       "</div>"
      ],
      "text/plain": [
       "                                        steming_data    label\n",
       "0  terimakasih khianat terimakasih antipati juang...  Negatif\n",
       "1       raja kerathon sejagad sunda empire tolol hqq  Negatif\n",
       "2  horeeee mantaaab laku bejat andre jebak nn ser...  Negatif\n",
       "3    partai allah mah bebas sajadah diinjak2 hashtag  Negatif\n",
       "4  benci selamat pimpin orang benci selamat nikma...  Negatif"
      ]
     },
     "execution_count": 77,
     "metadata": {},
     "output_type": "execute_result"
    }
   ],
   "source": [
    "datasarcastic.head()"
   ]
  },
  {
   "cell_type": "code",
   "execution_count": 78,
   "id": "5907b9da",
   "metadata": {},
   "outputs": [
    {
     "data": {
      "text/html": [
       "<div>\n",
       "<style scoped>\n",
       "    .dataframe tbody tr th:only-of-type {\n",
       "        vertical-align: middle;\n",
       "    }\n",
       "\n",
       "    .dataframe tbody tr th {\n",
       "        vertical-align: top;\n",
       "    }\n",
       "\n",
       "    .dataframe thead th {\n",
       "        text-align: right;\n",
       "    }\n",
       "</style>\n",
       "<table border=\"1\" class=\"dataframe\">\n",
       "  <thead>\n",
       "    <tr style=\"text-align: right;\">\n",
       "      <th></th>\n",
       "      <th>tweet</th>\n",
       "      <th>tweet_cleaning</th>\n",
       "      <th>tweet_casefolding</th>\n",
       "      <th>normalisasi</th>\n",
       "      <th>label</th>\n",
       "      <th>tokenize</th>\n",
       "      <th>stopword removal</th>\n",
       "      <th>steming_data</th>\n",
       "    </tr>\n",
       "  </thead>\n",
       "  <tbody>\n",
       "    <tr>\n",
       "      <th>0</th>\n",
       "      <td>saraswati pintar sekali tida belajar dari peng...</td>\n",
       "      <td>saraswati pintar sekali tida belajar dari peng...</td>\n",
       "      <td>saraswati pintar tida ajar alam hufffffffffffff</td>\n",
       "      <td>saraswati pintar tida ajar alam hufffffffffffff</td>\n",
       "      <td>1</td>\n",
       "      <td>['saraswati', 'pintar', 'tida', 'ajar', 'alam'...</td>\n",
       "      <td>['saraswati', 'pintar', 'tida', 'ajar', 'alam'...</td>\n",
       "      <td>saraswati pintar tida ajar alam hufffffffffffff</td>\n",
       "    </tr>\n",
       "    <tr>\n",
       "      <th>1</th>\n",
       "      <td>Menag bicara sola celana cingkrang gak bisa ik...</td>\n",
       "      <td>Menag bicara sola celana cingkrang gak bisa ik...</td>\n",
       "      <td>menag bicara sola celana cingkrang gak atur lh...</td>\n",
       "      <td>menag bicara sola celana cingkrang tidak atur ...</td>\n",
       "      <td>0</td>\n",
       "      <td>['menag', 'bicara', 'sola', 'celana', 'cingkra...</td>\n",
       "      <td>['menag', 'bicara', 'sola', 'celana', 'cingkra...</td>\n",
       "      <td>menag bicara sola celana cingkrang atur loh li...</td>\n",
       "    </tr>\n",
       "    <tr>\n",
       "      <th>2</th>\n",
       "      <td>Koruptor dihukum berat bukannya dikasih kering...</td>\n",
       "      <td>Koruptor dihukum berat bukannya dikasih kering...</td>\n",
       "      <td>koruptor hukum berat kasih ringan hashtag</td>\n",
       "      <td>koruptor hukum berat kasih ringan hashtag</td>\n",
       "      <td>0</td>\n",
       "      <td>['koruptor', 'hukum', 'berat', 'kasih', 'ringa...</td>\n",
       "      <td>['koruptor', 'hukum', 'berat', 'kasih', 'ringa...</td>\n",
       "      <td>koruptor hukum berat kasih ringan hashtag</td>\n",
       "    </tr>\n",
       "    <tr>\n",
       "      <th>3</th>\n",
       "      <td>Belum jadi pemimpin udah bikin hoax gmn kalau ...</td>\n",
       "      <td>Belum jadi pemimpin udah bikin hoax gmn kalau ...</td>\n",
       "      <td>pimpin udah bikin hoax gmn jabat parah</td>\n",
       "      <td>pimpin sudah bikin hoax bagaimana jabat parah</td>\n",
       "      <td>0</td>\n",
       "      <td>['pimpin', 'sudah', 'bikin', 'hoax', 'bagaiman...</td>\n",
       "      <td>['pimpin', 'bikin', 'hoax', 'jabat', 'parah']</td>\n",
       "      <td>pimpin bikin hoax jabat parah</td>\n",
       "    </tr>\n",
       "    <tr>\n",
       "      <th>4</th>\n",
       "      <td>Karena JUJUR membuatku malu dan merasa bersala...</td>\n",
       "      <td>Karena JUJUR membuatku malu dan merasa bersala...</td>\n",
       "      <td>jujur buat malu salah jkw sulit laku</td>\n",
       "      <td>jujur buat malu salah jkw sulit laku</td>\n",
       "      <td>1</td>\n",
       "      <td>['jujur', 'buat', 'malu', 'salah', 'jkw', 'sul...</td>\n",
       "      <td>['jujur', 'malu', 'salah', 'jkw', 'sulit', 'la...</td>\n",
       "      <td>jujur malu salah jkw sulit laku</td>\n",
       "    </tr>\n",
       "  </tbody>\n",
       "</table>\n",
       "</div>"
      ],
      "text/plain": [
       "                                               tweet  \\\n",
       "0  saraswati pintar sekali tida belajar dari peng...   \n",
       "1  Menag bicara sola celana cingkrang gak bisa ik...   \n",
       "2  Koruptor dihukum berat bukannya dikasih kering...   \n",
       "3  Belum jadi pemimpin udah bikin hoax gmn kalau ...   \n",
       "4  Karena JUJUR membuatku malu dan merasa bersala...   \n",
       "\n",
       "                                      tweet_cleaning  \\\n",
       "0  saraswati pintar sekali tida belajar dari peng...   \n",
       "1  Menag bicara sola celana cingkrang gak bisa ik...   \n",
       "2  Koruptor dihukum berat bukannya dikasih kering...   \n",
       "3  Belum jadi pemimpin udah bikin hoax gmn kalau ...   \n",
       "4  Karena JUJUR membuatku malu dan merasa bersala...   \n",
       "\n",
       "                                   tweet_casefolding  \\\n",
       "0    saraswati pintar tida ajar alam hufffffffffffff   \n",
       "1  menag bicara sola celana cingkrang gak atur lh...   \n",
       "2          koruptor hukum berat kasih ringan hashtag   \n",
       "3             pimpin udah bikin hoax gmn jabat parah   \n",
       "4               jujur buat malu salah jkw sulit laku   \n",
       "\n",
       "                                         normalisasi  label  \\\n",
       "0    saraswati pintar tida ajar alam hufffffffffffff      1   \n",
       "1  menag bicara sola celana cingkrang tidak atur ...      0   \n",
       "2          koruptor hukum berat kasih ringan hashtag      0   \n",
       "3      pimpin sudah bikin hoax bagaimana jabat parah      0   \n",
       "4               jujur buat malu salah jkw sulit laku      1   \n",
       "\n",
       "                                            tokenize  \\\n",
       "0  ['saraswati', 'pintar', 'tida', 'ajar', 'alam'...   \n",
       "1  ['menag', 'bicara', 'sola', 'celana', 'cingkra...   \n",
       "2  ['koruptor', 'hukum', 'berat', 'kasih', 'ringa...   \n",
       "3  ['pimpin', 'sudah', 'bikin', 'hoax', 'bagaiman...   \n",
       "4  ['jujur', 'buat', 'malu', 'salah', 'jkw', 'sul...   \n",
       "\n",
       "                                    stopword removal  \\\n",
       "0  ['saraswati', 'pintar', 'tida', 'ajar', 'alam'...   \n",
       "1  ['menag', 'bicara', 'sola', 'celana', 'cingkra...   \n",
       "2  ['koruptor', 'hukum', 'berat', 'kasih', 'ringa...   \n",
       "3      ['pimpin', 'bikin', 'hoax', 'jabat', 'parah']   \n",
       "4  ['jujur', 'malu', 'salah', 'jkw', 'sulit', 'la...   \n",
       "\n",
       "                                        steming_data  \n",
       "0    saraswati pintar tida ajar alam hufffffffffffff  \n",
       "1  menag bicara sola celana cingkrang atur loh li...  \n",
       "2          koruptor hukum berat kasih ringan hashtag  \n",
       "3                      pimpin bikin hoax jabat parah  \n",
       "4                    jujur malu salah jkw sulit laku  "
      ]
     },
     "execution_count": 78,
     "metadata": {},
     "output_type": "execute_result"
    }
   ],
   "source": [
    "datastest.head()"
   ]
  },
  {
   "cell_type": "code",
   "execution_count": 79,
   "id": "d08df4e3",
   "metadata": {},
   "outputs": [],
   "source": [
    "datasarctest = datastest[['steming_data', 'label']]"
   ]
  },
  {
   "cell_type": "code",
   "execution_count": 83,
   "id": "ea0a2e33",
   "metadata": {},
   "outputs": [
    {
     "name": "stderr",
     "output_type": "stream",
     "text": [
      "C:\\Users\\UMMY\\AppData\\Local\\Temp\\ipykernel_19912\\207306895.py:1: SettingWithCopyWarning: \n",
      "A value is trying to be set on a copy of a slice from a DataFrame.\n",
      "Try using .loc[row_indexer,col_indexer] = value instead\n",
      "\n",
      "See the caveats in the documentation: https://pandas.pydata.org/pandas-docs/stable/user_guide/indexing.html#returning-a-view-versus-a-copy\n",
      "  datasarctest['label'] = datasarctest['label'].replace({1: 'Negatif', 0: 'Positif'})\n"
     ]
    }
   ],
   "source": [
    "datasarctest['label'] = datasarctest['label'].replace({1: 'Negatif', 0: 'Positif'})"
   ]
  },
  {
   "cell_type": "code",
   "execution_count": 84,
   "id": "cbabb8e7",
   "metadata": {},
   "outputs": [
    {
     "data": {
      "text/html": [
       "<div>\n",
       "<style scoped>\n",
       "    .dataframe tbody tr th:only-of-type {\n",
       "        vertical-align: middle;\n",
       "    }\n",
       "\n",
       "    .dataframe tbody tr th {\n",
       "        vertical-align: top;\n",
       "    }\n",
       "\n",
       "    .dataframe thead th {\n",
       "        text-align: right;\n",
       "    }\n",
       "</style>\n",
       "<table border=\"1\" class=\"dataframe\">\n",
       "  <thead>\n",
       "    <tr style=\"text-align: right;\">\n",
       "      <th></th>\n",
       "      <th>steming_data</th>\n",
       "      <th>label</th>\n",
       "    </tr>\n",
       "  </thead>\n",
       "  <tbody>\n",
       "    <tr>\n",
       "      <th>0</th>\n",
       "      <td>saraswati pintar tida ajar alam hufffffffffffff</td>\n",
       "      <td>Negatif</td>\n",
       "    </tr>\n",
       "    <tr>\n",
       "      <th>1</th>\n",
       "      <td>menag bicara sola celana cingkrang atur loh li...</td>\n",
       "      <td>Positif</td>\n",
       "    </tr>\n",
       "    <tr>\n",
       "      <th>2</th>\n",
       "      <td>koruptor hukum berat kasih ringan hashtag</td>\n",
       "      <td>Positif</td>\n",
       "    </tr>\n",
       "    <tr>\n",
       "      <th>3</th>\n",
       "      <td>pimpin bikin hoax jabat parah</td>\n",
       "      <td>Positif</td>\n",
       "    </tr>\n",
       "    <tr>\n",
       "      <th>4</th>\n",
       "      <td>jujur malu salah jkw sulit laku</td>\n",
       "      <td>Negatif</td>\n",
       "    </tr>\n",
       "  </tbody>\n",
       "</table>\n",
       "</div>"
      ],
      "text/plain": [
       "                                        steming_data    label\n",
       "0    saraswati pintar tida ajar alam hufffffffffffff  Negatif\n",
       "1  menag bicara sola celana cingkrang atur loh li...  Positif\n",
       "2          koruptor hukum berat kasih ringan hashtag  Positif\n",
       "3                      pimpin bikin hoax jabat parah  Positif\n",
       "4                    jujur malu salah jkw sulit laku  Negatif"
      ]
     },
     "execution_count": 84,
     "metadata": {},
     "output_type": "execute_result"
    }
   ],
   "source": [
    "datasarctest.head()"
   ]
  },
  {
   "cell_type": "code",
   "execution_count": 85,
   "id": "f0285c96",
   "metadata": {},
   "outputs": [],
   "source": [
    "datambg.to_csv(\"mbglabel.csv\", index=False)"
   ]
  },
  {
   "cell_type": "code",
   "execution_count": 86,
   "id": "ea3f2321",
   "metadata": {},
   "outputs": [],
   "source": [
    "datasarcastic.to_csv(\"sarcasticlabel.csv\", index=False)"
   ]
  },
  {
   "cell_type": "code",
   "execution_count": 87,
   "id": "7ca0f0f7",
   "metadata": {},
   "outputs": [],
   "source": [
    "datasarctest.to_csv(\"sarctestlabel.csv\", index=False)"
   ]
  },
  {
   "cell_type": "code",
   "execution_count": null,
   "id": "04ced106",
   "metadata": {},
   "outputs": [
    {
     "name": "stderr",
     "output_type": "stream",
     "text": [
      "C:\\Users\\UMMY\\AppData\\Local\\Temp\\ipykernel_2100\\1282206943.py:8: FutureWarning: \n",
      "\n",
      "Passing `palette` without assigning `hue` is deprecated and will be removed in v0.14.0. Assign the `x` variable to `hue` and set `legend=False` for the same effect.\n",
      "\n",
      "  ax = sns.barplot(x=sentiment_count.index, y=sentiment_count.values, palette='pastel')\n"
     ]
    },
    {
     "data": {
      "image/png": "[encoded data removed]",
      "text/plain": [
       "<Figure size 600x400 with 1 Axes>"
      ]
     },
     "metadata": {},
     "output_type": "display_data"
    }
   ],
   "source": [
    "import matplotlib.pyplot as plt\n",
    "import seaborn as sns\n",
    "\n",
    "sentiment_count = data['Sentiment'].value_counts()\n",
    "sns.set_style('whitegrid')\n",
    "\n",
    "fig, ax = plt.subplots(figsize=(6, 4))\n",
    "ax = sns.barplot(x=sentiment_count.index, y=sentiment_count.values, palette='pastel')\n",
    "plt.title('Jumlah Analisis Sentimen', fontsize=14, pad=20)\n",
    "plt.xlabel('Class Sentiment', fontsize=12)\n",
    "plt.ylabel('Jumlah Tweet', fontsize=12)\n",
    "\n",
    "total = len(data['Sentiment'])\n",
    "\n",
    "for i, count in enumerate(sentiment_count.values):\n",
    "    percentage = f'{100 * count / total:.2f}%'\n",
    "    ax.text(i, count + 0.10, f'{count}\\n({percentage})', ha='center', va='bottom')\n",
    "\n",
    "plt.show()"
   ]
  },
  {
   "cell_type": "code",
   "execution_count": null,
   "id": "b16d3697",
   "metadata": {},
   "outputs": [],
   "source": [
    "data.to_csv('Hasil_Labelling_Data.csv, index=False')"
   ]
  },
  {
   "cell_type": "code",
   "execution_count": null,
   "id": "093a9f3e",
   "metadata": {},
   "outputs": [],
   "source": [
    "data = pd.read_csv(\"Hasil_Labelling_Data.csv, index=False\")"
   ]
  },
  {
   "cell_type": "code",
   "execution_count": null,
   "id": "cb0ab0c6",
   "metadata": {},
   "outputs": [
    {
     "name": "stdout",
     "output_type": "stream",
     "text": [
      "Jumlah data latih: 7335\n",
      "Jumlah data uji: 1834\n",
      "===========================\n"
     ]
    },
    {
     "data": {
      "text/plain": [
       "((7335, 11141), (1834, 11141))"
      ]
     },
     "execution_count": 22,
     "metadata": {},
     "output_type": "execute_result"
    }
   ],
   "source": [
    "from sklearn.model_selection import train_test_split\n",
    "from sklearn.feature_extraction.text import CountVectorizer\n",
    "\n",
    "cleaned_data = data.dropna(subset=['steming_data'])\n",
    "\n",
    "X = cleaned_data['steming_data']\n",
    "y = cleaned_data['Sentiment']\n",
    "\n",
    "\n",
    "X_train, X_test, y_train, y_test = train_test_split(X, y, test_size=0.2, random_state=42, stratify=y)\n",
    "\n",
    "print(\"Jumlah data latih:\", len(X_train))\n",
    "print(\"Jumlah data uji:\", len(X_test))\n",
    "print('===========================')\n",
    "\n",
    "vectorizer = CountVectorizer()\n",
    "X_train_vec = vectorizer.fit_transform(X_train)\n",
    "X_test_vec = vectorizer.transform(X_test)\n",
    "\n",
    "X_train_vec.shape, X_test_vec.shape"
   ]
  },
  {
   "cell_type": "code",
   "execution_count": null,
   "id": "1ccf341b",
   "metadata": {},
   "outputs": [
    {
     "data": {
      "image/png": "[encoded data removed]",
      "text/plain": [
       "<Figure size 600x400 with 1 Axes>"
      ]
     },
     "metadata": {},
     "output_type": "display_data"
    }
   ],
   "source": [
    "import matplotlib.pyplot as plt\n",
    "\n",
    "\n",
    "train_size = len(X_train)\n",
    "test_size = len(X_test)\n",
    "\n",
    "plt.figure(figsize=(6, 4))\n",
    "bars = plt.bar(['Data Training', 'Data Testing'], [train_size, test_size], color=['blue', 'orange'])\n",
    "\n",
    "for bar in bars:\n",
    "    height = bar.get_height()\n",
    "    plt.text(bar.get_x() + bar.get_width()/2, height + 1, f'{height} ({height / (train_size + test_size) * 100:.2f}%)',\n",
    "             ha='center', va='bottom')\n",
    "\n",
    "plt.title('Jumlah Data Latih dan Data Uji')\n",
    "plt.xlabel('Jenis Data')\n",
    "plt.ylabel('Jumlah Data')\n",
    "plt.show()\n"
   ]
  },
  {
   "cell_type": "markdown",
   "id": "72f66781",
   "metadata": {},
   "source": [
    "## Random Forest\n"
   ]
  },
  {
   "cell_type": "code",
   "execution_count": null,
   "id": "1c727454",
   "metadata": {},
   "outputs": [],
   "source": [
    "from sklearn.ensemble import RandomForestClassifier\n",
    "from sklearn.metrics import accuracy_score, classification_report, confusion_matrix\n",
    "import seaborn as sns\n",
    "import matplotlib.pyplot as plt\n",
    "\n",
    "# Initialize models\n",
    "models = {\n",
    "    \"Random Forest\": RandomForestClassifier(random_state=42, n_estimators=100),\n",
    "}\n",
    "\n",
    "# Train models\n",
    "results = {}\n",
    "for model_name, model in models.items():\n",
    "    model.fit(X_train_vec, y_train)\n",
    "    y_pred = model.predict(X_test_vec)\n",
    "    results[model_name] = {\n",
    "        \"accuracy\": accuracy_score(y_test, y_pred),\n",
    "        \"classification_report\": classification_report(y_test, y_pred, output_dict=True),\n",
    "        \"confusion_matrix\": confusion_matrix(y_test, y_pred)\n",
    "    }"
   ]
  },
  {
   "cell_type": "code",
   "execution_count": null,
   "id": "78807858",
   "metadata": {},
   "outputs": [
    {
     "name": "stdout",
     "output_type": "stream",
     "text": [
      "\n",
      "Confusion Matrix for Random Forest:\n"
     ]
    },
    {
     "data": {
      "image/png": "[encoded data removed]",
      "text/plain": [
       "<Figure size 400x400 with 1 Axes>"
      ]
     },
     "metadata": {},
     "output_type": "display_data"
    }
   ],
   "source": [
    "import matplotlib.pyplot as plt\n",
    "import seaborn as sns\n",
    "\n",
    "for model_name, result in results.items():\n",
    "    fig, ax = plt.subplots(figsize=(4, 4))\n",
    "    sns.heatmap(\n",
    "        result[\"confusion_matrix\"],\n",
    "        annot=True,\n",
    "        fmt='d',\n",
    "        cmap=\"YlGnBu\",\n",
    "        cbar=False,\n",
    "        xticklabels=['Negatif', 'Netral', 'Positif'],\n",
    "        yticklabels=['Negatif', 'Netral', 'Positif'],\n",
    "        ax=ax,\n",
    "        square=True,\n",
    "        linewidths=0.5\n",
    "    )\n",
    "    print(f\"\\nConfusion Matrix for {model_name}:\")\n",
    "    ax.set_title(f\"{model_name} Confusion Matrix\", fontsize=12)\n",
    "    ax.set_xlabel(\"Predicted\", fontsize=12)\n",
    "    ax.set_ylabel(\"Actual\", fontsize=12)\n",
    "\n",
    "\n",
    "    plt.tight_layout()\n",
    "    plt.show()\n"
   ]
  },
  {
   "cell_type": "code",
   "execution_count": null,
   "id": "69fe3c6f",
   "metadata": {},
   "outputs": [
    {
     "data": {
      "image/png": "[encoded data removed]",
      "text/plain": [
       "<Figure size 200x400 with 1 Axes>"
      ]
     },
     "metadata": {},
     "output_type": "display_data"
    }
   ],
   "source": [
    "import matplotlib.pyplot as plt\n",
    "\n",
    "accuracies = {model: result['accuracy'] for model, result in results.items()}\n",
    "\n",
    "plt.figure(figsize=(2, 4))\n",
    "bars = plt.bar(list(accuracies.keys()), list(accuracies.values()), color=['lightblue', 'lightgreen', 'lightcoral', 'plum'])\n",
    "\n",
    "for bar in bars:\n",
    "    accuracy = bar.get_height()\n",
    "    plt.text(\n",
    "        bar.get_x() + bar.get_width() / 2,\n",
    "        accuracy,\n",
    "        f'{accuracy:.2f} ({accuracy * 100:.1f}%)',\n",
    "        ha='center',\n",
    "        va='bottom',\n",
    "        fontsize=10\n",
    "    )\n",
    "\n",
    "plt.title(\"Model Accuracy Comparison\")\n",
    "plt.ylabel(\"Accuracy\")\n",
    "plt.ylim(0, 1)\n",
    "plt.tight_layout()\n",
    "plt.show()\n"
   ]
  },
  {
   "cell_type": "code",
   "execution_count": null,
   "id": "eec01bd4",
   "metadata": {},
   "outputs": [
    {
     "name": "stdout",
     "output_type": "stream",
     "text": [
      "\n",
      "Classification Report for Random Forest:\n"
     ]
    },
    {
     "data": {
      "text/html": [
       "<style type=\"text/css\">\n",
       "#T_808e6_row0_col0, #T_808e6_row2_col1, #T_808e6_row2_col2, #T_808e6_row4_col3, #T_808e6_row5_col3 {\n",
       "  background-color: #b40426;\n",
       "  color: #f1f1f1;\n",
       "}\n",
       "#T_808e6_row0_col1, #T_808e6_row0_col2, #T_808e6_row1_col0, #T_808e6_row3_col3 {\n",
       "  background-color: #3b4cc0;\n",
       "  color: #f1f1f1;\n",
       "}\n",
       "#T_808e6_row0_col3 {\n",
       "  background-color: #6c8ff1;\n",
       "  color: #f1f1f1;\n",
       "}\n",
       "#T_808e6_row1_col1 {\n",
       "  background-color: #688aef;\n",
       "  color: #f1f1f1;\n",
       "}\n",
       "#T_808e6_row1_col2 {\n",
       "  background-color: #4055c8;\n",
       "  color: #f1f1f1;\n",
       "}\n",
       "#T_808e6_row1_col3 {\n",
       "  background-color: #6b8df0;\n",
       "  color: #f1f1f1;\n",
       "}\n",
       "#T_808e6_row2_col0 {\n",
       "  background-color: #cc403a;\n",
       "  color: #f1f1f1;\n",
       "}\n",
       "#T_808e6_row2_col3, #T_808e6_row5_col2 {\n",
       "  background-color: #f7b093;\n",
       "  color: #000000;\n",
       "}\n",
       "#T_808e6_row3_col0 {\n",
       "  background-color: #eb7d62;\n",
       "  color: #f1f1f1;\n",
       "}\n",
       "#T_808e6_row3_col1, #T_808e6_row5_col1 {\n",
       "  background-color: #f7a98b;\n",
       "  color: #000000;\n",
       "}\n",
       "#T_808e6_row3_col2 {\n",
       "  background-color: #f39577;\n",
       "  color: #000000;\n",
       "}\n",
       "#T_808e6_row4_col0 {\n",
       "  background-color: #f6bfa6;\n",
       "  color: #000000;\n",
       "}\n",
       "#T_808e6_row4_col1 {\n",
       "  background-color: #bad0f8;\n",
       "  color: #000000;\n",
       "}\n",
       "#T_808e6_row4_col2 {\n",
       "  background-color: #adc9fd;\n",
       "  color: #000000;\n",
       "}\n",
       "#T_808e6_row5_col0 {\n",
       "  background-color: #ee8468;\n",
       "  color: #f1f1f1;\n",
       "}\n",
       "</style>\n",
       "<table id=\"T_808e6\">\n",
       "  <thead>\n",
       "    <tr>\n",
       "      <th class=\"blank level0\" >&nbsp;</th>\n",
       "      <th id=\"T_808e6_level0_col0\" class=\"col_heading level0 col0\" >precision</th>\n",
       "      <th id=\"T_808e6_level0_col1\" class=\"col_heading level0 col1\" >recall</th>\n",
       "      <th id=\"T_808e6_level0_col2\" class=\"col_heading level0 col2\" >f1-score</th>\n",
       "      <th id=\"T_808e6_level0_col3\" class=\"col_heading level0 col3\" >support</th>\n",
       "    </tr>\n",
       "  </thead>\n",
       "  <tbody>\n",
       "    <tr>\n",
       "      <th id=\"T_808e6_level0_row0\" class=\"row_heading level0 row0\" >Negatif</th>\n",
       "      <td id=\"T_808e6_row0_col0\" class=\"data row0 col0\" >0.818</td>\n",
       "      <td id=\"T_808e6_row0_col1\" class=\"data row0 col1\" >0.218</td>\n",
       "      <td id=\"T_808e6_row0_col2\" class=\"data row0 col2\" >0.344</td>\n",
       "      <td id=\"T_808e6_row0_col3\" class=\"data row0 col3\" >289.000</td>\n",
       "    </tr>\n",
       "    <tr>\n",
       "      <th id=\"T_808e6_level0_row1\" class=\"row_heading level0 row1\" >Netral</th>\n",
       "      <td id=\"T_808e6_row1_col0\" class=\"data row1 col0\" >0.390</td>\n",
       "      <td id=\"T_808e6_row1_col1\" class=\"data row1 col1\" >0.325</td>\n",
       "      <td id=\"T_808e6_row1_col2\" class=\"data row1 col2\" >0.355</td>\n",
       "      <td id=\"T_808e6_row1_col3\" class=\"data row1 col3\" >283.000</td>\n",
       "    </tr>\n",
       "    <tr>\n",
       "      <th id=\"T_808e6_level0_row2\" class=\"row_heading level0 row2\" >Positif</th>\n",
       "      <td id=\"T_808e6_row2_col0\" class=\"data row2 col0\" >0.789</td>\n",
       "      <td id=\"T_808e6_row2_col1\" class=\"data row2 col1\" >0.951</td>\n",
       "      <td id=\"T_808e6_row2_col2\" class=\"data row2 col2\" >0.862</td>\n",
       "      <td id=\"T_808e6_row2_col3\" class=\"data row2 col3\" >1262.000</td>\n",
       "    </tr>\n",
       "    <tr>\n",
       "      <th id=\"T_808e6_level0_row3\" class=\"row_heading level0 row3\" >accuracy</th>\n",
       "      <td id=\"T_808e6_row3_col0\" class=\"data row3 col0\" >0.739</td>\n",
       "      <td id=\"T_808e6_row3_col1\" class=\"data row3 col1\" >0.739</td>\n",
       "      <td id=\"T_808e6_row3_col2\" class=\"data row3 col2\" >0.739</td>\n",
       "      <td id=\"T_808e6_row3_col3\" class=\"data row3 col3\" >0.739</td>\n",
       "    </tr>\n",
       "    <tr>\n",
       "      <th id=\"T_808e6_level0_row4\" class=\"row_heading level0 row4\" >macro avg</th>\n",
       "      <td id=\"T_808e6_row4_col0\" class=\"data row4 col0\" >0.666</td>\n",
       "      <td id=\"T_808e6_row4_col1\" class=\"data row4 col1\" >0.498</td>\n",
       "      <td id=\"T_808e6_row4_col2\" class=\"data row4 col2\" >0.520</td>\n",
       "      <td id=\"T_808e6_row4_col3\" class=\"data row4 col3\" >1834.000</td>\n",
       "    </tr>\n",
       "    <tr>\n",
       "      <th id=\"T_808e6_level0_row5\" class=\"row_heading level0 row5\" >weighted avg</th>\n",
       "      <td id=\"T_808e6_row5_col0\" class=\"data row5 col0\" >0.732</td>\n",
       "      <td id=\"T_808e6_row5_col1\" class=\"data row5 col1\" >0.739</td>\n",
       "      <td id=\"T_808e6_row5_col2\" class=\"data row5 col2\" >0.702</td>\n",
       "      <td id=\"T_808e6_row5_col3\" class=\"data row5 col3\" >1834.000</td>\n",
       "    </tr>\n",
       "  </tbody>\n",
       "</table>\n"
      ],
      "text/plain": [
       "<pandas.io.formats.style.Styler at 0x260c0bbcb30>"
      ]
     },
     "metadata": {},
     "output_type": "display_data"
    }
   ],
   "source": [
    "from IPython.display import display\n",
    "\n",
    "for model_name, result in results.items():\n",
    "    print(f\"\\nClassification Report for {model_name}:\")\n",
    "\n",
    "    report_df = pd.DataFrame(result['classification_report']).transpose()\n",
    "\n",
    "    styled_df = report_df.style.background_gradient(cmap=\"coolwarm\")\n",
    "    styled_df = styled_df.format(precision=3)\n",
    "    display(styled_df)"
   ]
  },
  {
   "cell_type": "markdown",
   "id": "32d4b629",
   "metadata": {},
   "source": [
    "## LSTM"
   ]
  },
  {
   "cell_type": "code",
   "execution_count": null,
   "id": "70ec7ece",
   "metadata": {},
   "outputs": [],
   "source": [
    "import numpy as np\n",
    "import pandas as pd\n",
    "import tensorflow as tf\n",
    "from sklearn.model_selection import train_test_split\n",
    "from sklearn.preprocessing import LabelEncoder\n",
    "from tensorflow.keras.preprocessing.text import Tokenizer\n",
    "from tensorflow.keras.preprocessing.sequence import pad_sequences\n",
    "from tensorflow.keras.models import Sequential\n",
    "from tensorflow.keras.layers import Embedding, Bidirectional, LSTM, Dense, Dropout\n",
    "from sklearn.metrics import classification_report, confusion_matrix, accuracy_score\n",
    "import seaborn as sns\n",
    "import matplotlib.pyplot as plt\n",
    "\n",
    "# Extracting relevant columns\n",
    "texts = data['steming_data'].astype(str).values\n",
    "labels = data['Sentiment'].values\n",
    "\n",
    "# Encoding labels into numeric values\n",
    "label_encoder = LabelEncoder()\n",
    "encoded_labels = label_encoder.fit_transform(labels)"
   ]
  },
  {
   "cell_type": "code",
   "execution_count": null,
   "id": "d909befd",
   "metadata": {},
   "outputs": [
    {
     "name": "stdout",
     "output_type": "stream",
     "text": [
      "Training data size: 7335\n",
      "Testing data size: 1834\n"
     ]
    }
   ],
   "source": [
    "# Splitting the data into training and testing sets\n",
    "X_train, X_test, y_train, y_test = train_test_split(texts, encoded_labels, test_size=0.2, random_state=42)\n",
    "\n",
    "print(f\"Training data size: {len(X_train)}\")\n",
    "print(f\"Testing data size: {len(X_test)}\")"
   ]
  },
  {
   "cell_type": "code",
   "execution_count": null,
   "id": "d790e579",
   "metadata": {},
   "outputs": [
    {
     "data": {
      "image/png": "[encoded data removed]",
      "text/plain": [
       "<Figure size 600x400 with 1 Axes>"
      ]
     },
     "metadata": {},
     "output_type": "display_data"
    }
   ],
   "source": [
    "# Encode labels\n",
    "le = LabelEncoder()\n",
    "Y = encoded_labels\n",
    "Y = le.fit_transform(Y)\n",
    "X = texts\n",
    "\n",
    "\n",
    "train_size = len(X_train)\n",
    "test_size = len(X_test)\n",
    "\n",
    "plt.figure(figsize=(6, 4))\n",
    "bars = plt.bar(['Data Training', 'Data Testing'], [train_size, test_size], color=['blue', 'orange'])\n",
    "\n",
    "for bar in bars:\n",
    "    height = bar.get_height()\n",
    "    plt.text(bar.get_x() + bar.get_width()/2, height + 1, f'{height} ({height / (train_size + test_size) * 100:.2f}%)',\n",
    "             ha='center', va='bottom')\n",
    "\n",
    "plt.title('Jumlah Data Latih dan Data Uji')\n",
    "plt.xlabel('Jenis Data')\n",
    "plt.ylabel('Jumlah Data')\n",
    "plt.show()"
   ]
  },
  {
   "cell_type": "code",
   "execution_count": null,
   "id": "ba901afe",
   "metadata": {},
   "outputs": [
    {
     "name": "stderr",
     "output_type": "stream",
     "text": [
      "c:\\Users\\UMMY\\anaconda3\\Lib\\site-packages\\keras\\src\\layers\\core\\embedding.py:90: UserWarning: Argument `input_length` is deprecated. Just remove it.\n",
      "  warnings.warn(\n"
     ]
    }
   ],
   "source": [
    "# Tokenization\n",
    "tokenizer = Tokenizer(num_words=5000, oov_token=\"<OOV>\")\n",
    "tokenizer.fit_on_texts(X_train)\n",
    "X_train_seq = tokenizer.texts_to_sequences(X_train)\n",
    "X_test_seq = tokenizer.texts_to_sequences(X_test)\n",
    "\n",
    "# Padding\n",
    "max_len = 100\n",
    "X_train_padded = pad_sequences(X_train_seq, maxlen=max_len, padding='post', truncating='post')\n",
    "X_test_padded = pad_sequences(X_test_seq, maxlen=max_len, padding='post', truncating='post')\n",
    "\n",
    "# Vocabulary size\n",
    "vocab_size = len(tokenizer.word_index) + 1\n",
    "\n",
    "# Model Building\n",
    "model = Sequential([\n",
    "    Embedding(input_dim=vocab_size, output_dim=128, input_length=max_len),\n",
    "    Bidirectional(LSTM(64, return_sequences=True)),\n",
    "    Bidirectional(LSTM(32)),\n",
    "    Dropout(0.5),\n",
    "    Dense(64, activation='relu'),\n",
    "    Dense(6, activation='softmax')\n",
    "])\n",
    "\n",
    "# Compile the model\n",
    "model.compile(optimizer='adam', loss='sparse_categorical_crossentropy', metrics=['accuracy'])"
   ]
  },
  {
   "cell_type": "code",
   "execution_count": null,
   "id": "b4f427dc",
   "metadata": {},
   "outputs": [
    {
     "name": "stdout",
     "output_type": "stream",
     "text": [
      "Epoch 1/10\n",
      "\u001b[1m230/230\u001b[0m \u001b[32m━━━━━━━━━━━━━━━━━━━━\u001b[0m\u001b[37m\u001b[0m \u001b[1m16s\u001b[0m 70ms/step - accuracy: 0.9864 - loss: 0.0493 - val_accuracy: 0.8419 - val_loss: 0.7942\n",
      "Epoch 2/10\n",
      "\u001b[1m230/230\u001b[0m \u001b[32m━━━━━━━━━━━━━━━━━━━━\u001b[0m\u001b[37m\u001b[0m \u001b[1m15s\u001b[0m 66ms/step - accuracy: 0.9908 - loss: 0.0355 - val_accuracy: 0.8413 - val_loss: 0.8564\n",
      "Epoch 3/10\n",
      "\u001b[1m230/230\u001b[0m \u001b[32m━━━━━━━━━━━━━━━━━━━━\u001b[0m\u001b[37m\u001b[0m \u001b[1m16s\u001b[0m 68ms/step - accuracy: 0.9918 - loss: 0.0333 - val_accuracy: 0.8468 - val_loss: 0.8850\n",
      "Epoch 4/10\n",
      "\u001b[1m230/230\u001b[0m \u001b[32m━━━━━━━━━━━━━━━━━━━━\u001b[0m\u001b[37m\u001b[0m \u001b[1m15s\u001b[0m 63ms/step - accuracy: 0.9953 - loss: 0.0191 - val_accuracy: 0.8462 - val_loss: 0.8041\n",
      "Epoch 5/10\n",
      "\u001b[1m230/230\u001b[0m \u001b[32m━━━━━━━━━━━━━━━━━━━━\u001b[0m\u001b[37m\u001b[0m \u001b[1m15s\u001b[0m 65ms/step - accuracy: 0.9954 - loss: 0.0185 - val_accuracy: 0.8451 - val_loss: 0.8950\n",
      "Epoch 6/10\n",
      "\u001b[1m230/230\u001b[0m \u001b[32m━━━━━━━━━━━━━━━━━━━━\u001b[0m\u001b[37m\u001b[0m \u001b[1m15s\u001b[0m 65ms/step - accuracy: 0.9917 - loss: 0.0322 - val_accuracy: 0.8397 - val_loss: 0.9107\n",
      "Epoch 7/10\n",
      "\u001b[1m230/230\u001b[0m \u001b[32m━━━━━━━━━━━━━━━━━━━━\u001b[0m\u001b[37m\u001b[0m \u001b[1m16s\u001b[0m 68ms/step - accuracy: 0.9970 - loss: 0.0112 - val_accuracy: 0.8304 - val_loss: 1.0166\n",
      "Epoch 8/10\n",
      "\u001b[1m230/230\u001b[0m \u001b[32m━━━━━━━━━━━━━━━━━━━━\u001b[0m\u001b[37m\u001b[0m \u001b[1m14s\u001b[0m 61ms/step - accuracy: 0.9978 - loss: 0.0091 - val_accuracy: 0.8457 - val_loss: 0.7681\n",
      "Epoch 9/10\n",
      "\u001b[1m230/230\u001b[0m \u001b[32m━━━━━━━━━━━━━━━━━━━━\u001b[0m\u001b[37m\u001b[0m \u001b[1m15s\u001b[0m 65ms/step - accuracy: 0.9944 - loss: 0.0242 - val_accuracy: 0.8233 - val_loss: 0.8580\n",
      "Epoch 10/10\n",
      "\u001b[1m230/230\u001b[0m \u001b[32m━━━━━━━━━━━━━━━━━━━━\u001b[0m\u001b[37m\u001b[0m \u001b[1m15s\u001b[0m 64ms/step - accuracy: 0.9896 - loss: 0.0295 - val_accuracy: 0.8304 - val_loss: 0.8796\n",
      "\u001b[1m58/58\u001b[0m \u001b[32m━━━━━━━━━━━━━━━━━━━━\u001b[0m\u001b[37m\u001b[0m \u001b[1m3s\u001b[0m 43ms/step\n"
     ]
    }
   ],
   "source": [
    "# Train the model\n",
    "history = model.fit(X_train_padded, y_train, epochs=10, batch_size=32, validation_data=(X_test_padded, y_test))\n",
    "\n",
    "# Evaluate the model\n",
    "y_pred = model.predict(X_test_padded)\n",
    "y_pred_classes = np.argmax(y_pred, axis=1)"
   ]
  },
  {
   "cell_type": "code",
   "execution_count": null,
   "id": "bf1ef9cf",
   "metadata": {},
   "outputs": [
    {
     "name": "stdout",
     "output_type": "stream",
     "text": [
      "Accuracy: 0.8304252998909487\n",
      "Accuracy: 83.04%\n",
      "\n",
      "              precision    recall  f1-score   support\n",
      "\n",
      "     Negatif       0.82      0.76      0.79       297\n",
      "      Netral       0.48      0.63      0.54       274\n",
      "     Positif       0.94      0.89      0.91      1263\n",
      "\n",
      "    accuracy                           0.83      1834\n",
      "   macro avg       0.75      0.76      0.75      1834\n",
      "weighted avg       0.85      0.83      0.84      1834\n",
      "\n"
     ]
    }
   ],
   "source": [
    "# Accuracy\n",
    "accuracy = accuracy_score(y_test, y_pred_classes)\n",
    "print(\"Accuracy:\", accuracy)\n",
    "print(\"Accuracy: {:.2f}%\".format(accuracy * 100))\n",
    "print()\n",
    "\n",
    "\n",
    "# Classification Report\n",
    "report = classification_report(y_test, y_pred_classes, target_names=label_encoder.classes_)\n",
    "print(report)"
   ]
  },
  {
   "cell_type": "code",
   "execution_count": null,
   "id": "c0be233f",
   "metadata": {},
   "outputs": [
    {
     "data": {
      "image/png": "[encoded data removed]",
      "text/plain": [
       "<Figure size 1200x500 with 2 Axes>"
      ]
     },
     "metadata": {},
     "output_type": "display_data"
    }
   ],
   "source": [
    "# Plot Training and Validation Loss and Accuracy\n",
    "plt.figure(figsize=(12, 5))\n",
    "\n",
    "# Plot Loss\n",
    "plt.subplot(1, 2, 1)\n",
    "plt.plot(history.history['loss'], label='Training Loss')\n",
    "plt.plot(history.history['val_loss'], label='Validation Loss')\n",
    "plt.title('Loss Over Epochs')\n",
    "plt.xlabel('Epochs')\n",
    "plt.ylabel('Loss')\n",
    "plt.legend()\n",
    "\n",
    "# Plot Accuracy\n",
    "plt.subplot(1, 2, 2)\n",
    "plt.plot(history.history['accuracy'], label='Training Accuracy')\n",
    "plt.plot(history.history['val_accuracy'], label='Validation Accuracy')\n",
    "plt.title('Accuracy Over Epochs')\n",
    "plt.xlabel('Epochs')\n",
    "plt.ylabel('Accuracy')\n",
    "plt.legend()\n",
    "\n",
    "plt.tight_layout()\n",
    "plt.show()"
   ]
  },
  {
   "cell_type": "code",
   "execution_count": null,
   "id": "926d0110",
   "metadata": {},
   "outputs": [
    {
     "data": {
      "image/png": "[encoded data removed]",
      "text/plain": [
       "<Figure size 600x400 with 2 Axes>"
      ]
     },
     "metadata": {},
     "output_type": "display_data"
    }
   ],
   "source": [
    "# Confusion Matrix\n",
    "cm = confusion_matrix(y_test, y_pred_classes)\n",
    "plt.figure(figsize=(6, 4))\n",
    "sns.heatmap(cm, annot=True, fmt='d', cmap='Blues', xticklabels=label_encoder.classes_, yticklabels=label_encoder.classes_)\n",
    "plt.xlabel('Predicted')\n",
    "plt.ylabel('Actual')\n",
    "plt.title('Confusion Matrix')\n",
    "plt.show()"
   ]
  },
  {
   "cell_type": "code",
   "execution_count": null,
   "id": "57f7b1cb",
   "metadata": {},
   "outputs": [
    {
     "data": {
      "text/html": [
       "<div>\n",
       "<style scoped>\n",
       "    .dataframe tbody tr th:only-of-type {\n",
       "        vertical-align: middle;\n",
       "    }\n",
       "\n",
       "    .dataframe tbody tr th {\n",
       "        vertical-align: top;\n",
       "    }\n",
       "\n",
       "    .dataframe thead th {\n",
       "        text-align: right;\n",
       "    }\n",
       "</style>\n",
       "<table border=\"1\" class=\"dataframe\">\n",
       "  <thead>\n",
       "    <tr style=\"text-align: right;\">\n",
       "      <th></th>\n",
       "      <th>steming_data</th>\n",
       "      <th>Actual</th>\n",
       "      <th>Predicted</th>\n",
       "    </tr>\n",
       "  </thead>\n",
       "  <tbody>\n",
       "    <tr>\n",
       "      <th>0</th>\n",
       "      <td>halo maaf oppa sibuk promosi nih sok ic kabar ...</td>\n",
       "      <td>Positif</td>\n",
       "      <td>Positif</td>\n",
       "    </tr>\n",
       "    <tr>\n",
       "      <th>1</th>\n",
       "      <td>mkan sih makan siang gratis ya</td>\n",
       "      <td>Positif</td>\n",
       "      <td>Positif</td>\n",
       "    </tr>\n",
       "    <tr>\n",
       "      <th>2</th>\n",
       "      <td>sih program makan siang gratis realisasi feedb...</td>\n",
       "      <td>Positif</td>\n",
       "      <td>Positif</td>\n",
       "    </tr>\n",
       "    <tr>\n",
       "      <th>3</th>\n",
       "      <td>ppn sukses program makan siang gratis makan si...</td>\n",
       "      <td>Positif</td>\n",
       "      <td>Positif</td>\n",
       "    </tr>\n",
       "    <tr>\n",
       "      <th>4</th>\n",
       "      <td>ngebanding makan gizi gratis makan siang box c...</td>\n",
       "      <td>Positif</td>\n",
       "      <td>Positif</td>\n",
       "    </tr>\n",
       "  </tbody>\n",
       "</table>\n",
       "</div>"
      ],
      "text/plain": [
       "                                        steming_data   Actual Predicted\n",
       "0  halo maaf oppa sibuk promosi nih sok ic kabar ...  Positif   Positif\n",
       "1                     mkan sih makan siang gratis ya  Positif   Positif\n",
       "2  sih program makan siang gratis realisasi feedb...  Positif   Positif\n",
       "3  ppn sukses program makan siang gratis makan si...  Positif   Positif\n",
       "4  ngebanding makan gizi gratis makan siang box c...  Positif   Positif"
      ]
     },
     "execution_count": 41,
     "metadata": {},
     "output_type": "execute_result"
    }
   ],
   "source": [
    "X = texts\n",
    "y = encoded_labels\n",
    "\n",
    "X_train, X_test, y_train, y_test, indices_train, indices_test = train_test_split(X, y, data.index, test_size=0.2, random_state=42)\n",
    "\n",
    "# Gunakan indeks test untuk mengambil data asli\n",
    "data_test = data.iloc[indices_test].reset_index(drop=True)\n",
    "\n",
    "predictions = pd.DataFrame({\n",
    "    'steming_data': data_test['steming_data'],\n",
    "    'Actual': label_encoder.inverse_transform(y_test),\n",
    "    'Predicted': label_encoder.inverse_transform(y_pred_classes)\n",
    "})\n",
    "\n",
    "# Simpan ke CSV\n",
    "predictions.to_csv('Hasil_Predictions_lstm.csv', index=False)\n",
    "predictions.head()"
   ]
  },
  {
   "cell_type": "code",
   "execution_count": null,
   "id": "61ac0fa1",
   "metadata": {},
   "outputs": [
    {
     "data": {
      "image/png": "[encoded data removed]",
      "text/plain": [
       "<Figure size 800x500 with 1 Axes>"
      ]
     },
     "metadata": {},
     "output_type": "display_data"
    }
   ],
   "source": [
    "import pandas as pd\n",
    "import matplotlib.pyplot as plt\n",
    "import seaborn as sns\n",
    "\n",
    "predicted_counts = predictions['Actual'].value_counts().sort_index()\n",
    "actual_counts = predictions['Predicted'].value_counts().sort_index()\n",
    "\n",
    "comparison_df = pd.DataFrame({\n",
    "    'Predicted': actual_counts,\n",
    "    'Actual': predicted_counts\n",
    "}).fillna(0)\n",
    "\n",
    "# Buat plot\n",
    "sns.set_style('whitegrid')\n",
    "fig, ax = plt.subplots(figsize=(8, 5))\n",
    "\n",
    "bar_width = 0.35\n",
    "index = range(len(comparison_df))\n",
    "\n",
    "# Plot Actual\n",
    "ax.bar([i - bar_width/2 for i in index], comparison_df['Predicted'], width=bar_width, label='Predicted', color='skyblue')\n",
    "\n",
    "# Plot Predicted\n",
    "ax.bar([i + bar_width/2 for i in index], comparison_df['Actual'], width=bar_width, label='Actual', color='salmon')\n",
    "\n",
    "# Set label dan title\n",
    "ax.set_xlabel('Class Sentiment', fontsize=12)\n",
    "ax.set_ylabel('Jumlah Tweet', fontsize=12)\n",
    "ax.set_title('Perbandingan Analisis Sentimen\\nActual VS Predic Algoritma LSTM', fontsize=14, pad=20)\n",
    "ax.set_xticks(index)\n",
    "ax.set_xticklabels(comparison_df.index)\n",
    "ax.legend()\n",
    "\n",
    "# Tambahkan jumlah di atas bar\n",
    "for i in index:\n",
    "    actual = comparison_df['Predicted'].iloc[i]\n",
    "    predicted = comparison_df['Actual'].iloc[i]\n",
    "    ax.text(i - bar_width/2, actual + 0.01, int(actual), ha='center', va='bottom', fontsize=9)\n",
    "    ax.text(i + bar_width/2, predicted + 0.01, int(predicted), ha='center', va='bottom', fontsize=9)\n",
    "\n",
    "plt.tight_layout()\n",
    "plt.show()"
   ]
  },
  {
   "cell_type": "code",
   "execution_count": null,
   "id": "ac2dedf9",
   "metadata": {},
   "outputs": [
    {
     "ename": "KeyError",
     "evalue": "'Random Forest Predicted'",
     "output_type": "error",
     "traceback": [
      "\u001b[1;31m---------------------------------------------------------------------------\u001b[0m",
      "\u001b[1;31mKeyError\u001b[0m                                  Traceback (most recent call last)",
      "File \u001b[1;32mc:\\Users\\UMMY\\anaconda3\\Lib\\site-packages\\pandas\\core\\indexes\\base.py:3805\u001b[0m, in \u001b[0;36mIndex.get_loc\u001b[1;34m(self, key)\u001b[0m\n\u001b[0;32m   3804\u001b[0m \u001b[38;5;28;01mtry\u001b[39;00m:\n\u001b[1;32m-> 3805\u001b[0m     \u001b[38;5;28;01mreturn\u001b[39;00m \u001b[38;5;28mself\u001b[39m\u001b[38;5;241m.\u001b[39m_engine\u001b[38;5;241m.\u001b[39mget_loc(casted_key)\n\u001b[0;32m   3806\u001b[0m \u001b[38;5;28;01mexcept\u001b[39;00m \u001b[38;5;167;01mKeyError\u001b[39;00m \u001b[38;5;28;01mas\u001b[39;00m err:\n",
      "File \u001b[1;32mindex.pyx:167\u001b[0m, in \u001b[0;36mpandas._libs.index.IndexEngine.get_loc\u001b[1;34m()\u001b[0m\n",
      "File \u001b[1;32mindex.pyx:196\u001b[0m, in \u001b[0;36mpandas._libs.index.IndexEngine.get_loc\u001b[1;34m()\u001b[0m\n",
      "File \u001b[1;32mpandas\\\\_libs\\\\hashtable_class_helper.pxi:7081\u001b[0m, in \u001b[0;36mpandas._libs.hashtable.PyObjectHashTable.get_item\u001b[1;34m()\u001b[0m\n",
      "File \u001b[1;32mpandas\\\\_libs\\\\hashtable_class_helper.pxi:7089\u001b[0m, in \u001b[0;36mpandas._libs.hashtable.PyObjectHashTable.get_item\u001b[1;34m()\u001b[0m\n",
      "\u001b[1;31mKeyError\u001b[0m: 'Random Forest Predicted'",
      "\nThe above exception was the direct cause of the following exception:\n",
      "\u001b[1;31mKeyError\u001b[0m                                  Traceback (most recent call last)",
      "Cell \u001b[1;32mIn[43], line 7\u001b[0m\n\u001b[0;32m      5\u001b[0m actual_counts \u001b[38;5;241m=\u001b[39m predictions[\u001b[38;5;124m'\u001b[39m\u001b[38;5;124mActual\u001b[39m\u001b[38;5;124m'\u001b[39m]\u001b[38;5;241m.\u001b[39mvalue_counts()\u001b[38;5;241m.\u001b[39msort_index()\n\u001b[0;32m      6\u001b[0m lstm_counts \u001b[38;5;241m=\u001b[39m predictions[\u001b[38;5;124m'\u001b[39m\u001b[38;5;124mPredicted\u001b[39m\u001b[38;5;124m'\u001b[39m]\u001b[38;5;241m.\u001b[39mvalue_counts()\u001b[38;5;241m.\u001b[39msort_index()\n\u001b[1;32m----> 7\u001b[0m rf_counts \u001b[38;5;241m=\u001b[39m predictions[\u001b[38;5;124m'\u001b[39m\u001b[38;5;124mRandom Forest Predicted\u001b[39m\u001b[38;5;124m'\u001b[39m]\u001b[38;5;241m.\u001b[39mvalue_counts()\u001b[38;5;241m.\u001b[39msort_index()\n\u001b[0;32m     10\u001b[0m \u001b[38;5;66;03m# --- MODIFIKASI: Buat DataFrame perbandingan dengan tiga kolom ---\u001b[39;00m\n\u001b[0;32m     11\u001b[0m comparison_df \u001b[38;5;241m=\u001b[39m pd\u001b[38;5;241m.\u001b[39mDataFrame({\n\u001b[0;32m     12\u001b[0m     \u001b[38;5;124m'\u001b[39m\u001b[38;5;124mActual\u001b[39m\u001b[38;5;124m'\u001b[39m: actual_counts,\n\u001b[0;32m     13\u001b[0m     \u001b[38;5;124m'\u001b[39m\u001b[38;5;124mPredicted (LSTM)\u001b[39m\u001b[38;5;124m'\u001b[39m: lstm_counts,\n\u001b[0;32m     14\u001b[0m     \u001b[38;5;124m'\u001b[39m\u001b[38;5;124mRandom Forest\u001b[39m\u001b[38;5;124m'\u001b[39m: rf_counts\n\u001b[0;32m     15\u001b[0m })\u001b[38;5;241m.\u001b[39mfillna(\u001b[38;5;241m0\u001b[39m)\n",
      "File \u001b[1;32mc:\\Users\\UMMY\\anaconda3\\Lib\\site-packages\\pandas\\core\\frame.py:4102\u001b[0m, in \u001b[0;36mDataFrame.__getitem__\u001b[1;34m(self, key)\u001b[0m\n\u001b[0;32m   4100\u001b[0m \u001b[38;5;28;01mif\u001b[39;00m \u001b[38;5;28mself\u001b[39m\u001b[38;5;241m.\u001b[39mcolumns\u001b[38;5;241m.\u001b[39mnlevels \u001b[38;5;241m>\u001b[39m \u001b[38;5;241m1\u001b[39m:\n\u001b[0;32m   4101\u001b[0m     \u001b[38;5;28;01mreturn\u001b[39;00m \u001b[38;5;28mself\u001b[39m\u001b[38;5;241m.\u001b[39m_getitem_multilevel(key)\n\u001b[1;32m-> 4102\u001b[0m indexer \u001b[38;5;241m=\u001b[39m \u001b[38;5;28mself\u001b[39m\u001b[38;5;241m.\u001b[39mcolumns\u001b[38;5;241m.\u001b[39mget_loc(key)\n\u001b[0;32m   4103\u001b[0m \u001b[38;5;28;01mif\u001b[39;00m is_integer(indexer):\n\u001b[0;32m   4104\u001b[0m     indexer \u001b[38;5;241m=\u001b[39m [indexer]\n",
      "File \u001b[1;32mc:\\Users\\UMMY\\anaconda3\\Lib\\site-packages\\pandas\\core\\indexes\\base.py:3812\u001b[0m, in \u001b[0;36mIndex.get_loc\u001b[1;34m(self, key)\u001b[0m\n\u001b[0;32m   3807\u001b[0m     \u001b[38;5;28;01mif\u001b[39;00m \u001b[38;5;28misinstance\u001b[39m(casted_key, \u001b[38;5;28mslice\u001b[39m) \u001b[38;5;129;01mor\u001b[39;00m (\n\u001b[0;32m   3808\u001b[0m         \u001b[38;5;28misinstance\u001b[39m(casted_key, abc\u001b[38;5;241m.\u001b[39mIterable)\n\u001b[0;32m   3809\u001b[0m         \u001b[38;5;129;01mand\u001b[39;00m \u001b[38;5;28many\u001b[39m(\u001b[38;5;28misinstance\u001b[39m(x, \u001b[38;5;28mslice\u001b[39m) \u001b[38;5;28;01mfor\u001b[39;00m x \u001b[38;5;129;01min\u001b[39;00m casted_key)\n\u001b[0;32m   3810\u001b[0m     ):\n\u001b[0;32m   3811\u001b[0m         \u001b[38;5;28;01mraise\u001b[39;00m InvalidIndexError(key)\n\u001b[1;32m-> 3812\u001b[0m     \u001b[38;5;28;01mraise\u001b[39;00m \u001b[38;5;167;01mKeyError\u001b[39;00m(key) \u001b[38;5;28;01mfrom\u001b[39;00m \u001b[38;5;21;01merr\u001b[39;00m\n\u001b[0;32m   3813\u001b[0m \u001b[38;5;28;01mexcept\u001b[39;00m \u001b[38;5;167;01mTypeError\u001b[39;00m:\n\u001b[0;32m   3814\u001b[0m     \u001b[38;5;66;03m# If we have a listlike key, _check_indexing_error will raise\u001b[39;00m\n\u001b[0;32m   3815\u001b[0m     \u001b[38;5;66;03m#  InvalidIndexError. Otherwise we fall through and re-raise\u001b[39;00m\n\u001b[0;32m   3816\u001b[0m     \u001b[38;5;66;03m#  the TypeError.\u001b[39;00m\n\u001b[0;32m   3817\u001b[0m     \u001b[38;5;28mself\u001b[39m\u001b[38;5;241m.\u001b[39m_check_indexing_error(key)\n",
      "\u001b[1;31mKeyError\u001b[0m: 'Random Forest Predicted'"
     ]
    }
   ],
   "source": [
    "import matplotlib.pyplot as plt\n",
    "import seaborn as sns\n",
    "\n",
    "predictions['Random Forest Predicted'] = rf_model.predict(X_test)\n",
    "\n",
    "# Menghitung jumlah untuk setiap kelas dari data aktual dan hasil prediksi\n",
    "actual_counts = predictions['Actual'].value_counts().sort_index()\n",
    "lstm_counts = predictions['Predicted'].value_counts().sort_index()\n",
    "rf_counts = predictions['Random Forest Predicted'].value_counts().sort_index()\n",
    "\n",
    "\n",
    "# --- MODIFIKASI: Buat DataFrame perbandingan dengan tiga kolom ---\n",
    "comparison_df = pd.DataFrame({\n",
    "    'Actual': actual_counts,\n",
    "    'Predicted (LSTM)': lstm_counts,\n",
    "    'Random Forest': rf_counts\n",
    "}).fillna(0)\n",
    "\n",
    "\n",
    "# --- Buat Plot ---\n",
    "sns.set_style('whitegrid')\n",
    "fig, ax = plt.subplots(figsize=(10, 6)) # Ukuran disesuaikan agar tidak sempit\n",
    "\n",
    "# --- MODIFIKASI: Sesuaikan lebar bar untuk tiga bar ---\n",
    "bar_width = 0.25\n",
    "index = range(len(comparison_df))\n",
    "\n",
    "# Plot Actual (paling kiri)\n",
    "ax.bar([i - bar_width for i in index], comparison_df['Actual'], width=bar_width, label='Actual', color='salmon')\n",
    "\n",
    "# Plot Predicted LSTM (tengah)\n",
    "ax.bar(index, comparison_df['Predicted (LSTM)'], width=bar_width, label='Predicted (LSTM)', color='skyblue')\n",
    "\n",
    "# --- MODIFIKASI: Plot Predicted Random Forest (paling kanan) ---\n",
    "ax.bar([i + bar_width for i in index], comparison_df['Random Forest'], width=bar_width, label='Random Forest', color='lightgreen')\n",
    "\n",
    "\n",
    "# Set label dan title\n",
    "ax.set_xlabel('Class Sentiment', fontsize=12)\n",
    "ax.set_ylabel('Jumlah Tweet', fontsize=12)\n",
    "# --- MODIFIKASI: Judul diperbarui ---\n",
    "ax.set_title('Perbandingan Analisis Sentimen\\nActual vs LSTM vs Random Forest', fontsize=14, pad=20)\n",
    "ax.set_xticks(index)\n",
    "ax.set_xticklabels(comparison_df.index)\n",
    "ax.legend()\n",
    "\n",
    "\n",
    "# --- MODIFIKASI: Tambahkan jumlah di atas ketiga bar ---\n",
    "for i in index:\n",
    "    actual = comparison_df['Actual'].iloc[i]\n",
    "    lstm = comparison_df['Predicted (LSTM)'].iloc[i]\n",
    "    rf = comparison_df['Random Forest'].iloc[i]\n",
    "    \n",
    "    ax.text(i - bar_width, actual + 0.01, int(actual), ha='center', va='bottom', fontsize=9)\n",
    "    ax.text(i, lstm + 0.01, int(lstm), ha='center', va='bottom', fontsize=9)\n",
    "    ax.text(i + bar_width, rf + 0.01, int(rf), ha='center', va='bottom', fontsize=9)\n",
    "\n",
    "plt.tight_layout()\n",
    "plt.show()"
   ]
  }
 ],
 "metadata": {
  "kernelspec": {
   "display_name": "base",
   "language": "python",
   "name": "python3"
  },
  "language_info": {
   "codemirror_mode": {
    "name": "ipython",
    "version": 3
   },
   "file_extension": ".py",
   "mimetype": "text/x-python",
   "name": "python",
   "nbconvert_exporter": "python",
   "pygments_lexer": "ipython3",
   "version": "3.12.7"
  }
 },
 "nbformat": 4,
 "nbformat_minor": 5
}
