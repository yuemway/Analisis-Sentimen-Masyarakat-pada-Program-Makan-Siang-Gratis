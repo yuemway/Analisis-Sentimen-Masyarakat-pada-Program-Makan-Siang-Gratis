{
 "cells": [
  {
   "cell_type": "code",
   "execution_count": 35,
   "id": "ff5e344b",
   "metadata": {},
   "outputs": [],
   "source": [
    "import pandas as pd\n",
    "import numpy as np\n",
    "import json\n",
    "import tensorflow as tf\n",
    "from tensorflow.keras.models import load_model\n",
    "from tensorflow.keras.preprocessing.text import Tokenizer\n",
    "from tensorflow.keras.preprocessing.sequence import pad_sequences\n",
    "from sklearn.metrics import classification_report, confusion_matrix\n",
    "import matplotlib.pyplot as plt\n",
    "import seaborn as sns"
   ]
  },
  {
   "cell_type": "code",
   "execution_count": 36,
   "id": "3dabe258",
   "metadata": {},
   "outputs": [],
   "source": [
    "class F1Score(tf.keras.metrics.Metric):\n",
    "    def __init__(self, name=\"f1_score\", **kwargs):\n",
    "        super(F1Score, self).__init__(name=name, **kwargs)\n",
    "        self.precision = tf.keras.metrics.Precision()\n",
    "        self.recall = tf.keras.metrics.Recall()\n",
    "    def update_state(self, y_true, y_pred, sample_weight=None):\n",
    "        y_pred_labels = tf.argmax(y_pred, axis=1)\n",
    "        self.precision.update_state(y_true, y_pred_labels, sample_weight)\n",
    "        self.recall.update_state(y_true, y_pred_labels, sample_weight)\n",
    "    def result(self):\n",
    "        precision = self.precision.result()\n",
    "        recall = self.recall.result()\n",
    "        return 2 * (precision * recall) / (precision + recall + tf.keras.backend.epsilon())\n",
    "    def reset_states(self):\n",
    "        self.precision.reset_states()\n",
    "        self.recall.reset_states()"
   ]
  },
  {
   "cell_type": "code",
   "execution_count": 37,
   "id": "1bdd5fe7",
   "metadata": {},
   "outputs": [
    {
     "name": "stderr",
     "output_type": "stream",
     "text": [
      "WARNING:absl:Compiled the loaded model, but the compiled metrics have yet to be built. `model.compile_metrics` will be empty until you train or evaluate the model.\n"
     ]
    }
   ],
   "source": [
    "model = load_model('bidirectional_lstm/bidirectional_lstm_model.h5', \n",
    "                   custom_objects={'F1Score': F1Score})"
   ]
  },
  {
   "cell_type": "code",
   "execution_count": 38,
   "id": "4d90b5b9",
   "metadata": {},
   "outputs": [],
   "source": [
    "with open('bidirectional_lstm/word_index.json', 'r') as file:\n",
    "    word_index = json.load(file)"
   ]
  },
  {
   "cell_type": "code",
   "execution_count": 39,
   "id": "2a93af3d",
   "metadata": {},
   "outputs": [],
   "source": [
    "tokenizer = Tokenizer()\n",
    "tokenizer.word_index = word_index"
   ]
  },
  {
   "cell_type": "code",
   "execution_count": 40,
   "id": "cb14c05b",
   "metadata": {},
   "outputs": [],
   "source": [
    "data1 = pd.read_csv('datalabel/mbglabel.csv')\n",
    "data2 = pd.read_csv('datalabel/mbg2label.csv')"
   ]
  },
  {
   "cell_type": "code",
   "execution_count": 41,
   "id": "edfa6c4c",
   "metadata": {},
   "outputs": [],
   "source": [
    "datagabung = pd.concat([data1, data2], ignore_index=True)"
   ]
  },
  {
   "cell_type": "code",
   "execution_count": 42,
   "id": "254d420a",
   "metadata": {},
   "outputs": [
    {
     "data": {
      "text/plain": [
       "steming_data    2\n",
       "Sentiment       0\n",
       "dtype: int64"
      ]
     },
     "execution_count": 42,
     "metadata": {},
     "output_type": "execute_result"
    }
   ],
   "source": [
    "datagabung.isna().sum()"
   ]
  },
  {
   "cell_type": "code",
   "execution_count": 43,
   "id": "15b10b3f",
   "metadata": {},
   "outputs": [],
   "source": [
    "datagabung.dropna(subset=['steming_data'], inplace=True)"
   ]
  },
  {
   "cell_type": "code",
   "execution_count": 44,
   "id": "8c821d08",
   "metadata": {},
   "outputs": [
    {
     "data": {
      "text/plain": [
       "steming_data    0\n",
       "Sentiment       0\n",
       "dtype: int64"
      ]
     },
     "execution_count": 44,
     "metadata": {},
     "output_type": "execute_result"
    }
   ],
   "source": [
    "datagabung.isna().sum()"
   ]
  },
  {
   "cell_type": "code",
   "execution_count": 45,
   "id": "7fc2a587",
   "metadata": {},
   "outputs": [],
   "source": [
    "datagabung.to_csv(\"datambg.csv\", index=False)"
   ]
  },
  {
   "cell_type": "code",
   "execution_count": 46,
   "id": "4c0cdaae",
   "metadata": {},
   "outputs": [],
   "source": [
    "data = pd.read_csv('datambg.csv')"
   ]
  },
  {
   "cell_type": "code",
   "execution_count": 47,
   "id": "f1222cef",
   "metadata": {},
   "outputs": [],
   "source": [
    "X_test = data['steming_data'].astype(str)\n",
    "y_test_text = data['Sentiment']"
   ]
  },
  {
   "cell_type": "code",
   "execution_count": 48,
   "id": "00cd4916",
   "metadata": {},
   "outputs": [],
   "source": [
    "category_to_number = {'Positif': 0, 'Negatif': 1, 'Netral': 2}\n",
    "y_test_numbered = y_test_text.map(category_to_number)"
   ]
  },
  {
   "cell_type": "code",
   "execution_count": 49,
   "id": "2fdb8c2a",
   "metadata": {},
   "outputs": [
    {
     "data": {
      "text/plain": [
       "1174"
      ]
     },
     "execution_count": 49,
     "metadata": {},
     "output_type": "execute_result"
    }
   ],
   "source": [
    "max_length = data['steming_data'].apply(len).max()\n",
    "max_length"
   ]
  },
  {
   "cell_type": "code",
   "execution_count": 50,
   "id": "73806530",
   "metadata": {},
   "outputs": [],
   "source": [
    "X_test_seq = tokenizer.texts_to_sequences(X_test)"
   ]
  },
  {
   "cell_type": "code",
   "execution_count": 51,
   "id": "b4c4013c",
   "metadata": {},
   "outputs": [
    {
     "data": {
      "text/plain": [
       "array([[   1,    3,    2, ...,    0,    0,    0],\n",
       "       [ 290,    9, 2113, ...,    0,    0,    0],\n",
       "       [  19, 7744, 7745, ...,    0,    0,    0],\n",
       "       ...,\n",
       "       [ 167,    9,   40, ...,    0,    0,    0],\n",
       "       [ 347,    9, 9573, ...,    0,    0,    0],\n",
       "       [   9,   10,    0, ...,    0,    0,    0]])"
      ]
     },
     "execution_count": 51,
     "metadata": {},
     "output_type": "execute_result"
    }
   ],
   "source": [
    "X_test_pad = pad_sequences(X_test_seq, maxlen=max_length, padding='post', truncating='post')\n",
    "X_test_pad"
   ]
  },
  {
   "cell_type": "code",
   "execution_count": 52,
   "id": "13cda7af",
   "metadata": {},
   "outputs": [
    {
     "name": "stdout",
     "output_type": "stream",
     "text": [
      "\u001b[1m326/326\u001b[0m \u001b[32m━━━━━━━━━━━━━━━━━━━━\u001b[0m\u001b[37m\u001b[0m \u001b[1m33s\u001b[0m 98ms/step\n"
     ]
    },
    {
     "data": {
      "text/plain": [
       "array([[9.4523191e-01, 1.9855742e-04, 5.4569524e-02],\n",
       "       [9.9061406e-01, 1.2710003e-05, 9.3731862e-03],\n",
       "       [9.9775946e-01, 1.2201532e-06, 2.2393018e-03],\n",
       "       ...,\n",
       "       [9.9142820e-01, 9.8133787e-06, 8.5620265e-03],\n",
       "       [6.8120807e-02, 6.6393726e-02, 8.6548549e-01],\n",
       "       [1.2102979e-01, 4.4854715e-02, 8.3411551e-01]], dtype=float32)"
      ]
     },
     "execution_count": 52,
     "metadata": {},
     "output_type": "execute_result"
    }
   ],
   "source": [
    "y_pred_proba = model.predict(X_test_pad)\n",
    "y_pred_proba"
   ]
  },
  {
   "cell_type": "code",
   "execution_count": 53,
   "id": "cc476dea",
   "metadata": {},
   "outputs": [],
   "source": [
    "y_pred_classes = np.argmax(y_pred_proba, axis=1)"
   ]
  },
  {
   "cell_type": "code",
   "execution_count": 54,
   "id": "527ca1f2",
   "metadata": {},
   "outputs": [],
   "source": [
    "class_names = ['Positif', 'Negatif', 'Netral']\n",
    "labels_ordered = [0, 1, 2]"
   ]
  },
  {
   "cell_type": "code",
   "execution_count": 55,
   "id": "7273d3e3",
   "metadata": {},
   "outputs": [
    {
     "name": "stdout",
     "output_type": "stream",
     "text": [
      "              precision    recall  f1-score   support\n",
      "\n",
      "     Positif       0.98      0.96      0.97      7048\n",
      "     Negatif       0.97      0.91      0.94      1665\n",
      "      Netral       0.80      0.91      0.85      1694\n",
      "\n",
      "    accuracy                           0.94     10407\n",
      "   macro avg       0.92      0.93      0.92     10407\n",
      "weighted avg       0.95      0.94      0.95     10407\n",
      "\n"
     ]
    }
   ],
   "source": [
    "print(classification_report(y_test_numbered, y_pred_classes, target_names=class_names, labels=labels_ordered))"
   ]
  },
  {
   "cell_type": "code",
   "execution_count": 56,
   "id": "9f5e056c",
   "metadata": {},
   "outputs": [
    {
     "data": {
      "image/png": "[encoded data removed]",
      "text/plain": [
       "<Figure size 800x600 with 2 Axes>"
      ]
     },
     "metadata": {},
     "output_type": "display_data"
    }
   ],
   "source": [
    "conf_matrix = confusion_matrix(y_test_numbered, y_pred_classes, labels=labels_ordered)\n",
    "\n",
    "plt.figure(figsize=(8, 6))\n",
    "sns.heatmap(conf_matrix, annot=True, fmt='d', cmap='Blues', \n",
    "            xticklabels=class_names, yticklabels=class_names)\n",
    "plt.title('Confusion Matrix pada Data Tes')\n",
    "plt.xlabel('Predicted Label')\n",
    "plt.ylabel('True Label')\n",
    "plt.show()"
   ]
  },
  {
   "cell_type": "markdown",
   "id": "0b6ba874",
   "metadata": {},
   "source": []
  },
  {
   "cell_type": "code",
   "execution_count": 57,
   "id": "3b01c84a",
   "metadata": {},
   "outputs": [
    {
     "ename": "KeyError",
     "evalue": "'Actual'",
     "output_type": "error",
     "traceback": [
      "\u001b[1;31m---------------------------------------------------------------------------\u001b[0m",
      "\u001b[1;31mKeyError\u001b[0m                                  Traceback (most recent call last)",
      "File \u001b[1;32mc:\\Users\\UMMY\\anaconda3\\Lib\\site-packages\\pandas\\core\\indexes\\base.py:3805\u001b[0m, in \u001b[0;36mIndex.get_loc\u001b[1;34m(self, key)\u001b[0m\n\u001b[0;32m   3804\u001b[0m \u001b[38;5;28;01mtry\u001b[39;00m:\n\u001b[1;32m-> 3805\u001b[0m     \u001b[38;5;28;01mreturn\u001b[39;00m \u001b[38;5;28mself\u001b[39m\u001b[38;5;241m.\u001b[39m_engine\u001b[38;5;241m.\u001b[39mget_loc(casted_key)\n\u001b[0;32m   3806\u001b[0m \u001b[38;5;28;01mexcept\u001b[39;00m \u001b[38;5;167;01mKeyError\u001b[39;00m \u001b[38;5;28;01mas\u001b[39;00m err:\n",
      "File \u001b[1;32mindex.pyx:167\u001b[0m, in \u001b[0;36mpandas._libs.index.IndexEngine.get_loc\u001b[1;34m()\u001b[0m\n",
      "File \u001b[1;32mindex.pyx:196\u001b[0m, in \u001b[0;36mpandas._libs.index.IndexEngine.get_loc\u001b[1;34m()\u001b[0m\n",
      "File \u001b[1;32mpandas\\\\_libs\\\\hashtable_class_helper.pxi:7081\u001b[0m, in \u001b[0;36mpandas._libs.hashtable.PyObjectHashTable.get_item\u001b[1;34m()\u001b[0m\n",
      "File \u001b[1;32mpandas\\\\_libs\\\\hashtable_class_helper.pxi:7089\u001b[0m, in \u001b[0;36mpandas._libs.hashtable.PyObjectHashTable.get_item\u001b[1;34m()\u001b[0m\n",
      "\u001b[1;31mKeyError\u001b[0m: 'Actual'",
      "\nThe above exception was the direct cause of the following exception:\n",
      "\u001b[1;31mKeyError\u001b[0m                                  Traceback (most recent call last)",
      "Cell \u001b[1;32mIn[57], line 14\u001b[0m\n\u001b[0;32m      4\u001b[0m \u001b[38;5;28;01mimport\u001b[39;00m \u001b[38;5;21;01mseaborn\u001b[39;00m \u001b[38;5;28;01mas\u001b[39;00m \u001b[38;5;21;01msns\u001b[39;00m\n\u001b[0;32m      6\u001b[0m \u001b[38;5;66;03m# --- LANGKAH 1: Siapkan Data ---\u001b[39;00m\n\u001b[0;32m      7\u001b[0m \u001b[38;5;66;03m# Di sini, Anda akan menggunakan DataFrame 'results_df' yang berisi hasil prediksi Anda.\u001b[39;00m\n\u001b[0;32m      8\u001b[0m \u001b[38;5;66;03m# Saya akan membuat data contoh agar kode ini bisa berjalan.\u001b[39;00m\n\u001b[1;32m   (...)\u001b[0m\n\u001b[0;32m     12\u001b[0m \n\u001b[0;32m     13\u001b[0m \u001b[38;5;66;03m# --- LANGKAH 2: Hitung Jumlah Aktual dan Prediksi per Kategori ---\u001b[39;00m\n\u001b[1;32m---> 14\u001b[0m actual_counts \u001b[38;5;241m=\u001b[39m data[\u001b[38;5;124m'\u001b[39m\u001b[38;5;124mActual\u001b[39m\u001b[38;5;124m'\u001b[39m]\u001b[38;5;241m.\u001b[39mvalue_counts()\n\u001b[0;32m     15\u001b[0m predicted_counts \u001b[38;5;241m=\u001b[39m data[\u001b[38;5;124m'\u001b[39m\u001b[38;5;124mPredicted\u001b[39m\u001b[38;5;124m'\u001b[39m]\u001b[38;5;241m.\u001b[39mvalue_counts()\n\u001b[0;32m     17\u001b[0m \u001b[38;5;66;03m# Gabungkan hasil hitungan ke dalam satu DataFrame\u001b[39;00m\n",
      "File \u001b[1;32mc:\\Users\\UMMY\\anaconda3\\Lib\\site-packages\\pandas\\core\\frame.py:4102\u001b[0m, in \u001b[0;36mDataFrame.__getitem__\u001b[1;34m(self, key)\u001b[0m\n\u001b[0;32m   4100\u001b[0m \u001b[38;5;28;01mif\u001b[39;00m \u001b[38;5;28mself\u001b[39m\u001b[38;5;241m.\u001b[39mcolumns\u001b[38;5;241m.\u001b[39mnlevels \u001b[38;5;241m>\u001b[39m \u001b[38;5;241m1\u001b[39m:\n\u001b[0;32m   4101\u001b[0m     \u001b[38;5;28;01mreturn\u001b[39;00m \u001b[38;5;28mself\u001b[39m\u001b[38;5;241m.\u001b[39m_getitem_multilevel(key)\n\u001b[1;32m-> 4102\u001b[0m indexer \u001b[38;5;241m=\u001b[39m \u001b[38;5;28mself\u001b[39m\u001b[38;5;241m.\u001b[39mcolumns\u001b[38;5;241m.\u001b[39mget_loc(key)\n\u001b[0;32m   4103\u001b[0m \u001b[38;5;28;01mif\u001b[39;00m is_integer(indexer):\n\u001b[0;32m   4104\u001b[0m     indexer \u001b[38;5;241m=\u001b[39m [indexer]\n",
      "File \u001b[1;32mc:\\Users\\UMMY\\anaconda3\\Lib\\site-packages\\pandas\\core\\indexes\\base.py:3812\u001b[0m, in \u001b[0;36mIndex.get_loc\u001b[1;34m(self, key)\u001b[0m\n\u001b[0;32m   3807\u001b[0m     \u001b[38;5;28;01mif\u001b[39;00m \u001b[38;5;28misinstance\u001b[39m(casted_key, \u001b[38;5;28mslice\u001b[39m) \u001b[38;5;129;01mor\u001b[39;00m (\n\u001b[0;32m   3808\u001b[0m         \u001b[38;5;28misinstance\u001b[39m(casted_key, abc\u001b[38;5;241m.\u001b[39mIterable)\n\u001b[0;32m   3809\u001b[0m         \u001b[38;5;129;01mand\u001b[39;00m \u001b[38;5;28many\u001b[39m(\u001b[38;5;28misinstance\u001b[39m(x, \u001b[38;5;28mslice\u001b[39m) \u001b[38;5;28;01mfor\u001b[39;00m x \u001b[38;5;129;01min\u001b[39;00m casted_key)\n\u001b[0;32m   3810\u001b[0m     ):\n\u001b[0;32m   3811\u001b[0m         \u001b[38;5;28;01mraise\u001b[39;00m InvalidIndexError(key)\n\u001b[1;32m-> 3812\u001b[0m     \u001b[38;5;28;01mraise\u001b[39;00m \u001b[38;5;167;01mKeyError\u001b[39;00m(key) \u001b[38;5;28;01mfrom\u001b[39;00m \u001b[38;5;21;01merr\u001b[39;00m\n\u001b[0;32m   3813\u001b[0m \u001b[38;5;28;01mexcept\u001b[39;00m \u001b[38;5;167;01mTypeError\u001b[39;00m:\n\u001b[0;32m   3814\u001b[0m     \u001b[38;5;66;03m# If we have a listlike key, _check_indexing_error will raise\u001b[39;00m\n\u001b[0;32m   3815\u001b[0m     \u001b[38;5;66;03m#  InvalidIndexError. Otherwise we fall through and re-raise\u001b[39;00m\n\u001b[0;32m   3816\u001b[0m     \u001b[38;5;66;03m#  the TypeError.\u001b[39;00m\n\u001b[0;32m   3817\u001b[0m     \u001b[38;5;28mself\u001b[39m\u001b[38;5;241m.\u001b[39m_check_indexing_error(key)\n",
      "\u001b[1;31mKeyError\u001b[0m: 'Actual'"
     ]
    }
   ],
   "source": [
    "import pandas as pd\n",
    "import matplotlib.pyplot as plt\n",
    "import numpy as np\n",
    "import seaborn as sns\n",
    "\n",
    "# --- LANGKAH 1: Siapkan Data ---\n",
    "# Di sini, Anda akan menggunakan DataFrame 'results_df' yang berisi hasil prediksi Anda.\n",
    "# Saya akan membuat data contoh agar kode ini bisa berjalan.\n",
    "# HAPUS BAGIAN INI jika Anda menjalankan di notebook yang sama.\n",
    "\n",
    "\n",
    "\n",
    "# --- LANGKAH 2: Hitung Jumlah Aktual dan Prediksi per Kategori ---\n",
    "actual_counts = data['Actual'].value_counts()\n",
    "predicted_counts = data['Predicted'].value_counts()\n",
    "\n",
    "# Gabungkan hasil hitungan ke dalam satu DataFrame\n",
    "plot_df = pd.DataFrame({\n",
    "    'Actual': actual_counts,\n",
    "    'Predicted': predicted_counts\n",
    "}).fillna(0).astype(int)\n",
    "\n",
    "# BARIS FILTER DIHAPUS: Sekarang semua kelas akan ditampilkan\n",
    "# plot_df = plot_df.loc[['Negatif', 'Positif']] # <-- Baris ini dihapus\n",
    "\n",
    "\n",
    "# --- LANGKAH 3: Buat Plot Batang (Bar Chart) ---\n",
    "sns.set_style(\"whitegrid\")\n",
    "labels = plot_df.index.tolist() # -> ['Positif', 'Negatif', 'Netral']\n",
    "x = np.arange(len(labels))  # Posisi label di sumbu x\n",
    "width = 0.35  # Lebar setiap batang\n",
    "\n",
    "fig, ax = plt.subplots(figsize=(10, 7))\n",
    "\n",
    "# Membuat batang untuk 'Predicted'\n",
    "rects1 = ax.bar(x - width/2, plot_df['Predicted'], width, label='Predicted', color='skyblue')\n",
    "\n",
    "# Membuat batang untuk 'Actual'\n",
    "rects2 = ax.bar(x + width/2, plot_df['Actual'], width, label='Actual', color='salmon')\n",
    "\n",
    "# Menambahkan label, judul, dan legenda\n",
    "ax.set_ylabel('Jumlah Tweet', fontsize=12)\n",
    "ax.set_xlabel('Class Sentiment', fontsize=12)\n",
    "ax.set_title('Perbandingan Analisis Sentimen\\nActual VS Predicted Algoritma LSTM', fontsize=14)\n",
    "ax.set_xticks(x)\n",
    "ax.set_xticklabels(labels)\n",
    "ax.legend()\n",
    "\n",
    "# Menambahkan angka di atas setiap batang\n",
    "ax.bar_label(rects1, padding=3)\n",
    "ax.bar_label(rects2, padding=3)\n",
    "\n",
    "# Merapikan layout dan menampilkan plot\n",
    "fig.tight_layout()\n",
    "plt.show()"
   ]
  }
 ],
 "metadata": {
  "kernelspec": {
   "display_name": "base",
   "language": "python",
   "name": "python3"
  },
  "language_info": {
   "codemirror_mode": {
    "name": "ipython",
    "version": 3
   },
   "file_extension": ".py",
   "mimetype": "text/x-python",
   "name": "python",
   "nbconvert_exporter": "python",
   "pygments_lexer": "ipython3",
   "version": "3.12.7"
  }
 },
 "nbformat": 4,
 "nbformat_minor": 5
}
