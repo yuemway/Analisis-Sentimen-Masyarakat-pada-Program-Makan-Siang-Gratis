{
 "cells": [
  {
   "cell_type": "code",
   "execution_count": 17,
   "metadata": {},
   "outputs": [],
   "source": [
    "import pandas as pd\n",
    "import re\n",
    "import nltk\n",
    "from nltk.corpus import stopwords\n",
    "from nltk.tokenize import word_tokenize\n",
    "from Sastrawi.Stemmer.StemmerFactory import StemmerFactory"
   ]
  },
  {
   "cell_type": "code",
   "execution_count": 18,
   "metadata": {},
   "outputs": [],
   "source": [
    "data1 = pd.read_csv('data/makan.csv')\n",
    "data2 = pd.read_csv('data/mam.csv')\n",
    "data3 = pd.read_csv('data/programmams.csv')"
   ]
  },
  {
   "cell_type": "code",
   "execution_count": 19,
   "metadata": {},
   "outputs": [],
   "source": [
    "# Menggabungkan semua dataframe dalam list menjadi satu\n",
    "data = pd.concat([data1, data2, data3], ignore_index=True)"
   ]
  },
  {
   "cell_type": "code",
   "execution_count": 20,
   "metadata": {},
   "outputs": [
    {
     "data": {
      "text/html": [
       "<div>\n",
       "<style scoped>\n",
       "    .dataframe tbody tr th:only-of-type {\n",
       "        vertical-align: middle;\n",
       "    }\n",
       "\n",
       "    .dataframe tbody tr th {\n",
       "        vertical-align: top;\n",
       "    }\n",
       "\n",
       "    .dataframe thead th {\n",
       "        text-align: right;\n",
       "    }\n",
       "</style>\n",
       "<table border=\"1\" class=\"dataframe\">\n",
       "  <thead>\n",
       "    <tr style=\"text-align: right;\">\n",
       "      <th></th>\n",
       "      <th>conversation_id_str</th>\n",
       "      <th>created_at</th>\n",
       "      <th>favorite_count</th>\n",
       "      <th>full_text</th>\n",
       "      <th>id_str</th>\n",
       "      <th>image_url</th>\n",
       "      <th>in_reply_to_screen_name</th>\n",
       "      <th>lang</th>\n",
       "      <th>location</th>\n",
       "      <th>quote_count</th>\n",
       "      <th>reply_count</th>\n",
       "      <th>retweet_count</th>\n",
       "      <th>tweet_url</th>\n",
       "      <th>user_id_str</th>\n",
       "      <th>username</th>\n",
       "    </tr>\n",
       "  </thead>\n",
       "  <tbody>\n",
       "    <tr>\n",
       "      <th>0</th>\n",
       "      <td>1883189741312684380</td>\n",
       "      <td>Sat Jan 25 16:26:36 +0000 2025</td>\n",
       "      <td>0</td>\n",
       "      <td>Daripada makan siang gratis mendingan ini.</td>\n",
       "      <td>1883189741312684380</td>\n",
       "      <td>NaN</td>\n",
       "      <td>NaN</td>\n",
       "      <td>in</td>\n",
       "      <td>Banten, Indonesia</td>\n",
       "      <td>0</td>\n",
       "      <td>0</td>\n",
       "      <td>0</td>\n",
       "      <td>https://x.com/finidebriani/status/188318974131...</td>\n",
       "      <td>83586867</td>\n",
       "      <td>finidebriani</td>\n",
       "    </tr>\n",
       "    <tr>\n",
       "      <th>1</th>\n",
       "      <td>1883086569915232560</td>\n",
       "      <td>Sat Jan 25 16:16:05 +0000 2025</td>\n",
       "      <td>0</td>\n",
       "      <td>@vernonsipil @BANGSAygSUJUD membela mbg disebu...</td>\n",
       "      <td>1883187091938681249</td>\n",
       "      <td>NaN</td>\n",
       "      <td>vernonsipil</td>\n",
       "      <td>in</td>\n",
       "      <td>NaN</td>\n",
       "      <td>0</td>\n",
       "      <td>0</td>\n",
       "      <td>0</td>\n",
       "      <td>https://x.com/WhiteTigerXR/status/188318709193...</td>\n",
       "      <td>1856386235268530176</td>\n",
       "      <td>WhiteTigerXR</td>\n",
       "    </tr>\n",
       "    <tr>\n",
       "      <th>2</th>\n",
       "      <td>1883003041932300417</td>\n",
       "      <td>Sat Jan 25 16:07:31 +0000 2025</td>\n",
       "      <td>0</td>\n",
       "      <td>@idextratime makanya itu anggaran dituruninnya...</td>\n",
       "      <td>1883184937186246738</td>\n",
       "      <td>NaN</td>\n",
       "      <td>idextratime</td>\n",
       "      <td>in</td>\n",
       "      <td>NaN</td>\n",
       "      <td>0</td>\n",
       "      <td>0</td>\n",
       "      <td>0</td>\n",
       "      <td>https://x.com/smaskots/status/1883184937186246738</td>\n",
       "      <td>1158288381631090688</td>\n",
       "      <td>smaskots</td>\n",
       "    </tr>\n",
       "    <tr>\n",
       "      <th>3</th>\n",
       "      <td>1883184703953613092</td>\n",
       "      <td>Sat Jan 25 16:06:35 +0000 2025</td>\n",
       "      <td>0</td>\n",
       "      <td>Jadi karyawan di industri Cikarang dapat makan...</td>\n",
       "      <td>1883184703953613092</td>\n",
       "      <td>NaN</td>\n",
       "      <td>NaN</td>\n",
       "      <td>in</td>\n",
       "      <td>NaN</td>\n",
       "      <td>0</td>\n",
       "      <td>0</td>\n",
       "      <td>0</td>\n",
       "      <td>https://x.com/annartelier/status/1883184703953...</td>\n",
       "      <td>1531300105844068353</td>\n",
       "      <td>annartelier</td>\n",
       "    </tr>\n",
       "    <tr>\n",
       "      <th>4</th>\n",
       "      <td>1882806044201750794</td>\n",
       "      <td>Sat Jan 25 15:58:57 +0000 2025</td>\n",
       "      <td>0</td>\n",
       "      <td>@excettra Jangan jangan diambil abang ya makan...</td>\n",
       "      <td>1883182780517081290</td>\n",
       "      <td>NaN</td>\n",
       "      <td>excettra</td>\n",
       "      <td>in</td>\n",
       "      <td>NaN</td>\n",
       "      <td>0</td>\n",
       "      <td>1</td>\n",
       "      <td>0</td>\n",
       "      <td>https://x.com/Licelalissa/status/1883182780517...</td>\n",
       "      <td>2562463639</td>\n",
       "      <td>Licelalissa</td>\n",
       "    </tr>\n",
       "  </tbody>\n",
       "</table>\n",
       "</div>"
      ],
      "text/plain": [
       "   conversation_id_str                      created_at  favorite_count  \\\n",
       "0  1883189741312684380  Sat Jan 25 16:26:36 +0000 2025               0   \n",
       "1  1883086569915232560  Sat Jan 25 16:16:05 +0000 2025               0   \n",
       "2  1883003041932300417  Sat Jan 25 16:07:31 +0000 2025               0   \n",
       "3  1883184703953613092  Sat Jan 25 16:06:35 +0000 2025               0   \n",
       "4  1882806044201750794  Sat Jan 25 15:58:57 +0000 2025               0   \n",
       "\n",
       "                                           full_text               id_str  \\\n",
       "0         Daripada makan siang gratis mendingan ini.  1883189741312684380   \n",
       "1  @vernonsipil @BANGSAygSUJUD membela mbg disebu...  1883187091938681249   \n",
       "2  @idextratime makanya itu anggaran dituruninnya...  1883184937186246738   \n",
       "3  Jadi karyawan di industri Cikarang dapat makan...  1883184703953613092   \n",
       "4  @excettra Jangan jangan diambil abang ya makan...  1883182780517081290   \n",
       "\n",
       "  image_url in_reply_to_screen_name lang           location  quote_count  \\\n",
       "0       NaN                     NaN   in  Banten, Indonesia            0   \n",
       "1       NaN             vernonsipil   in                NaN            0   \n",
       "2       NaN             idextratime   in                NaN            0   \n",
       "3       NaN                     NaN   in                NaN            0   \n",
       "4       NaN                excettra   in                NaN            0   \n",
       "\n",
       "   reply_count  retweet_count  \\\n",
       "0            0              0   \n",
       "1            0              0   \n",
       "2            0              0   \n",
       "3            0              0   \n",
       "4            1              0   \n",
       "\n",
       "                                           tweet_url          user_id_str  \\\n",
       "0  https://x.com/finidebriani/status/188318974131...             83586867   \n",
       "1  https://x.com/WhiteTigerXR/status/188318709193...  1856386235268530176   \n",
       "2  https://x.com/smaskots/status/1883184937186246738  1158288381631090688   \n",
       "3  https://x.com/annartelier/status/1883184703953...  1531300105844068353   \n",
       "4  https://x.com/Licelalissa/status/1883182780517...           2562463639   \n",
       "\n",
       "       username  \n",
       "0  finidebriani  \n",
       "1  WhiteTigerXR  \n",
       "2      smaskots  \n",
       "3   annartelier  \n",
       "4   Licelalissa  "
      ]
     },
     "execution_count": 20,
     "metadata": {},
     "output_type": "execute_result"
    }
   ],
   "source": [
    "data.head()"
   ]
  },
  {
   "cell_type": "code",
   "execution_count": 21,
   "metadata": {},
   "outputs": [
    {
     "data": {
      "text/html": [
       "<div>\n",
       "<style scoped>\n",
       "    .dataframe tbody tr th:only-of-type {\n",
       "        vertical-align: middle;\n",
       "    }\n",
       "\n",
       "    .dataframe tbody tr th {\n",
       "        vertical-align: top;\n",
       "    }\n",
       "\n",
       "    .dataframe thead th {\n",
       "        text-align: right;\n",
       "    }\n",
       "</style>\n",
       "<table border=\"1\" class=\"dataframe\">\n",
       "  <thead>\n",
       "    <tr style=\"text-align: right;\">\n",
       "      <th></th>\n",
       "      <th>conversation_id_str</th>\n",
       "      <th>created_at</th>\n",
       "      <th>favorite_count</th>\n",
       "      <th>full_text</th>\n",
       "      <th>id_str</th>\n",
       "      <th>image_url</th>\n",
       "      <th>in_reply_to_screen_name</th>\n",
       "      <th>lang</th>\n",
       "      <th>location</th>\n",
       "      <th>quote_count</th>\n",
       "      <th>reply_count</th>\n",
       "      <th>retweet_count</th>\n",
       "      <th>tweet_url</th>\n",
       "      <th>user_id_str</th>\n",
       "      <th>username</th>\n",
       "    </tr>\n",
       "  </thead>\n",
       "  <tbody>\n",
       "    <tr>\n",
       "      <th>12466</th>\n",
       "      <td>1849373172531077573</td>\n",
       "      <td>Thu Oct 24 13:22:22 +0000 2024</td>\n",
       "      <td>0</td>\n",
       "      <td>@inilahdotcom Usaha ini akan pulih sebentar la...</td>\n",
       "      <td>1849441303781925012</td>\n",
       "      <td>NaN</td>\n",
       "      <td>inilahdotcom</td>\n",
       "      <td>in</td>\n",
       "      <td>NaN</td>\n",
       "      <td>0</td>\n",
       "      <td>0</td>\n",
       "      <td>0</td>\n",
       "      <td>https://x.com/__nyai__/status/1849441303781925012</td>\n",
       "      <td>710653443287994369</td>\n",
       "      <td>__nyai__</td>\n",
       "    </tr>\n",
       "    <tr>\n",
       "      <th>12467</th>\n",
       "      <td>1849438330183733325</td>\n",
       "      <td>Thu Oct 24 13:10:33 +0000 2024</td>\n",
       "      <td>3</td>\n",
       "      <td>Status program makan siang gratis itu sumber d...</td>\n",
       "      <td>1849438330183733325</td>\n",
       "      <td>NaN</td>\n",
       "      <td>NaN</td>\n",
       "      <td>in</td>\n",
       "      <td>Any where any place</td>\n",
       "      <td>1</td>\n",
       "      <td>0</td>\n",
       "      <td>1</td>\n",
       "      <td>https://x.com/Nndraee07/status/184943833018373...</td>\n",
       "      <td>1521967420889477121</td>\n",
       "      <td>Nndraee07</td>\n",
       "    </tr>\n",
       "    <tr>\n",
       "      <th>12468</th>\n",
       "      <td>1849436318918733865</td>\n",
       "      <td>Thu Oct 24 13:02:33 +0000 2024</td>\n",
       "      <td>0</td>\n",
       "      <td>Pemkab Bima Tunggu Petunjuk Teknik tentang Pro...</td>\n",
       "      <td>1849436318918733865</td>\n",
       "      <td>NaN</td>\n",
       "      <td>NaN</td>\n",
       "      <td>in</td>\n",
       "      <td>Nusa Tenggara Barat, Indonesia</td>\n",
       "      <td>0</td>\n",
       "      <td>0</td>\n",
       "      <td>1</td>\n",
       "      <td>https://x.com/IDNTimesNTB/status/1849436318918...</td>\n",
       "      <td>1318858445940875264</td>\n",
       "      <td>IDNTimesNTB</td>\n",
       "    </tr>\n",
       "    <tr>\n",
       "      <th>12469</th>\n",
       "      <td>1849435458297864663</td>\n",
       "      <td>Thu Oct 24 12:59:08 +0000 2024</td>\n",
       "      <td>1</td>\n",
       "      <td>Program Makan Siang Bergizi Gratis di Sumbar B...</td>\n",
       "      <td>1849435458297864663</td>\n",
       "      <td>NaN</td>\n",
       "      <td>NaN</td>\n",
       "      <td>in</td>\n",
       "      <td>Sumatera Selatan, Indonesia</td>\n",
       "      <td>0</td>\n",
       "      <td>0</td>\n",
       "      <td>1</td>\n",
       "      <td>https://x.com/IDNTimesSumsel/status/1849435458...</td>\n",
       "      <td>1318860486759182336</td>\n",
       "      <td>IDNTimesSumsel</td>\n",
       "    </tr>\n",
       "    <tr>\n",
       "      <th>12470</th>\n",
       "      <td>1849340163518079036</td>\n",
       "      <td>Thu Oct 24 12:45:29 +0000 2024</td>\n",
       "      <td>0</td>\n",
       "      <td>@Sagita81774027 Pak @prabowo masih tetap mempe...</td>\n",
       "      <td>1849432021925540154</td>\n",
       "      <td>NaN</td>\n",
       "      <td>Sagita81774027</td>\n",
       "      <td>in</td>\n",
       "      <td>Indonesia</td>\n",
       "      <td>0</td>\n",
       "      <td>0</td>\n",
       "      <td>0</td>\n",
       "      <td>https://x.com/Gunawan53722139/status/184943202...</td>\n",
       "      <td>920096674227281920</td>\n",
       "      <td>Gunawan53722139</td>\n",
       "    </tr>\n",
       "  </tbody>\n",
       "</table>\n",
       "</div>"
      ],
      "text/plain": [
       "       conversation_id_str                      created_at  favorite_count  \\\n",
       "12466  1849373172531077573  Thu Oct 24 13:22:22 +0000 2024               0   \n",
       "12467  1849438330183733325  Thu Oct 24 13:10:33 +0000 2024               3   \n",
       "12468  1849436318918733865  Thu Oct 24 13:02:33 +0000 2024               0   \n",
       "12469  1849435458297864663  Thu Oct 24 12:59:08 +0000 2024               1   \n",
       "12470  1849340163518079036  Thu Oct 24 12:45:29 +0000 2024               0   \n",
       "\n",
       "                                               full_text               id_str  \\\n",
       "12466  @inilahdotcom Usaha ini akan pulih sebentar la...  1849441303781925012   \n",
       "12467  Status program makan siang gratis itu sumber d...  1849438330183733325   \n",
       "12468  Pemkab Bima Tunggu Petunjuk Teknik tentang Pro...  1849436318918733865   \n",
       "12469  Program Makan Siang Bergizi Gratis di Sumbar B...  1849435458297864663   \n",
       "12470  @Sagita81774027 Pak @prabowo masih tetap mempe...  1849432021925540154   \n",
       "\n",
       "      image_url in_reply_to_screen_name lang                        location  \\\n",
       "12466       NaN            inilahdotcom   in                             NaN   \n",
       "12467       NaN                     NaN   in             Any where any place   \n",
       "12468       NaN                     NaN   in  Nusa Tenggara Barat, Indonesia   \n",
       "12469       NaN                     NaN   in     Sumatera Selatan, Indonesia   \n",
       "12470       NaN          Sagita81774027   in                       Indonesia   \n",
       "\n",
       "       quote_count  reply_count  retweet_count  \\\n",
       "12466            0            0              0   \n",
       "12467            1            0              1   \n",
       "12468            0            0              1   \n",
       "12469            0            0              1   \n",
       "12470            0            0              0   \n",
       "\n",
       "                                               tweet_url          user_id_str  \\\n",
       "12466  https://x.com/__nyai__/status/1849441303781925012   710653443287994369   \n",
       "12467  https://x.com/Nndraee07/status/184943833018373...  1521967420889477121   \n",
       "12468  https://x.com/IDNTimesNTB/status/1849436318918...  1318858445940875264   \n",
       "12469  https://x.com/IDNTimesSumsel/status/1849435458...  1318860486759182336   \n",
       "12470  https://x.com/Gunawan53722139/status/184943202...   920096674227281920   \n",
       "\n",
       "              username  \n",
       "12466         __nyai__  \n",
       "12467        Nndraee07  \n",
       "12468      IDNTimesNTB  \n",
       "12469   IDNTimesSumsel  \n",
       "12470  Gunawan53722139  "
      ]
     },
     "execution_count": 21,
     "metadata": {},
     "output_type": "execute_result"
    }
   ],
   "source": [
    "data.tail()"
   ]
  },
  {
   "cell_type": "code",
   "execution_count": 22,
   "metadata": {},
   "outputs": [
    {
     "data": {
      "text/plain": [
       "12471"
      ]
     },
     "execution_count": 22,
     "metadata": {},
     "output_type": "execute_result"
    }
   ],
   "source": [
    "len(data)"
   ]
  },
  {
   "cell_type": "code",
   "execution_count": 23,
   "metadata": {},
   "outputs": [],
   "source": [
    "# Menghapus semua kolom selain 'full_text'\n",
    "data = data.drop(columns=[col for col in data.columns if col != 'full_text'])"
   ]
  },
  {
   "cell_type": "code",
   "execution_count": 24,
   "metadata": {},
   "outputs": [
    {
     "data": {
      "text/html": [
       "<div>\n",
       "<style scoped>\n",
       "    .dataframe tbody tr th:only-of-type {\n",
       "        vertical-align: middle;\n",
       "    }\n",
       "\n",
       "    .dataframe tbody tr th {\n",
       "        vertical-align: top;\n",
       "    }\n",
       "\n",
       "    .dataframe thead th {\n",
       "        text-align: right;\n",
       "    }\n",
       "</style>\n",
       "<table border=\"1\" class=\"dataframe\">\n",
       "  <thead>\n",
       "    <tr style=\"text-align: right;\">\n",
       "      <th></th>\n",
       "      <th>full_text</th>\n",
       "    </tr>\n",
       "  </thead>\n",
       "  <tbody>\n",
       "    <tr>\n",
       "      <th>0</th>\n",
       "      <td>Daripada makan siang gratis mendingan ini.</td>\n",
       "    </tr>\n",
       "    <tr>\n",
       "      <th>1</th>\n",
       "      <td>@vernonsipil @BANGSAygSUJUD membela mbg disebu...</td>\n",
       "    </tr>\n",
       "    <tr>\n",
       "      <th>2</th>\n",
       "      <td>@idextratime makanya itu anggaran dituruninnya...</td>\n",
       "    </tr>\n",
       "    <tr>\n",
       "      <th>3</th>\n",
       "      <td>Jadi karyawan di industri Cikarang dapat makan...</td>\n",
       "    </tr>\n",
       "    <tr>\n",
       "      <th>4</th>\n",
       "      <td>@excettra Jangan jangan diambil abang ya makan...</td>\n",
       "    </tr>\n",
       "  </tbody>\n",
       "</table>\n",
       "</div>"
      ],
      "text/plain": [
       "                                           full_text\n",
       "0         Daripada makan siang gratis mendingan ini.\n",
       "1  @vernonsipil @BANGSAygSUJUD membela mbg disebu...\n",
       "2  @idextratime makanya itu anggaran dituruninnya...\n",
       "3  Jadi karyawan di industri Cikarang dapat makan...\n",
       "4  @excettra Jangan jangan diambil abang ya makan..."
      ]
     },
     "execution_count": 24,
     "metadata": {},
     "output_type": "execute_result"
    }
   ],
   "source": [
    "data.head()"
   ]
  },
  {
   "cell_type": "code",
   "execution_count": 25,
   "metadata": {},
   "outputs": [
    {
     "data": {
      "text/html": [
       "<div>\n",
       "<style scoped>\n",
       "    .dataframe tbody tr th:only-of-type {\n",
       "        vertical-align: middle;\n",
       "    }\n",
       "\n",
       "    .dataframe tbody tr th {\n",
       "        vertical-align: top;\n",
       "    }\n",
       "\n",
       "    .dataframe thead th {\n",
       "        text-align: right;\n",
       "    }\n",
       "</style>\n",
       "<table border=\"1\" class=\"dataframe\">\n",
       "  <thead>\n",
       "    <tr style=\"text-align: right;\">\n",
       "      <th></th>\n",
       "      <th>full_text</th>\n",
       "    </tr>\n",
       "  </thead>\n",
       "  <tbody>\n",
       "    <tr>\n",
       "      <th>12466</th>\n",
       "      <td>@inilahdotcom Usaha ini akan pulih sebentar la...</td>\n",
       "    </tr>\n",
       "    <tr>\n",
       "      <th>12467</th>\n",
       "      <td>Status program makan siang gratis itu sumber d...</td>\n",
       "    </tr>\n",
       "    <tr>\n",
       "      <th>12468</th>\n",
       "      <td>Pemkab Bima Tunggu Petunjuk Teknik tentang Pro...</td>\n",
       "    </tr>\n",
       "    <tr>\n",
       "      <th>12469</th>\n",
       "      <td>Program Makan Siang Bergizi Gratis di Sumbar B...</td>\n",
       "    </tr>\n",
       "    <tr>\n",
       "      <th>12470</th>\n",
       "      <td>@Sagita81774027 Pak @prabowo masih tetap mempe...</td>\n",
       "    </tr>\n",
       "  </tbody>\n",
       "</table>\n",
       "</div>"
      ],
      "text/plain": [
       "                                               full_text\n",
       "12466  @inilahdotcom Usaha ini akan pulih sebentar la...\n",
       "12467  Status program makan siang gratis itu sumber d...\n",
       "12468  Pemkab Bima Tunggu Petunjuk Teknik tentang Pro...\n",
       "12469  Program Makan Siang Bergizi Gratis di Sumbar B...\n",
       "12470  @Sagita81774027 Pak @prabowo masih tetap mempe..."
      ]
     },
     "execution_count": 25,
     "metadata": {},
     "output_type": "execute_result"
    }
   ],
   "source": [
    "data.tail()"
   ]
  },
  {
   "cell_type": "code",
   "execution_count": 26,
   "metadata": {},
   "outputs": [
    {
     "name": "stdout",
     "output_type": "stream",
     "text": [
      "<class 'pandas.core.frame.DataFrame'>\n",
      "RangeIndex: 12471 entries, 0 to 12470\n",
      "Data columns (total 1 columns):\n",
      " #   Column     Non-Null Count  Dtype \n",
      "---  ------     --------------  ----- \n",
      " 0   full_text  12471 non-null  object\n",
      "dtypes: object(1)\n",
      "memory usage: 97.6+ KB\n"
     ]
    }
   ],
   "source": [
    "data.info()"
   ]
  },
  {
   "cell_type": "code",
   "execution_count": 27,
   "metadata": {},
   "outputs": [
    {
     "data": {
      "text/plain": [
       "12471"
      ]
     },
     "execution_count": 27,
     "metadata": {},
     "output_type": "execute_result"
    }
   ],
   "source": [
    "len(data)"
   ]
  },
  {
   "cell_type": "code",
   "execution_count": 28,
   "metadata": {},
   "outputs": [
    {
     "data": {
      "text/plain": [
       "full_text    0\n",
       "dtype: int64"
      ]
     },
     "execution_count": 28,
     "metadata": {},
     "output_type": "execute_result"
    }
   ],
   "source": [
    "data.isna().sum()"
   ]
  },
  {
   "cell_type": "code",
   "execution_count": 29,
   "metadata": {},
   "outputs": [
    {
     "data": {
      "text/plain": [
       "np.int64(3302)"
      ]
     },
     "execution_count": 29,
     "metadata": {},
     "output_type": "execute_result"
    }
   ],
   "source": [
    "data.duplicated().sum()"
   ]
  },
  {
   "cell_type": "code",
   "execution_count": 30,
   "metadata": {},
   "outputs": [],
   "source": [
    "data.drop_duplicates(inplace=True)"
   ]
  },
  {
   "cell_type": "code",
   "execution_count": 35,
   "metadata": {},
   "outputs": [],
   "source": [
    "# Ubah nama kolom 'full_text' jadi 'tweet'\n",
    "data = data.rename(columns={'full_text': 'tweet'})"
   ]
  },
  {
   "cell_type": "code",
   "execution_count": 31,
   "metadata": {},
   "outputs": [
    {
     "name": "stderr",
     "output_type": "stream",
     "text": [
      "[nltk_data] Downloading package stopwords to\n",
      "[nltk_data]     C:\\Users\\UMMY\\AppData\\Roaming\\nltk_data...\n",
      "[nltk_data]   Unzipping corpora\\stopwords.zip.\n"
     ]
    },
    {
     "data": {
      "text/plain": [
       "True"
      ]
     },
     "execution_count": 31,
     "metadata": {},
     "output_type": "execute_result"
    }
   ],
   "source": [
    "nltk.download(\"stopwords\")"
   ]
  },
  {
   "cell_type": "code",
   "execution_count": 36,
   "metadata": {},
   "outputs": [
    {
     "data": {
      "text/html": [
       "<div>\n",
       "<style scoped>\n",
       "    .dataframe tbody tr th:only-of-type {\n",
       "        vertical-align: middle;\n",
       "    }\n",
       "\n",
       "    .dataframe tbody tr th {\n",
       "        vertical-align: top;\n",
       "    }\n",
       "\n",
       "    .dataframe thead th {\n",
       "        text-align: right;\n",
       "    }\n",
       "</style>\n",
       "<table border=\"1\" class=\"dataframe\">\n",
       "  <thead>\n",
       "    <tr style=\"text-align: right;\">\n",
       "      <th></th>\n",
       "      <th>tweet</th>\n",
       "    </tr>\n",
       "  </thead>\n",
       "  <tbody>\n",
       "    <tr>\n",
       "      <th>0</th>\n",
       "      <td>Daripada makan siang gratis mendingan ini.</td>\n",
       "    </tr>\n",
       "    <tr>\n",
       "      <th>1</th>\n",
       "      <td>@vernonsipil @BANGSAygSUJUD membela mbg disebu...</td>\n",
       "    </tr>\n",
       "    <tr>\n",
       "      <th>2</th>\n",
       "      <td>@idextratime makanya itu anggaran dituruninnya...</td>\n",
       "    </tr>\n",
       "    <tr>\n",
       "      <th>3</th>\n",
       "      <td>Jadi karyawan di industri Cikarang dapat makan...</td>\n",
       "    </tr>\n",
       "    <tr>\n",
       "      <th>4</th>\n",
       "      <td>@excettra Jangan jangan diambil abang ya makan...</td>\n",
       "    </tr>\n",
       "  </tbody>\n",
       "</table>\n",
       "</div>"
      ],
      "text/plain": [
       "                                               tweet\n",
       "0         Daripada makan siang gratis mendingan ini.\n",
       "1  @vernonsipil @BANGSAygSUJUD membela mbg disebu...\n",
       "2  @idextratime makanya itu anggaran dituruninnya...\n",
       "3  Jadi karyawan di industri Cikarang dapat makan...\n",
       "4  @excettra Jangan jangan diambil abang ya makan..."
      ]
     },
     "execution_count": 36,
     "metadata": {},
     "output_type": "execute_result"
    }
   ],
   "source": [
    "data.head()"
   ]
  },
  {
   "cell_type": "code",
   "execution_count": 37,
   "metadata": {},
   "outputs": [],
   "source": [
    "def clean_tweet(tweet):\n",
    "    # Remove usernames after '@'\n",
    "    tweet = re.sub(r'@\\w+', '', tweet)\n",
    "    # Remove URLs\n",
    "    tweet = re.sub(r'http\\S+', '', tweet)\n",
    "    # Remove punctuation and special symbols (commas, periods, etc.)\n",
    "    tweet = re.sub(r'[^\\w\\s]', '', tweet)\n",
    "    # Remove extra whitespace\n",
    "    tweet = re.sub(r'\\s+', ' ', tweet).strip()\n",
    "    # Remove any zero-width characters like 'ㅤ'\n",
    "    tweet = re.sub(r'[\\u200B-\\u200D\\uFEFF\\u3164]+', '', tweet)\n",
    "    return tweet"
   ]
  },
  {
   "cell_type": "code",
   "execution_count": 38,
   "metadata": {},
   "outputs": [],
   "source": [
    "data['tweet'] = data['tweet'].apply(clean_tweet)"
   ]
  },
  {
   "cell_type": "code",
   "execution_count": 39,
   "metadata": {},
   "outputs": [
    {
     "data": {
      "text/plain": [
       "'Daripada makan siang gratis mendingan ini'"
      ]
     },
     "execution_count": 39,
     "metadata": {},
     "output_type": "execute_result"
    }
   ],
   "source": [
    "data.iloc[0,0]"
   ]
  },
  {
   "cell_type": "code",
   "execution_count": 40,
   "metadata": {},
   "outputs": [],
   "source": [
    "stop_words = set(stopwords.words(\"indonesian\"))"
   ]
  },
  {
   "cell_type": "code",
   "execution_count": 41,
   "metadata": {},
   "outputs": [],
   "source": [
    "factory = StemmerFactory()\n",
    "lemmatizer = factory.create_stemmer()"
   ]
  },
  {
   "cell_type": "code",
   "execution_count": 42,
   "metadata": {},
   "outputs": [],
   "source": [
    "def remove_stopwords(tweet):\n",
    "    tweet = tweet.lower()\n",
    "     #Tokenize and remove stop words\n",
    "    words = [word for word in tweet.split() if word not in stop_words]\n",
    "    # Apply lemmatization\n",
    "    lemmatized_words = [lemmatizer.stem(word) for word in words]\n",
    "    return ' '.join(lemmatized_words)"
   ]
  },
  {
   "cell_type": "code",
   "execution_count": 44,
   "metadata": {},
   "outputs": [],
   "source": [
    "data['tweet'] = data['tweet'].apply(remove_stopwords)"
   ]
  },
  {
   "cell_type": "code",
   "execution_count": 45,
   "metadata": {},
   "outputs": [
    {
     "data": {
      "text/html": [
       "<div>\n",
       "<style scoped>\n",
       "    .dataframe tbody tr th:only-of-type {\n",
       "        vertical-align: middle;\n",
       "    }\n",
       "\n",
       "    .dataframe tbody tr th {\n",
       "        vertical-align: top;\n",
       "    }\n",
       "\n",
       "    .dataframe thead th {\n",
       "        text-align: right;\n",
       "    }\n",
       "</style>\n",
       "<table border=\"1\" class=\"dataframe\">\n",
       "  <thead>\n",
       "    <tr style=\"text-align: right;\">\n",
       "      <th></th>\n",
       "      <th>tweet</th>\n",
       "    </tr>\n",
       "  </thead>\n",
       "  <tbody>\n",
       "    <tr>\n",
       "      <th>0</th>\n",
       "      <td>makan siang gratis mending</td>\n",
       "    </tr>\n",
       "    <tr>\n",
       "      <th>1</th>\n",
       "      <td>bela mbg bias kok lu lu gak anak2 sekolah bs m...</td>\n",
       "    </tr>\n",
       "    <tr>\n",
       "      <th>2</th>\n",
       "      <td>anggar dituruninnya ngopernya blog ya dicicipi...</td>\n",
       "    </tr>\n",
       "    <tr>\n",
       "      <th>3</th>\n",
       "      <td>karyawan industri cikarang makan siang jemput ...</td>\n",
       "    </tr>\n",
       "    <tr>\n",
       "      <th>4</th>\n",
       "      <td>ambil abang ya makan siang gratis nya abang ro...</td>\n",
       "    </tr>\n",
       "  </tbody>\n",
       "</table>\n",
       "</div>"
      ],
      "text/plain": [
       "                                               tweet\n",
       "0                         makan siang gratis mending\n",
       "1  bela mbg bias kok lu lu gak anak2 sekolah bs m...\n",
       "2  anggar dituruninnya ngopernya blog ya dicicipi...\n",
       "3  karyawan industri cikarang makan siang jemput ...\n",
       "4  ambil abang ya makan siang gratis nya abang ro..."
      ]
     },
     "execution_count": 45,
     "metadata": {},
     "output_type": "execute_result"
    }
   ],
   "source": [
    "data.head()"
   ]
  },
  {
   "cell_type": "code",
   "execution_count": 46,
   "metadata": {},
   "outputs": [],
   "source": [
    "# Define a regex pattern to keep rows that contain mainly alphabetic characters and spaces\n",
    "pattern = r'^[a-zA-Z\\s]+$'\n",
    "\n",
    "# Filter out rows that don't match this pattern\n",
    "data = data[data['tweet'].str.match(pattern, na=False)]"
   ]
  },
  {
   "cell_type": "code",
   "execution_count": 55,
   "metadata": {},
   "outputs": [],
   "source": [
    "data['label'] = \"\""
   ]
  },
  {
   "cell_type": "code",
   "execution_count": 56,
   "metadata": {},
   "outputs": [
    {
     "data": {
      "text/html": [
       "<div>\n",
       "<style scoped>\n",
       "    .dataframe tbody tr th:only-of-type {\n",
       "        vertical-align: middle;\n",
       "    }\n",
       "\n",
       "    .dataframe tbody tr th {\n",
       "        vertical-align: top;\n",
       "    }\n",
       "\n",
       "    .dataframe thead th {\n",
       "        text-align: right;\n",
       "    }\n",
       "</style>\n",
       "<table border=\"1\" class=\"dataframe\">\n",
       "  <thead>\n",
       "    <tr style=\"text-align: right;\">\n",
       "      <th></th>\n",
       "      <th>tweet</th>\n",
       "      <th>label</th>\n",
       "    </tr>\n",
       "  </thead>\n",
       "  <tbody>\n",
       "    <tr>\n",
       "      <th>0</th>\n",
       "      <td>makan siang gratis mending</td>\n",
       "      <td></td>\n",
       "    </tr>\n",
       "    <tr>\n",
       "      <th>2</th>\n",
       "      <td>anggar dituruninnya ngopernya blog ya dicicipi...</td>\n",
       "      <td></td>\n",
       "    </tr>\n",
       "    <tr>\n",
       "      <th>3</th>\n",
       "      <td>karyawan industri cikarang makan siang jemput ...</td>\n",
       "      <td></td>\n",
       "    </tr>\n",
       "    <tr>\n",
       "      <th>4</th>\n",
       "      <td>ambil abang ya makan siang gratis nya abang ro...</td>\n",
       "      <td></td>\n",
       "    </tr>\n",
       "    <tr>\n",
       "      <th>5</th>\n",
       "      <td>ampe males gua ngomenin wasit model gtuan ksi ...</td>\n",
       "      <td></td>\n",
       "    </tr>\n",
       "  </tbody>\n",
       "</table>\n",
       "</div>"
      ],
      "text/plain": [
       "                                               tweet label\n",
       "0                         makan siang gratis mending      \n",
       "2  anggar dituruninnya ngopernya blog ya dicicipi...      \n",
       "3  karyawan industri cikarang makan siang jemput ...      \n",
       "4  ambil abang ya makan siang gratis nya abang ro...      \n",
       "5  ampe males gua ngomenin wasit model gtuan ksi ...      "
      ]
     },
     "execution_count": 56,
     "metadata": {},
     "output_type": "execute_result"
    }
   ],
   "source": [
    "data.head()"
   ]
  },
  {
   "cell_type": "code",
   "execution_count": 57,
   "metadata": {},
   "outputs": [],
   "source": [
    "data.to_csv(\"datamakansianggratis.csv\", index=False)"
   ]
  }
 ],
 "metadata": {
  "kernelspec": {
   "display_name": "Python 3",
   "language": "python",
   "name": "python3"
  },
  "language_info": {
   "codemirror_mode": {
    "name": "ipython",
    "version": 3
   },
   "file_extension": ".py",
   "mimetype": "text/x-python",
   "name": "python",
   "nbconvert_exporter": "python",
   "pygments_lexer": "ipython3",
   "version": "3.12.9"
  }
 },
 "nbformat": 4,
 "nbformat_minor": 2
}
