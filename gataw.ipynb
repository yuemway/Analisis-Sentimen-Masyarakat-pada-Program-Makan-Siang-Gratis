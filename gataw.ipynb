{
 "cells": [
  {
   "cell_type": "code",
   "execution_count": 87,
   "id": "fa0d2c37",
   "metadata": {},
   "outputs": [],
   "source": [
    "import pandas as pd"
   ]
  },
  {
   "cell_type": "code",
   "execution_count": 88,
   "id": "b3e60465",
   "metadata": {},
   "outputs": [],
   "source": [
    "datambg = pd.read_csv(\"datalabel/mbglabel.csv\")"
   ]
  },
  {
   "cell_type": "code",
   "execution_count": 89,
   "id": "5a53dcd4",
   "metadata": {},
   "outputs": [],
   "source": [
    "datasarc = pd.read_csv(\"datalabel/sarcasticlabel.csv\")"
   ]
  },
  {
   "cell_type": "code",
   "execution_count": 90,
   "id": "68cef673",
   "metadata": {},
   "outputs": [],
   "source": [
    "datatrainmix = pd.concat([datambg, datasarc], ignore_index=True)"
   ]
  },
  {
   "cell_type": "code",
   "execution_count": 91,
   "id": "ab383927",
   "metadata": {},
   "outputs": [
    {
     "data": {
      "text/html": [
       "<div>\n",
       "<style scoped>\n",
       "    .dataframe tbody tr th:only-of-type {\n",
       "        vertical-align: middle;\n",
       "    }\n",
       "\n",
       "    .dataframe tbody tr th {\n",
       "        vertical-align: top;\n",
       "    }\n",
       "\n",
       "    .dataframe thead th {\n",
       "        text-align: right;\n",
       "    }\n",
       "</style>\n",
       "<table border=\"1\" class=\"dataframe\">\n",
       "  <thead>\n",
       "    <tr style=\"text-align: right;\">\n",
       "      <th></th>\n",
       "      <th>steming_data</th>\n",
       "      <th>Sentiment</th>\n",
       "    </tr>\n",
       "  </thead>\n",
       "  <tbody>\n",
       "    <tr>\n",
       "      <th>0</th>\n",
       "      <td>makan siang gratis mending</td>\n",
       "      <td>Positif</td>\n",
       "    </tr>\n",
       "    <tr>\n",
       "      <th>1</th>\n",
       "      <td>bela mbak bias sekolah makan siang gratis pas ...</td>\n",
       "      <td>Positif</td>\n",
       "    </tr>\n",
       "    <tr>\n",
       "      <th>2</th>\n",
       "      <td>anggar dituruninnya ngopernya blog ya dicicipi...</td>\n",
       "      <td>Positif</td>\n",
       "    </tr>\n",
       "    <tr>\n",
       "      <th>3</th>\n",
       "      <td>karyawan industri cikarang makan siang jemput ...</td>\n",
       "      <td>Positif</td>\n",
       "    </tr>\n",
       "    <tr>\n",
       "      <th>4</th>\n",
       "      <td>ambil abang ya makan siang gratis ya abang rol...</td>\n",
       "      <td>Positif</td>\n",
       "    </tr>\n",
       "  </tbody>\n",
       "</table>\n",
       "</div>"
      ],
      "text/plain": [
       "                                        steming_data Sentiment\n",
       "0                         makan siang gratis mending   Positif\n",
       "1  bela mbak bias sekolah makan siang gratis pas ...   Positif\n",
       "2  anggar dituruninnya ngopernya blog ya dicicipi...   Positif\n",
       "3  karyawan industri cikarang makan siang jemput ...   Positif\n",
       "4  ambil abang ya makan siang gratis ya abang rol...   Positif"
      ]
     },
     "execution_count": 91,
     "metadata": {},
     "output_type": "execute_result"
    }
   ],
   "source": [
    "datatrainmix.head()"
   ]
  },
  {
   "cell_type": "markdown",
   "id": "32d4b629",
   "metadata": {},
   "source": [
    "## ***Bidirectional LSTM***"
   ]
  },
  {
   "cell_type": "code",
   "execution_count": 92,
   "id": "db5afd91",
   "metadata": {},
   "outputs": [],
   "source": [
    "from sklearn.model_selection import train_test_split\n",
    "from tensorflow.keras.models import Sequential\n",
    "from tensorflow.keras.layers import Dense, Embedding, GlobalAveragePooling1D, Dropout, LSTM, Bidirectional, Input, GlobalMaxPooling1D\n",
    "from tensorflow.keras.optimizers import RMSprop, Adam\n",
    "from tensorflow.keras.preprocessing.text import Tokenizer\n",
    "from tensorflow.keras.preprocessing.sequence import pad_sequences\n",
    "from tensorflow.keras.regularizers import l2\n",
    "from tensorflow.keras.callbacks import EarlyStopping\n",
    "from tensorflow.keras.utils import to_categorical"
   ]
  },
  {
   "cell_type": "code",
   "execution_count": 93,
   "id": "4e53c18e",
   "metadata": {},
   "outputs": [
    {
     "data": {
      "text/plain": [
       "0                              makan siang gratis mending\n",
       "1       bela mbak bias sekolah makan siang gratis pas ...\n",
       "2       anggar dituruninnya ngopernya blog ya dicicipi...\n",
       "3       karyawan industri cikarang makan siang jemput ...\n",
       "4       ambil abang ya makan siang gratis ya abang rol...\n",
       "                              ...                        \n",
       "9835    hasil itjima ulama agama nihil orang username ...\n",
       "9836    ciyee tani bawang nih ya sandiwara fazdlizonk ...\n",
       "9837    username wuih capres keren pakai jas besok pil...\n",
       "9838    username welcome indonesia sedih banget adaaa ...\n",
       "9839       terimakasih kasih libur gratis hashtag hashtag\n",
       "Name: steming_data, Length: 9840, dtype: object"
      ]
     },
     "execution_count": 93,
     "metadata": {},
     "output_type": "execute_result"
    }
   ],
   "source": [
    "X = datatrainmix['steming_data']\n",
    "X"
   ]
  },
  {
   "cell_type": "code",
   "execution_count": 94,
   "id": "62965576",
   "metadata": {},
   "outputs": [
    {
     "data": {
      "text/plain": [
       "['Positif', 'Negatif', 'Netral']"
      ]
     },
     "execution_count": 94,
     "metadata": {},
     "output_type": "execute_result"
    }
   ],
   "source": [
    "categories = datatrainmix['Sentiment'].unique().tolist()\n",
    "categories"
   ]
  },
  {
   "cell_type": "code",
   "execution_count": 95,
   "id": "622ba693",
   "metadata": {},
   "outputs": [],
   "source": [
    "# Create a mapping dictionary\n",
    "category_to_number = {category: index for index, category in enumerate(categories)}\n",
    "# Assuming 'data' is your DataFrame and 'category' is the column\n",
    "datatrainmix['numbered_category'] = datatrainmix['Sentiment'].map(category_to_number)"
   ]
  },
  {
   "cell_type": "code",
   "execution_count": 96,
   "id": "51db0426",
   "metadata": {},
   "outputs": [
    {
     "data": {
      "text/plain": [
       "array([[1., 0., 0.],\n",
       "       [1., 0., 0.],\n",
       "       [1., 0., 0.],\n",
       "       ...,\n",
       "       [0., 1., 0.],\n",
       "       [0., 1., 0.],\n",
       "       [0., 1., 0.]])"
      ]
     },
     "execution_count": 96,
     "metadata": {},
     "output_type": "execute_result"
    }
   ],
   "source": [
    "y = datatrainmix['numbered_category']\n",
    "y_one_hot = to_categorical(y, num_classes=3)\n",
    "y_one_hot"
   ]
  },
  {
   "cell_type": "code",
   "execution_count": 97,
   "id": "24d65ae2",
   "metadata": {},
   "outputs": [],
   "source": [
    "X_train, X_val, y_train, y_val = train_test_split(X, y_one_hot, test_size=0.2, random_state=5)"
   ]
  },
  {
   "cell_type": "code",
   "execution_count": 98,
   "id": "0e7b7c76",
   "metadata": {},
   "outputs": [],
   "source": [
    "tokenizer = Tokenizer(num_words=15000)\n",
    "tokenizer.fit_on_texts(X_train)"
   ]
  },
  {
   "cell_type": "code",
   "execution_count": 99,
   "id": "cbe8da53",
   "metadata": {},
   "outputs": [],
   "source": [
    "vocab_size = len(tokenizer.word_index)+1"
   ]
  },
  {
   "cell_type": "code",
   "execution_count": 100,
   "id": "e400914d",
   "metadata": {},
   "outputs": [
    {
     "data": {
      "text/plain": [
       "247"
      ]
     },
     "execution_count": 100,
     "metadata": {},
     "output_type": "execute_result"
    }
   ],
   "source": [
    "max_length = datatrainmix['steming_data'].apply(len).max()\n",
    "max_length"
   ]
  },
  {
   "cell_type": "code",
   "execution_count": 101,
   "id": "d5f9cc24",
   "metadata": {},
   "outputs": [
    {
     "data": {
      "text/plain": [
       "(7872, 247)"
      ]
     },
     "execution_count": 101,
     "metadata": {},
     "output_type": "execute_result"
    }
   ],
   "source": [
    "X_train_seq = tokenizer.texts_to_sequences(X_train)\n",
    "X_train_pad = pad_sequences(X_train_seq, maxlen=max_length, padding='post')\n",
    "X_train_pad.shape"
   ]
  },
  {
   "cell_type": "code",
   "execution_count": 102,
   "id": "c68308fb",
   "metadata": {},
   "outputs": [
    {
     "data": {
      "text/plain": [
       "(1968, 247)"
      ]
     },
     "execution_count": 102,
     "metadata": {},
     "output_type": "execute_result"
    }
   ],
   "source": [
    "X_val_seq = tokenizer.texts_to_sequences(X_val)\n",
    "X_val_pad = pad_sequences(X_val_seq, maxlen=max_length, padding='post')\n",
    "X_val_pad.shape"
   ]
  },
  {
   "cell_type": "code",
   "execution_count": 103,
   "id": "26f99fce",
   "metadata": {},
   "outputs": [],
   "source": [
    "import tensorflow as tf\n",
    "class F1Score(tf.keras.metrics.Metric):\n",
    "    def __init__(self, name=\"f1_score\", **kwargs):\n",
    "        super(F1Score, self).__init__(name=name, **kwargs)\n",
    "        self.precision = tf.keras.metrics.Precision()\n",
    "        self.recall = tf.keras.metrics.Recall()\n",
    "\n",
    "    def update_state(self, y_true, y_pred, sample_weight=None):\n",
    "        self.precision.update_state(y_true, y_pred, sample_weight)\n",
    "        self.recall.update_state(y_true, y_pred, sample_weight)\n",
    "\n",
    "    def result(self):\n",
    "        precision = self.precision.result()\n",
    "        recall = self.recall.result()\n",
    "        f1 = 2 * (precision * recall) / (precision + recall + tf.keras.backend.epsilon())\n",
    "        return f1\n",
    "\n",
    "    def reset_states(self):\n",
    "        self.precision.reset_states()\n",
    "        self.recall.reset_states()"
   ]
  },
  {
   "cell_type": "code",
   "execution_count": 104,
   "id": "14134657",
   "metadata": {},
   "outputs": [],
   "source": [
    "# Define the model\n",
    "model = Sequential([\n",
    "    Input(shape=(max_length,) ),\n",
    "    # Embedding layer with input_dim (vocab size) and output_dim (embedding size)\n",
    "    Embedding(input_dim=vocab_size, output_dim=16),  # 1500 words, 8-dimensional vectors\n",
    "\n",
    "    # Bidirectional LSTM layer (LSTM layer wrapped in Bidirectional for better context)\n",
    "    Bidirectional(LSTM(32, return_sequences=False, dropout=0.5, recurrent_dropout=0.3)),\n",
    "    #Bidirectional(LSTM(16, return_sequences=False, dropout=0.2, recurrent_dropout=0.2)),\n",
    "\n",
    "    # Dropout layer to prevent overfitting\n",
    "    Dropout(0.5),  # 50% dropout rate\n",
    "\n",
    "    # Dense layer with L2 regularization\n",
    "    #Dense(32, activation='relu', kernel_regularizer=l2(0.01)),\n",
    "    # Dense layer with L2 regularization\n",
    "    Dense(16, activation='relu', kernel_regularizer=l2(0.01)),\n",
    "\n",
    "    # # Dropout to further regularize the model\n",
    "    # Dropout(0.5),  # 50% dropout rate\n",
    "\n",
    "    # Output layer for binary classification (1 output neuron)\n",
    "    Dense(3, activation='softmax')  \n",
    "])"
   ]
  },
  {
   "cell_type": "code",
   "execution_count": 105,
   "id": "efcb23fc",
   "metadata": {},
   "outputs": [],
   "source": [
    "model.compile(optimizer=Adam(learning_rate=0.001), loss='categorical_crossentropy', metrics=['categorical_accuracy', F1Score()])"
   ]
  },
  {
   "cell_type": "code",
   "execution_count": 106,
   "id": "dd060769",
   "metadata": {},
   "outputs": [
    {
     "data": {
      "text/html": [
       "<pre style=\"white-space:pre;overflow-x:auto;line-height:normal;font-family:Menlo,'DejaVu Sans Mono',consolas,'Courier New',monospace\"><span style=\"font-weight: bold\">Model: \"sequential_1\"</span>\n",
       "</pre>\n"
      ],
      "text/plain": [
       "\u001b[1mModel: \"sequential_1\"\u001b[0m\n"
      ]
     },
     "metadata": {},
     "output_type": "display_data"
    },
    {
     "data": {
      "text/html": [
       "<pre style=\"white-space:pre;overflow-x:auto;line-height:normal;font-family:Menlo,'DejaVu Sans Mono',consolas,'Courier New',monospace\">┏━━━━━━━━━━━━━━━━━━━━━━━━━━━━━━━━━┳━━━━━━━━━━━━━━━━━━━━━━━━┳━━━━━━━━━━━━━━━┓\n",
       "┃<span style=\"font-weight: bold\"> Layer (type)                    </span>┃<span style=\"font-weight: bold\"> Output Shape           </span>┃<span style=\"font-weight: bold\">       Param # </span>┃\n",
       "┡━━━━━━━━━━━━━━━━━━━━━━━━━━━━━━━━━╇━━━━━━━━━━━━━━━━━━━━━━━━╇━━━━━━━━━━━━━━━┩\n",
       "│ embedding_1 (<span style=\"color: #0087ff; text-decoration-color: #0087ff\">Embedding</span>)         │ (<span style=\"color: #00d7ff; text-decoration-color: #00d7ff\">None</span>, <span style=\"color: #00af00; text-decoration-color: #00af00\">247</span>, <span style=\"color: #00af00; text-decoration-color: #00af00\">16</span>)        │       <span style=\"color: #00af00; text-decoration-color: #00af00\">191,008</span> │\n",
       "├─────────────────────────────────┼────────────────────────┼───────────────┤\n",
       "│ bidirectional_1 (<span style=\"color: #0087ff; text-decoration-color: #0087ff\">Bidirectional</span>) │ (<span style=\"color: #00d7ff; text-decoration-color: #00d7ff\">None</span>, <span style=\"color: #00af00; text-decoration-color: #00af00\">64</span>)             │        <span style=\"color: #00af00; text-decoration-color: #00af00\">12,544</span> │\n",
       "├─────────────────────────────────┼────────────────────────┼───────────────┤\n",
       "│ dropout_1 (<span style=\"color: #0087ff; text-decoration-color: #0087ff\">Dropout</span>)             │ (<span style=\"color: #00d7ff; text-decoration-color: #00d7ff\">None</span>, <span style=\"color: #00af00; text-decoration-color: #00af00\">64</span>)             │             <span style=\"color: #00af00; text-decoration-color: #00af00\">0</span> │\n",
       "├─────────────────────────────────┼────────────────────────┼───────────────┤\n",
       "│ dense_2 (<span style=\"color: #0087ff; text-decoration-color: #0087ff\">Dense</span>)                 │ (<span style=\"color: #00d7ff; text-decoration-color: #00d7ff\">None</span>, <span style=\"color: #00af00; text-decoration-color: #00af00\">16</span>)             │         <span style=\"color: #00af00; text-decoration-color: #00af00\">1,040</span> │\n",
       "├─────────────────────────────────┼────────────────────────┼───────────────┤\n",
       "│ dense_3 (<span style=\"color: #0087ff; text-decoration-color: #0087ff\">Dense</span>)                 │ (<span style=\"color: #00d7ff; text-decoration-color: #00d7ff\">None</span>, <span style=\"color: #00af00; text-decoration-color: #00af00\">3</span>)              │            <span style=\"color: #00af00; text-decoration-color: #00af00\">51</span> │\n",
       "└─────────────────────────────────┴────────────────────────┴───────────────┘\n",
       "</pre>\n"
      ],
      "text/plain": [
       "┏━━━━━━━━━━━━━━━━━━━━━━━━━━━━━━━━━┳━━━━━━━━━━━━━━━━━━━━━━━━┳━━━━━━━━━━━━━━━┓\n",
       "┃\u001b[1m \u001b[0m\u001b[1mLayer (type)                   \u001b[0m\u001b[1m \u001b[0m┃\u001b[1m \u001b[0m\u001b[1mOutput Shape          \u001b[0m\u001b[1m \u001b[0m┃\u001b[1m \u001b[0m\u001b[1m      Param #\u001b[0m\u001b[1m \u001b[0m┃\n",
       "┡━━━━━━━━━━━━━━━━━━━━━━━━━━━━━━━━━╇━━━━━━━━━━━━━━━━━━━━━━━━╇━━━━━━━━━━━━━━━┩\n",
       "│ embedding_1 (\u001b[38;5;33mEmbedding\u001b[0m)         │ (\u001b[38;5;45mNone\u001b[0m, \u001b[38;5;34m247\u001b[0m, \u001b[38;5;34m16\u001b[0m)        │       \u001b[38;5;34m191,008\u001b[0m │\n",
       "├─────────────────────────────────┼────────────────────────┼───────────────┤\n",
       "│ bidirectional_1 (\u001b[38;5;33mBidirectional\u001b[0m) │ (\u001b[38;5;45mNone\u001b[0m, \u001b[38;5;34m64\u001b[0m)             │        \u001b[38;5;34m12,544\u001b[0m │\n",
       "├─────────────────────────────────┼────────────────────────┼───────────────┤\n",
       "│ dropout_1 (\u001b[38;5;33mDropout\u001b[0m)             │ (\u001b[38;5;45mNone\u001b[0m, \u001b[38;5;34m64\u001b[0m)             │             \u001b[38;5;34m0\u001b[0m │\n",
       "├─────────────────────────────────┼────────────────────────┼───────────────┤\n",
       "│ dense_2 (\u001b[38;5;33mDense\u001b[0m)                 │ (\u001b[38;5;45mNone\u001b[0m, \u001b[38;5;34m16\u001b[0m)             │         \u001b[38;5;34m1,040\u001b[0m │\n",
       "├─────────────────────────────────┼────────────────────────┼───────────────┤\n",
       "│ dense_3 (\u001b[38;5;33mDense\u001b[0m)                 │ (\u001b[38;5;45mNone\u001b[0m, \u001b[38;5;34m3\u001b[0m)              │            \u001b[38;5;34m51\u001b[0m │\n",
       "└─────────────────────────────────┴────────────────────────┴───────────────┘\n"
      ]
     },
     "metadata": {},
     "output_type": "display_data"
    },
    {
     "data": {
      "text/html": [
       "<pre style=\"white-space:pre;overflow-x:auto;line-height:normal;font-family:Menlo,'DejaVu Sans Mono',consolas,'Courier New',monospace\"><span style=\"font-weight: bold\"> Total params: </span><span style=\"color: #00af00; text-decoration-color: #00af00\">204,643</span> (799.39 KB)\n",
       "</pre>\n"
      ],
      "text/plain": [
       "\u001b[1m Total params: \u001b[0m\u001b[38;5;34m204,643\u001b[0m (799.39 KB)\n"
      ]
     },
     "metadata": {},
     "output_type": "display_data"
    },
    {
     "data": {
      "text/html": [
       "<pre style=\"white-space:pre;overflow-x:auto;line-height:normal;font-family:Menlo,'DejaVu Sans Mono',consolas,'Courier New',monospace\"><span style=\"font-weight: bold\"> Trainable params: </span><span style=\"color: #00af00; text-decoration-color: #00af00\">204,643</span> (799.39 KB)\n",
       "</pre>\n"
      ],
      "text/plain": [
       "\u001b[1m Trainable params: \u001b[0m\u001b[38;5;34m204,643\u001b[0m (799.39 KB)\n"
      ]
     },
     "metadata": {},
     "output_type": "display_data"
    },
    {
     "data": {
      "text/html": [
       "<pre style=\"white-space:pre;overflow-x:auto;line-height:normal;font-family:Menlo,'DejaVu Sans Mono',consolas,'Courier New',monospace\"><span style=\"font-weight: bold\"> Non-trainable params: </span><span style=\"color: #00af00; text-decoration-color: #00af00\">0</span> (0.00 B)\n",
       "</pre>\n"
      ],
      "text/plain": [
       "\u001b[1m Non-trainable params: \u001b[0m\u001b[38;5;34m0\u001b[0m (0.00 B)\n"
      ]
     },
     "metadata": {},
     "output_type": "display_data"
    }
   ],
   "source": [
    "model.summary()"
   ]
  },
  {
   "cell_type": "code",
   "execution_count": 107,
   "id": "a221f2ff",
   "metadata": {},
   "outputs": [
    {
     "name": "stdout",
     "output_type": "stream",
     "text": [
      "Class Weight Dictionary: {0: 0.5199746353836399, 1: 1.550094517958412, 2: 2.3163841807909606}\n"
     ]
    }
   ],
   "source": [
    "from sklearn.utils.class_weight import compute_class_weight\n",
    "import numpy as np\n",
    "\n",
    "# Anda perlu mendapatkan label dalam bentuk angka (bukan one-hot) untuk menghitung bobot\n",
    "# Ambil dari kolom 'numbered_category' yang sudah Anda buat sebelumnya\n",
    "y_integers = datatrainmix['numbered_category'].values\n",
    "\n",
    "# Hitung bobot kelas\n",
    "class_weights = compute_class_weight(\n",
    "    class_weight='balanced',\n",
    "    classes=np.unique(y_integers),\n",
    "    y=y_integers\n",
    ")\n",
    "\n",
    "# Ubah menjadi format dictionary yang bisa dibaca Keras\n",
    "class_weight_dict = dict(enumerate(class_weights))\n",
    "\n",
    "print(\"Class Weight Dictionary:\", class_weight_dict)"
   ]
  },
  {
   "cell_type": "code",
   "execution_count": 108,
   "id": "ea8ef60e",
   "metadata": {},
   "outputs": [
    {
     "name": "stdout",
     "output_type": "stream",
     "text": [
      "Epoch 1/25\n",
      "\u001b[1m246/246\u001b[0m \u001b[32m━━━━━━━━━━━━━━━━━━━━\u001b[0m\u001b[37m\u001b[0m \u001b[1m22s\u001b[0m 60ms/step - categorical_accuracy: 0.3631 - f1_score: 0.0175 - loss: 1.2514 - val_categorical_accuracy: 0.6458 - val_f1_score: 0.0030 - val_loss: 1.0385 - learning_rate: 0.0010\n",
      "Epoch 2/25\n",
      "\u001b[1m246/246\u001b[0m \u001b[32m━━━━━━━━━━━━━━━━━━━━\u001b[0m\u001b[37m\u001b[0m \u001b[1m14s\u001b[0m 58ms/step - categorical_accuracy: 0.5721 - f1_score: 0.2504 - loss: 1.0126 - val_categorical_accuracy: 0.7556 - val_f1_score: 0.7269 - val_loss: 0.7296 - learning_rate: 0.0010\n",
      "Epoch 3/25\n",
      "\u001b[1m246/246\u001b[0m \u001b[32m━━━━━━━━━━━━━━━━━━━━\u001b[0m\u001b[37m\u001b[0m \u001b[1m14s\u001b[0m 59ms/step - categorical_accuracy: 0.7257 - f1_score: 0.6913 - loss: 0.7637 - val_categorical_accuracy: 0.7952 - val_f1_score: 0.7869 - val_loss: 0.6182 - learning_rate: 0.0010\n",
      "Epoch 4/25\n",
      "\u001b[1m246/246\u001b[0m \u001b[32m━━━━━━━━━━━━━━━━━━━━\u001b[0m\u001b[37m\u001b[0m \u001b[1m14s\u001b[0m 57ms/step - categorical_accuracy: 0.7618 - f1_score: 0.7534 - loss: 0.6537 - val_categorical_accuracy: 0.7856 - val_f1_score: 0.7817 - val_loss: 0.6160 - learning_rate: 0.0010\n",
      "Epoch 5/25\n",
      "\u001b[1m246/246\u001b[0m \u001b[32m━━━━━━━━━━━━━━━━━━━━\u001b[0m\u001b[37m\u001b[0m \u001b[1m14s\u001b[0m 58ms/step - categorical_accuracy: 0.7975 - f1_score: 0.7958 - loss: 0.5656 - val_categorical_accuracy: 0.8049 - val_f1_score: 0.8036 - val_loss: 0.5811 - learning_rate: 0.0010\n",
      "Epoch 6/25\n",
      "\u001b[1m246/246\u001b[0m \u001b[32m━━━━━━━━━━━━━━━━━━━━\u001b[0m\u001b[37m\u001b[0m \u001b[1m14s\u001b[0m 56ms/step - categorical_accuracy: 0.8453 - f1_score: 0.8446 - loss: 0.4571 - val_categorical_accuracy: 0.8049 - val_f1_score: 0.8045 - val_loss: 0.5880 - learning_rate: 0.0010\n",
      "Epoch 7/25\n",
      "\u001b[1m246/246\u001b[0m \u001b[32m━━━━━━━━━━━━━━━━━━━━\u001b[0m\u001b[37m\u001b[0m \u001b[1m16s\u001b[0m 66ms/step - categorical_accuracy: 0.8625 - f1_score: 0.8624 - loss: 0.4236 - val_categorical_accuracy: 0.8023 - val_f1_score: 0.8022 - val_loss: 0.5811 - learning_rate: 0.0010\n",
      "Epoch 8/25\n",
      "\u001b[1m246/246\u001b[0m \u001b[32m━━━━━━━━━━━━━━━━━━━━\u001b[0m\u001b[37m\u001b[0m \u001b[1m14s\u001b[0m 56ms/step - categorical_accuracy: 0.8839 - f1_score: 0.8843 - loss: 0.3542 - val_categorical_accuracy: 0.8059 - val_f1_score: 0.8062 - val_loss: 0.5952 - learning_rate: 5.0000e-04\n"
     ]
    }
   ],
   "source": [
    "from tensorflow.keras.callbacks import EarlyStopping, ReduceLROnPlateau\n",
    "\n",
    "# Early stopping to prevent overfitting\n",
    "early_stopping = EarlyStopping(monitor='val_loss', patience=3, restore_best_weights=True)\n",
    "\n",
    "# Reduce learning rate if validation loss plateaus\n",
    "reduce_lr = ReduceLROnPlateau(monitor='val_loss', factor=0.5, patience=2, min_lr=5e-4)\n",
    "\n",
    "# Train the model and store the history\n",
    "history = model.fit(\n",
    "    X_train_pad, y_train,  # Training data\n",
    "    validation_data=(X_val_pad, y_val),  # Validation data\n",
    "    epochs=25, \n",
    "    batch_size=32,\n",
    "    callbacks=[early_stopping, reduce_lr],\n",
    "    class_weight=class_weight_dict\n",
    ")"
   ]
  },
  {
   "cell_type": "code",
   "execution_count": 109,
   "id": "ed835a88",
   "metadata": {},
   "outputs": [
    {
     "name": "stdout",
     "output_type": "stream",
     "text": [
      "\u001b[1m62/62\u001b[0m \u001b[32m━━━━━━━━━━━━━━━━━━━━\u001b[0m\u001b[37m\u001b[0m \u001b[1m3s\u001b[0m 34ms/step\n",
      "Laporan Klasifikasi Bidirectional LSTM:\n",
      "\n",
      "              precision    recall  f1-score   support\n",
      "\n",
      "     Negatif       0.85      0.78      0.81       418\n",
      "      Netral       0.41      0.66      0.51       266\n",
      "     Positif       0.93      0.85      0.89      1284\n",
      "\n",
      "    accuracy                           0.80      1968\n",
      "   macro avg       0.73      0.76      0.74      1968\n",
      "weighted avg       0.85      0.80      0.82      1968\n",
      "\n"
     ]
    }
   ],
   "source": [
    "import matplotlib.pyplot as plt\n",
    "import seaborn as sns\n",
    "from sklearn.metrics import classification_report, confusion_matrix\n",
    "\n",
    "y_pred = model.predict(X_val_pad)\n",
    "\n",
    "y_pred_classes = np.argmax(y_pred, axis=1)\n",
    "y_true_classes = np.argmax(y_val, axis=1)\n",
    "\n",
    "class_names = ['Negatif', 'Netral', 'Positif']\n",
    "labels_ordered = [1, 2, 0]\n",
    "\n",
    "# Cetak Laporan Klasifikasi\n",
    "print(\"Laporan Klasifikasi Bidirectional LSTM:\\n\")\n",
    "print(classification_report(y_true_classes, y_pred_classes, target_names=class_names, labels=labels_ordered))"
   ]
  },
  {
   "cell_type": "code",
   "execution_count": 110,
   "id": "e162d66a",
   "metadata": {},
   "outputs": [
    {
     "data": {
      "image/png": "[encoded data removed]",
      "text/plain": [
       "<Figure size 800x600 with 2 Axes>"
      ]
     },
     "metadata": {},
     "output_type": "display_data"
    }
   ],
   "source": [
    "conf_matrix = confusion_matrix(y_true_classes, y_pred_classes, labels=labels_ordered)\n",
    "\n",
    "# Tampilkan heatmap dari confusion matrix\n",
    "plt.figure(figsize=(8, 6))\n",
    "sns.heatmap(conf_matrix, annot=True, fmt='d', cmap='Blues', xticklabels=class_names, yticklabels=class_names)\n",
    "plt.title('Confusion Matrix Bidirectional LSTM')\n",
    "plt.xlabel('Predicted Label')\n",
    "plt.ylabel('True Label')\n",
    "plt.show()"
   ]
  },
  {
   "cell_type": "code",
   "execution_count": 111,
   "id": "3f438a1c",
   "metadata": {},
   "outputs": [
    {
     "data": {
      "image/png": "[encoded data removed]",
      "text/plain": [
       "<Figure size 1200x1200 with 3 Axes>"
      ]
     },
     "metadata": {},
     "output_type": "display_data"
    }
   ],
   "source": [
    "import matplotlib.pyplot as plt\n",
    "\n",
    "# Plot the training and validation metrics\n",
    "plt.figure(figsize=(12, 12))\n",
    "\n",
    "# Plot Accuracy\n",
    "plt.subplot(2, 2, 1)\n",
    "plt.plot(history.history['categorical_accuracy'], label='Train Accuracy')\n",
    "plt.plot(history.history['val_categorical_accuracy'], label='Validation Accuracy')\n",
    "plt.title('Model Accuracy')\n",
    "plt.xlabel('Epochs')\n",
    "plt.ylabel('Accuracy')\n",
    "plt.legend()\n",
    "\n",
    "# Plot Loss\n",
    "plt.subplot(2, 2, 2)\n",
    "plt.plot(history.history['loss'], label='Train Loss')\n",
    "plt.plot(history.history['val_loss'], label='Validation Loss')\n",
    "plt.title('Model Loss')\n",
    "plt.xlabel('Epochs')\n",
    "plt.ylabel('Loss')\n",
    "plt.legend()\n",
    "\n",
    "# Plot F1-Score\n",
    "plt.subplot(2, 2, 3)\n",
    "plt.plot(history.history['f1_score'], label='Train F1-Score')\n",
    "plt.plot(history.history['val_f1_score'], label='Validation F1-Score')\n",
    "plt.title('Model F1-Score')\n",
    "plt.xlabel('Epochs')\n",
    "plt.ylabel('F1-Score')\n",
    "plt.legend()\n",
    "\n",
    "# Show the plots\n",
    "plt.tight_layout()\n",
    "plt.show()"
   ]
  },
  {
   "cell_type": "code",
   "execution_count": 112,
   "id": "580b0127",
   "metadata": {},
   "outputs": [
    {
     "name": "stderr",
     "output_type": "stream",
     "text": [
      "WARNING:absl:You are saving your model as an HDF5 file via `model.save()` or `keras.saving.save_model(model)`. This file format is considered legacy. We recommend using instead the native Keras format, e.g. `model.save('my_model.keras')` or `keras.saving.save_model(model, 'my_model.keras')`. \n"
     ]
    }
   ],
   "source": [
    "# Save the model in SavedModel format\n",
    "model.save('bidirectional_lstm/bidirectional_lstm_model.h5')"
   ]
  },
  {
   "cell_type": "code",
   "execution_count": 113,
   "id": "6f800032",
   "metadata": {},
   "outputs": [],
   "source": [
    "import json\n",
    "# Save the word index\n",
    "with open('bidirectional_lstm/word_index.json', 'w') as file:\n",
    "    json.dump(tokenizer.word_index, file)"
   ]
  },
  {
   "cell_type": "markdown",
   "id": "cc5c2430",
   "metadata": {},
   "source": [
    "## ***Test***"
   ]
  },
  {
   "cell_type": "code",
   "execution_count": 114,
   "id": "0437e77c",
   "metadata": {},
   "outputs": [],
   "source": [
    "df = pd.read_csv('datalabel/mbglabel.csv')"
   ]
  },
  {
   "cell_type": "code",
   "execution_count": 119,
   "id": "e8ec61e0",
   "metadata": {},
   "outputs": [],
   "source": [
    "with open('bidirectional_lstm/word_index.json', 'r', encoding='utf-8') as f:\n",
    "    word_index = json.load(f)\n",
    "\n",
    "def tokenize_tweet(steming_data):\n",
    "    words = steming_data.split(' ')\n",
    "    tokenized_tweet = [word_index.get(word, 0) for word in words]\n",
    "    return tokenized_tweet\n",
    "\n",
    "# Tokenize each complaint\n",
    "df['tokenized_tweet'] = df['steming_data'].apply(tokenize_tweet)"
   ]
  },
  {
   "cell_type": "code",
   "execution_count": 120,
   "id": "1a1a9851",
   "metadata": {},
   "outputs": [],
   "source": [
    "X = df['steming_data']"
   ]
  },
  {
   "cell_type": "code",
   "execution_count": 121,
   "id": "b6646cfc",
   "metadata": {},
   "outputs": [],
   "source": [
    "X_train_seq = tokenizer.texts_to_sequences(X)\n",
    "X_train_pad = pad_sequences(X_train_seq, maxlen=max_length)"
   ]
  },
  {
   "cell_type": "code",
   "execution_count": 122,
   "id": "3366f338",
   "metadata": {},
   "outputs": [
    {
     "name": "stdout",
     "output_type": "stream",
     "text": [
      "\u001b[1m287/287\u001b[0m \u001b[32m━━━━━━━━━━━━━━━━━━━━\u001b[0m\u001b[37m\u001b[0m \u001b[1m5s\u001b[0m 16ms/step\n"
     ]
    }
   ],
   "source": [
    "y = model.predict(X_train_pad)"
   ]
  },
  {
   "cell_type": "code",
   "execution_count": 123,
   "id": "67af1246",
   "metadata": {},
   "outputs": [
    {
     "data": {
      "text/plain": [
       "array([   0,    1,    2, ..., 9166, 9167, 9168], dtype=int64)"
      ]
     },
     "execution_count": 123,
     "metadata": {},
     "output_type": "execute_result"
    }
   ],
   "source": [
    "indices = np.where(y >= 0.5)[0]\n",
    "indices"
   ]
  },
  {
   "cell_type": "code",
   "execution_count": 124,
   "id": "2d9fdaa1",
   "metadata": {},
   "outputs": [
    {
     "data": {
      "text/html": [
       "<div>\n",
       "<style scoped>\n",
       "    .dataframe tbody tr th:only-of-type {\n",
       "        vertical-align: middle;\n",
       "    }\n",
       "\n",
       "    .dataframe tbody tr th {\n",
       "        vertical-align: top;\n",
       "    }\n",
       "\n",
       "    .dataframe thead th {\n",
       "        text-align: right;\n",
       "    }\n",
       "</style>\n",
       "<table border=\"1\" class=\"dataframe\">\n",
       "  <thead>\n",
       "    <tr style=\"text-align: right;\">\n",
       "      <th></th>\n",
       "      <th>steming_data</th>\n",
       "      <th>Sentiment</th>\n",
       "      <th>tokenized_tweet</th>\n",
       "    </tr>\n",
       "  </thead>\n",
       "  <tbody>\n",
       "    <tr>\n",
       "      <th>0</th>\n",
       "      <td>makan siang gratis mending</td>\n",
       "      <td>Positif</td>\n",
       "      <td>[1, 3, 2, 38]</td>\n",
       "    </tr>\n",
       "    <tr>\n",
       "      <th>1</th>\n",
       "      <td>bela mbak bias sekolah makan siang gratis pas ...</td>\n",
       "      <td>Positif</td>\n",
       "      <td>[286, 94, 2119, 8, 1, 3, 2, 80, 240, 1255, 19,...</td>\n",
       "    </tr>\n",
       "    <tr>\n",
       "      <th>2</th>\n",
       "      <td>anggar dituruninnya ngopernya blog ya dicicipi...</td>\n",
       "      <td>Positif</td>\n",
       "      <td>[24, 6346, 6347, 3906, 5, 6348, 9, 1, 3, 2]</td>\n",
       "    </tr>\n",
       "    <tr>\n",
       "      <th>3</th>\n",
       "      <td>karyawan industri cikarang makan siang jemput ...</td>\n",
       "      <td>Positif</td>\n",
       "      <td>[1051, 2095, 4038, 1, 3, 3352, 185, 2223, 660,...</td>\n",
       "    </tr>\n",
       "    <tr>\n",
       "      <th>4</th>\n",
       "      <td>ambil abang ya makan siang gratis ya abang rol...</td>\n",
       "      <td>Positif</td>\n",
       "      <td>[130, 170, 5, 1, 3, 2, 5, 170, 7497, 7498]</td>\n",
       "    </tr>\n",
       "    <tr>\n",
       "      <th>...</th>\n",
       "      <td>...</td>\n",
       "      <td>...</td>\n",
       "      <td>...</td>\n",
       "    </tr>\n",
       "    <tr>\n",
       "      <th>9164</th>\n",
       "      <td>usaha pulih sebentar program makan siang grati...</td>\n",
       "      <td>Netral</td>\n",
       "      <td>[247, 2232, 2233, 4, 1, 3, 2, 1088]</td>\n",
       "    </tr>\n",
       "    <tr>\n",
       "      <th>9165</th>\n",
       "      <td>status program makan siang gratis sumber dana ...</td>\n",
       "      <td>Negatif</td>\n",
       "      <td>[1324, 4, 1, 3, 2, 273, 18, 129, 129, 148, 175...</td>\n",
       "    </tr>\n",
       "    <tr>\n",
       "      <th>9166</th>\n",
       "      <td>pemkab bima tunggu teknik program makan siang ...</td>\n",
       "      <td>Netral</td>\n",
       "      <td>[2831, 11902, 210, 4629, 4, 1, 3, 2]</td>\n",
       "    </tr>\n",
       "    <tr>\n",
       "      <th>9167</th>\n",
       "      <td>program makan siang gizi gratis sumbar januari</td>\n",
       "      <td>Positif</td>\n",
       "      <td>[4, 1, 3, 6, 2, 3599, 803]</td>\n",
       "    </tr>\n",
       "    <tr>\n",
       "      <th>9168</th>\n",
       "      <td>tahan menteri alas super tolol menteri kabinet...</td>\n",
       "      <td>Netral</td>\n",
       "      <td>[182, 189, 346, 986, 137, 189, 164, 8450, 242,...</td>\n",
       "    </tr>\n",
       "  </tbody>\n",
       "</table>\n",
       "<p>9169 rows × 3 columns</p>\n",
       "</div>"
      ],
      "text/plain": [
       "                                           steming_data Sentiment  \\\n",
       "0                            makan siang gratis mending   Positif   \n",
       "1     bela mbak bias sekolah makan siang gratis pas ...   Positif   \n",
       "2     anggar dituruninnya ngopernya blog ya dicicipi...   Positif   \n",
       "3     karyawan industri cikarang makan siang jemput ...   Positif   \n",
       "4     ambil abang ya makan siang gratis ya abang rol...   Positif   \n",
       "...                                                 ...       ...   \n",
       "9164  usaha pulih sebentar program makan siang grati...    Netral   \n",
       "9165  status program makan siang gratis sumber dana ...   Negatif   \n",
       "9166  pemkab bima tunggu teknik program makan siang ...    Netral   \n",
       "9167     program makan siang gizi gratis sumbar januari   Positif   \n",
       "9168  tahan menteri alas super tolol menteri kabinet...    Netral   \n",
       "\n",
       "                                        tokenized_tweet  \n",
       "0                                         [1, 3, 2, 38]  \n",
       "1     [286, 94, 2119, 8, 1, 3, 2, 80, 240, 1255, 19,...  \n",
       "2           [24, 6346, 6347, 3906, 5, 6348, 9, 1, 3, 2]  \n",
       "3     [1051, 2095, 4038, 1, 3, 3352, 185, 2223, 660,...  \n",
       "4            [130, 170, 5, 1, 3, 2, 5, 170, 7497, 7498]  \n",
       "...                                                 ...  \n",
       "9164                [247, 2232, 2233, 4, 1, 3, 2, 1088]  \n",
       "9165  [1324, 4, 1, 3, 2, 273, 18, 129, 129, 148, 175...  \n",
       "9166               [2831, 11902, 210, 4629, 4, 1, 3, 2]  \n",
       "9167                         [4, 1, 3, 6, 2, 3599, 803]  \n",
       "9168  [182, 189, 346, 986, 137, 189, 164, 8450, 242,...  \n",
       "\n",
       "[9169 rows x 3 columns]"
      ]
     },
     "execution_count": 124,
     "metadata": {},
     "output_type": "execute_result"
    }
   ],
   "source": [
    "filtered_df = df.iloc[indices]\n",
    "filtered_df"
   ]
  },
  {
   "cell_type": "code",
   "execution_count": 125,
   "id": "6d92d3e4",
   "metadata": {},
   "outputs": [],
   "source": [
    "filtered_df.to_csv('pusingsay.csv', index=False)"
   ]
  }
 ],
 "metadata": {
  "kernelspec": {
   "display_name": "base",
   "language": "python",
   "name": "python3"
  },
  "language_info": {
   "codemirror_mode": {
    "name": "ipython",
    "version": 3
   },
   "file_extension": ".py",
   "mimetype": "text/x-python",
   "name": "python",
   "nbconvert_exporter": "python",
   "pygments_lexer": "ipython3",
   "version": "3.12.7"
  }
 },
 "nbformat": 4,
 "nbformat_minor": 5
}
